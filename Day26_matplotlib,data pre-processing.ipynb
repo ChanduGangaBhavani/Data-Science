{
 "cells": [
  {
   "cell_type": "code",
   "execution_count": 1,
   "metadata": {},
   "outputs": [],
   "source": [
    "import matplotlib.pyplot as plt"
   ]
  },
  {
   "cell_type": "code",
   "execution_count": 2,
   "metadata": {},
   "outputs": [
    {
     "data": {
      "text/plain": [
       "['Annotation',\n",
       " 'Arrow',\n",
       " 'Artist',\n",
       " 'AutoLocator',\n",
       " 'Axes',\n",
       " 'Button',\n",
       " 'Circle',\n",
       " 'Figure',\n",
       " 'FigureCanvasBase',\n",
       " 'FixedFormatter',\n",
       " 'FixedLocator',\n",
       " 'FormatStrFormatter',\n",
       " 'Formatter',\n",
       " 'FuncFormatter',\n",
       " 'GridSpec',\n",
       " 'IndexLocator',\n",
       " 'Line2D',\n",
       " 'LinearLocator',\n",
       " 'Locator',\n",
       " 'LogFormatter',\n",
       " 'LogFormatterExponent',\n",
       " 'LogFormatterMathtext',\n",
       " 'LogLocator',\n",
       " 'MaxNLocator',\n",
       " 'MouseButton',\n",
       " 'MultipleLocator',\n",
       " 'Normalize',\n",
       " 'NullFormatter',\n",
       " 'NullLocator',\n",
       " 'Number',\n",
       " 'PolarAxes',\n",
       " 'Polygon',\n",
       " 'Rectangle',\n",
       " 'ScalarFormatter',\n",
       " 'Slider',\n",
       " 'Subplot',\n",
       " 'SubplotTool',\n",
       " 'Text',\n",
       " 'TickHelper',\n",
       " 'Widget',\n",
       " '_INSTALL_FIG_OBSERVER',\n",
       " '_IP_REGISTERED',\n",
       " '__builtins__',\n",
       " '__cached__',\n",
       " '__doc__',\n",
       " '__file__',\n",
       " '__loader__',\n",
       " '__name__',\n",
       " '__package__',\n",
       " '__spec__',\n",
       " '_auto_draw_if_interactive',\n",
       " '_backend_mod',\n",
       " '_code_objs',\n",
       " '_copy_docstring_and_deprecators',\n",
       " '_get_required_interactive_framework',\n",
       " '_interactive_bk',\n",
       " '_log',\n",
       " '_pylab_helpers',\n",
       " '_setup_pyplot_info_docstrings',\n",
       " '_warn_if_gui_out_of_main_thread',\n",
       " '_xkcd',\n",
       " 'acorr',\n",
       " 'angle_spectrum',\n",
       " 'annotate',\n",
       " 'arrow',\n",
       " 'autoscale',\n",
       " 'autumn',\n",
       " 'axes',\n",
       " 'axhline',\n",
       " 'axhspan',\n",
       " 'axis',\n",
       " 'axline',\n",
       " 'axvline',\n",
       " 'axvspan',\n",
       " 'bar',\n",
       " 'barbs',\n",
       " 'barh',\n",
       " 'bone',\n",
       " 'box',\n",
       " 'boxplot',\n",
       " 'broken_barh',\n",
       " 'cbook',\n",
       " 'cla',\n",
       " 'clabel',\n",
       " 'clf',\n",
       " 'clim',\n",
       " 'close',\n",
       " 'cm',\n",
       " 'cohere',\n",
       " 'colorbar',\n",
       " 'colormaps',\n",
       " 'connect',\n",
       " 'contour',\n",
       " 'contourf',\n",
       " 'cool',\n",
       " 'copper',\n",
       " 'csd',\n",
       " 'cycler',\n",
       " 'delaxes',\n",
       " 'disconnect',\n",
       " 'docstring',\n",
       " 'draw',\n",
       " 'draw_all',\n",
       " 'draw_if_interactive',\n",
       " 'errorbar',\n",
       " 'eventplot',\n",
       " 'figaspect',\n",
       " 'figimage',\n",
       " 'figlegend',\n",
       " 'fignum_exists',\n",
       " 'figtext',\n",
       " 'figure',\n",
       " 'fill',\n",
       " 'fill_between',\n",
       " 'fill_betweenx',\n",
       " 'findobj',\n",
       " 'flag',\n",
       " 'functools',\n",
       " 'gca',\n",
       " 'gcf',\n",
       " 'gci',\n",
       " 'get',\n",
       " 'get_backend',\n",
       " 'get_cmap',\n",
       " 'get_current_fig_manager',\n",
       " 'get_figlabels',\n",
       " 'get_fignums',\n",
       " 'get_plot_commands',\n",
       " 'get_scale_names',\n",
       " 'getp',\n",
       " 'ginput',\n",
       " 'gray',\n",
       " 'grid',\n",
       " 'hexbin',\n",
       " 'hist',\n",
       " 'hist2d',\n",
       " 'hlines',\n",
       " 'hot',\n",
       " 'hsv',\n",
       " 'importlib',\n",
       " 'imread',\n",
       " 'imsave',\n",
       " 'imshow',\n",
       " 'inferno',\n",
       " 'inspect',\n",
       " 'install_repl_displayhook',\n",
       " 'interactive',\n",
       " 'ioff',\n",
       " 'ion',\n",
       " 'isinteractive',\n",
       " 'jet',\n",
       " 'legend',\n",
       " 'locator_params',\n",
       " 'logging',\n",
       " 'loglog',\n",
       " 'magma',\n",
       " 'magnitude_spectrum',\n",
       " 'margins',\n",
       " 'matplotlib',\n",
       " 'matshow',\n",
       " 'minorticks_off',\n",
       " 'minorticks_on',\n",
       " 'mlab',\n",
       " 'new_figure_manager',\n",
       " 'nipy_spectral',\n",
       " 'np',\n",
       " 'pause',\n",
       " 'pcolor',\n",
       " 'pcolormesh',\n",
       " 'phase_spectrum',\n",
       " 'pie',\n",
       " 'pink',\n",
       " 'plasma',\n",
       " 'plot',\n",
       " 'plot_date',\n",
       " 'plotting',\n",
       " 'polar',\n",
       " 'prism',\n",
       " 'psd',\n",
       " 'quiver',\n",
       " 'quiverkey',\n",
       " 'rc',\n",
       " 'rcParams',\n",
       " 'rcParamsDefault',\n",
       " 'rcParamsOrig',\n",
       " 'rc_context',\n",
       " 'rcdefaults',\n",
       " 'rcsetup',\n",
       " 're',\n",
       " 'register_cmap',\n",
       " 'rgrids',\n",
       " 'savefig',\n",
       " 'sca',\n",
       " 'scatter',\n",
       " 'sci',\n",
       " 'semilogx',\n",
       " 'semilogy',\n",
       " 'set_cmap',\n",
       " 'set_loglevel',\n",
       " 'setp',\n",
       " 'show',\n",
       " 'specgram',\n",
       " 'spring',\n",
       " 'spy',\n",
       " 'stackplot',\n",
       " 'stem',\n",
       " 'step',\n",
       " 'streamplot',\n",
       " 'style',\n",
       " 'subplot',\n",
       " 'subplot2grid',\n",
       " 'subplot_mosaic',\n",
       " 'subplot_tool',\n",
       " 'subplots',\n",
       " 'subplots_adjust',\n",
       " 'summer',\n",
       " 'suptitle',\n",
       " 'switch_backend',\n",
       " 'sys',\n",
       " 'table',\n",
       " 'text',\n",
       " 'thetagrids',\n",
       " 'threading',\n",
       " 'tick_params',\n",
       " 'ticklabel_format',\n",
       " 'tight_layout',\n",
       " 'time',\n",
       " 'title',\n",
       " 'tricontour',\n",
       " 'tricontourf',\n",
       " 'tripcolor',\n",
       " 'triplot',\n",
       " 'twinx',\n",
       " 'twiny',\n",
       " 'uninstall_repl_displayhook',\n",
       " 'violinplot',\n",
       " 'viridis',\n",
       " 'vlines',\n",
       " 'waitforbuttonpress',\n",
       " 'winter',\n",
       " 'xcorr',\n",
       " 'xkcd',\n",
       " 'xlabel',\n",
       " 'xlim',\n",
       " 'xscale',\n",
       " 'xticks',\n",
       " 'ylabel',\n",
       " 'ylim',\n",
       " 'yscale',\n",
       " 'yticks']"
      ]
     },
     "execution_count": 2,
     "metadata": {},
     "output_type": "execute_result"
    }
   ],
   "source": [
    "dir(plt)"
   ]
  },
  {
   "cell_type": "code",
   "execution_count": 3,
   "metadata": {},
   "outputs": [
    {
     "name": "stdout",
     "output_type": "stream",
     "text": [
      "Help on function bar in module matplotlib.pyplot:\n",
      "\n",
      "bar(x, height, width=0.8, bottom=None, *, align='center', data=None, **kwargs)\n",
      "    Make a bar plot.\n",
      "    \n",
      "    The bars are positioned at *x* with the given *align*\\ment. Their\n",
      "    dimensions are given by *height* and *width*. The vertical baseline\n",
      "    is *bottom* (default 0).\n",
      "    \n",
      "    Many parameters can take either a single value applying to all bars\n",
      "    or a sequence of values, one for each bar.\n",
      "    \n",
      "    Parameters\n",
      "    ----------\n",
      "    x : float or array-like\n",
      "        The x coordinates of the bars. See also *align* for the\n",
      "        alignment of the bars to the coordinates.\n",
      "    \n",
      "    height : float or array-like\n",
      "        The height(s) of the bars.\n",
      "    \n",
      "    width : float or array-like, default: 0.8\n",
      "        The width(s) of the bars.\n",
      "    \n",
      "    bottom : float or array-like, default: 0\n",
      "        The y coordinate(s) of the bars bases.\n",
      "    \n",
      "    align : {'center', 'edge'}, default: 'center'\n",
      "        Alignment of the bars to the *x* coordinates:\n",
      "    \n",
      "        - 'center': Center the base on the *x* positions.\n",
      "        - 'edge': Align the left edges of the bars with the *x* positions.\n",
      "    \n",
      "        To align the bars on the right edge pass a negative *width* and\n",
      "        ``align='edge'``.\n",
      "    \n",
      "    Returns\n",
      "    -------\n",
      "    `.BarContainer`\n",
      "        Container with all the bars and optionally errorbars.\n",
      "    \n",
      "    Other Parameters\n",
      "    ----------------\n",
      "    color : color or list of color, optional\n",
      "        The colors of the bar faces.\n",
      "    \n",
      "    edgecolor : color or list of color, optional\n",
      "        The colors of the bar edges.\n",
      "    \n",
      "    linewidth : float or array-like, optional\n",
      "        Width of the bar edge(s). If 0, don't draw edges.\n",
      "    \n",
      "    tick_label : str or list of str, optional\n",
      "        The tick labels of the bars.\n",
      "        Default: None (Use default numeric labels.)\n",
      "    \n",
      "    xerr, yerr : float or array-like of shape(N,) or shape(2, N), optional\n",
      "        If not *None*, add horizontal / vertical errorbars to the bar tips.\n",
      "        The values are +/- sizes relative to the data:\n",
      "    \n",
      "        - scalar: symmetric +/- values for all bars\n",
      "        - shape(N,): symmetric +/- values for each bar\n",
      "        - shape(2, N): Separate - and + values for each bar. First row\n",
      "          contains the lower errors, the second row contains the upper\n",
      "          errors.\n",
      "        - *None*: No errorbar. (Default)\n",
      "    \n",
      "        See :doc:`/gallery/statistics/errorbar_features`\n",
      "        for an example on the usage of ``xerr`` and ``yerr``.\n",
      "    \n",
      "    ecolor : color or list of color, default: 'black'\n",
      "        The line color of the errorbars.\n",
      "    \n",
      "    capsize : float, default: :rc:`errorbar.capsize`\n",
      "       The length of the error bar caps in points.\n",
      "    \n",
      "    error_kw : dict, optional\n",
      "        Dictionary of kwargs to be passed to the `~.Axes.errorbar`\n",
      "        method. Values of *ecolor* or *capsize* defined here take\n",
      "        precedence over the independent kwargs.\n",
      "    \n",
      "    log : bool, default: False\n",
      "        If *True*, set the y-axis to be log scale.\n",
      "    \n",
      "    **kwargs : `.Rectangle` properties\n",
      "    \n",
      "    Properties:\n",
      "        agg_filter: a filter function, which takes a (m, n, 3) float array and a dpi value, and returns a (m, n, 3) array\n",
      "        alpha: float or None\n",
      "        animated: bool\n",
      "        antialiased or aa: unknown\n",
      "        capstyle: {'butt', 'round', 'projecting'}\n",
      "        clip_box: `.Bbox`\n",
      "        clip_on: bool\n",
      "        clip_path: Patch or (Path, Transform) or None\n",
      "        color: color\n",
      "        contains: unknown\n",
      "        edgecolor or ec: color or None or 'auto'\n",
      "        facecolor or fc: color or None\n",
      "        figure: `.Figure`\n",
      "        fill: bool\n",
      "        gid: str\n",
      "        hatch: {'/', '\\\\', '|', '-', '+', 'x', 'o', 'O', '.', '*'}\n",
      "        in_layout: bool\n",
      "        joinstyle: {'miter', 'round', 'bevel'}\n",
      "        label: object\n",
      "        linestyle or ls: {'-', '--', '-.', ':', '', (offset, on-off-seq), ...}\n",
      "        linewidth or lw: float or None\n",
      "        path_effects: `.AbstractPathEffect`\n",
      "        picker: None or bool or callable\n",
      "        rasterized: bool or None\n",
      "        sketch_params: (scale: float, length: float, randomness: float)\n",
      "        snap: bool or None\n",
      "        transform: `.Transform`\n",
      "        url: str\n",
      "        visible: bool\n",
      "        zorder: float\n",
      "    \n",
      "    See Also\n",
      "    --------\n",
      "    barh: Plot a horizontal bar plot.\n",
      "    \n",
      "    Notes\n",
      "    -----\n",
      "    Stacked bars can be achieved by passing individual *bottom* values per\n",
      "    bar. See :doc:`/gallery/lines_bars_and_markers/bar_stacked`.\n",
      "    \n",
      "    .. note::\n",
      "        In addition to the above described arguments, this function can take\n",
      "        a *data* keyword argument. If such a *data* argument is given,\n",
      "        every other argument can also be string ``s``, which is\n",
      "        interpreted as ``data[s]`` (unless this raises an exception).\n",
      "    \n",
      "        Objects passed as **data** must support item access (``data[s]``) and\n",
      "        membership test (``s in data``).\n",
      "\n"
     ]
    }
   ],
   "source": [
    "help(plt.bar)"
   ]
  },
  {
   "cell_type": "code",
   "execution_count": 7,
   "metadata": {},
   "outputs": [
    {
     "data": {
      "image/png": "[encoded data removed]",
      "text/plain": [
       "<Figure size 432x288 with 1 Axes>"
      ]
     },
     "metadata": {
      "needs_background": "light"
     },
     "output_type": "display_data"
    }
   ],
   "source": [
    "x=['x','y','z','a','b']\n",
    "y=[12,37,89,45,67]\n",
    "plt.bar(x,y,color='g')\n",
    "plt.title(\"bar plot for x and y\")\n",
    "plt.xlabel(\"x\")\n",
    "plt.ylabel(\"y\")\n",
    "plt.show()"
   ]
  },
  {
   "cell_type": "code",
   "execution_count": 12,
   "metadata": {},
   "outputs": [
    {
     "data": {
      "image/png": "[encoded data removed]",
      "text/plain": [
       "<Figure size 432x288 with 1 Axes>"
      ]
     },
     "metadata": {
      "needs_background": "light"
     },
     "output_type": "display_data"
    }
   ],
   "source": [
    "x=['x','y','z','a','b']\n",
    "y=[12,37,89,45,67]\n",
    "plt.bar(x,y,color=['#00ffdd','k','y','r','b'],width=0.5)\n",
    "plt.title(\"bar plot for x and y\")\n",
    "plt.xlabel(\"x\")\n",
    "plt.ylabel(\"y\")\n",
    "plt.show()"
   ]
  },
  {
   "cell_type": "code",
   "execution_count": 11,
   "metadata": {},
   "outputs": [
    {
     "data": {
      "image/png": "[encoded data removed]",
      "text/plain": [
       "<Figure size 432x288 with 1 Axes>"
      ]
     },
     "metadata": {
      "needs_background": "light"
     },
     "output_type": "display_data"
    }
   ],
   "source": [
    "x=['x','y','z','a','b']\n",
    "y=[12,37,89,45,67]\n",
    "plt.barh(x,y,color=['#00ffdd','k','y','r','b'])\n",
    "plt.title(\"bar plot for x and y\")\n",
    "plt.xlabel(\"x\")\n",
    "plt.ylabel(\"y\")\n",
    "plt.show()"
   ]
  },
  {
   "cell_type": "code",
   "execution_count": 15,
   "metadata": {},
   "outputs": [
    {
     "data": {
      "image/png": "[encoded data removed]",
      "text/plain": [
       "<Figure size 432x288 with 1 Axes>"
      ]
     },
     "metadata": {
      "needs_background": "light"
     },
     "output_type": "display_data"
    }
   ],
   "source": [
    "x=['x','y','z','a','b']\n",
    "y=[12,37,89,45,67]\n",
    "plt.barh(x,y,color=['#00ffdd','k','y','r','b'])\n",
    "plt.text(12,'x','pandas')\n",
    "plt.text(37,'y','p1')\n",
    "plt.text(89,'z','p2')\n",
    "plt.text(45,'a','p3')\n",
    "plt.text(67,'b','p4')\n",
    "plt.title(\"bar plot for x and y\")\n",
    "plt.xlabel(\"x\")\n",
    "plt.ylabel(\"y\")\n",
    "plt.show()"
   ]
  },
  {
   "cell_type": "markdown",
   "metadata": {},
   "source": [
    "### Pie Plot\n",
    "- matplotlib.pyplot.pie()"
   ]
  },
  {
   "cell_type": "code",
   "execution_count": 17,
   "metadata": {},
   "outputs": [
    {
     "name": "stdout",
     "output_type": "stream",
     "text": [
      "Help on function pie in module matplotlib.pyplot:\n",
      "\n",
      "pie(x, explode=None, labels=None, colors=None, autopct=None, pctdistance=0.6, shadow=False, labeldistance=1.1, startangle=0, radius=1, counterclock=True, wedgeprops=None, textprops=None, center=(0, 0), frame=False, rotatelabels=False, *, normalize=None, data=None)\n",
      "    Plot a pie chart.\n",
      "    \n",
      "    Make a pie chart of array *x*.  The fractional area of each wedge is\n",
      "    given by ``x/sum(x)``.  If ``sum(x) < 1``, then the values of *x* give\n",
      "    the fractional area directly and the array will not be normalized. The\n",
      "    resulting pie will have an empty wedge of size ``1 - sum(x)``.\n",
      "    \n",
      "    The wedges are plotted counterclockwise, by default starting from the\n",
      "    x-axis.\n",
      "    \n",
      "    Parameters\n",
      "    ----------\n",
      "    x : 1D array-like\n",
      "        The wedge sizes.\n",
      "    \n",
      "    explode : array-like, default: None\n",
      "        If not *None*, is a ``len(x)`` array which specifies the fraction\n",
      "        of the radius with which to offset each wedge.\n",
      "    \n",
      "    labels : list, default: None\n",
      "        A sequence of strings providing the labels for each wedge\n",
      "    \n",
      "    colors : array-like, default: None\n",
      "        A sequence of colors through which the pie chart will cycle.  If\n",
      "        *None*, will use the colors in the currently active cycle.\n",
      "    \n",
      "    autopct : None or str or callable, default: None\n",
      "        If not *None*, is a string or function used to label the wedges\n",
      "        with their numeric value.  The label will be placed inside the\n",
      "        wedge.  If it is a format string, the label will be ``fmt % pct``.\n",
      "        If it is a function, it will be called.\n",
      "    \n",
      "    pctdistance : float, default: 0.6\n",
      "        The ratio between the center of each pie slice and the start of\n",
      "        the text generated by *autopct*.  Ignored if *autopct* is *None*.\n",
      "    \n",
      "    shadow : bool, default: False\n",
      "        Draw a shadow beneath the pie.\n",
      "    \n",
      "    normalize: None or bool, default: None\n",
      "        When *True*, always make a full pie by normalizing x so that\n",
      "        ``sum(x) == 1``. *False* makes a partial pie if ``sum(x) <= 1``\n",
      "        and raises a `ValueError` for ``sum(x) > 1``.\n",
      "    \n",
      "        When *None*, defaults to *True* if ``sum(x) >= 1`` and *False* if\n",
      "        ``sum(x) < 1``.\n",
      "    \n",
      "        Please note that the previous default value of *None* is now\n",
      "        deprecated, and the default will change to *True* in the next\n",
      "        release. Please pass ``normalize=False`` explicitly if you want to\n",
      "        draw a partial pie.\n",
      "    \n",
      "    labeldistance : float or None, default: 1.1\n",
      "        The radial distance at which the pie labels are drawn.\n",
      "        If set to ``None``, label are not drawn, but are stored for use in\n",
      "        ``legend()``\n",
      "    \n",
      "    startangle : float, default: 0 degrees\n",
      "        The angle by which the start of the pie is rotated,\n",
      "        counterclockwise from the x-axis.\n",
      "    \n",
      "    radius : float, default: 1\n",
      "        The radius of the pie.\n",
      "    \n",
      "    counterclock : bool, default: True\n",
      "        Specify fractions direction, clockwise or counterclockwise.\n",
      "    \n",
      "    wedgeprops : dict, default: None\n",
      "        Dict of arguments passed to the wedge objects making the pie.\n",
      "        For example, you can pass in ``wedgeprops = {'linewidth': 3}``\n",
      "        to set the width of the wedge border lines equal to 3.\n",
      "        For more details, look at the doc/arguments of the wedge object.\n",
      "        By default ``clip_on=False``.\n",
      "    \n",
      "    textprops : dict, default: None\n",
      "        Dict of arguments to pass to the text objects.\n",
      "    \n",
      "    center : (float, float), default: (0, 0)\n",
      "        The coordinates of the center of the chart.\n",
      "    \n",
      "    frame : bool, default: False\n",
      "        Plot axes frame with the chart if true.\n",
      "    \n",
      "    rotatelabels : bool, default: False\n",
      "        Rotate each label to the angle of the corresponding slice if true.\n",
      "    \n",
      "    Returns\n",
      "    -------\n",
      "    patches : list\n",
      "        A sequence of `matplotlib.patches.Wedge` instances\n",
      "    \n",
      "    texts : list\n",
      "        A list of the label `.Text` instances.\n",
      "    \n",
      "    autotexts : list\n",
      "        A list of `.Text` instances for the numeric labels. This will only\n",
      "        be returned if the parameter *autopct* is not *None*.\n",
      "    \n",
      "    Notes\n",
      "    -----\n",
      "    The pie chart will probably look best if the figure and axes are\n",
      "    square, or the Axes aspect is equal.\n",
      "    This method sets the aspect ratio of the axis to \"equal\".\n",
      "    The axes aspect ratio can be controlled with `.Axes.set_aspect`.\n",
      "    \n",
      "    .. note::\n",
      "        In addition to the above described arguments, this function can take\n",
      "        a *data* keyword argument. If such a *data* argument is given,\n",
      "        the following arguments can also be string ``s``, which is\n",
      "        interpreted as ``data[s]`` (unless this raises an exception):\n",
      "        *x*, *explode*, *labels*, *colors*.\n",
      "    \n",
      "        Objects passed as **data** must support item access (``data[s]``) and\n",
      "        membership test (``s in data``).\n",
      "\n"
     ]
    }
   ],
   "source": [
    "help(plt.pie)"
   ]
  },
  {
   "cell_type": "code",
   "execution_count": 20,
   "metadata": {},
   "outputs": [
    {
     "data": {
      "text/plain": [
       "([<matplotlib.patches.Wedge at 0x26e40738970>,\n",
       "  <matplotlib.patches.Wedge at 0x26e407614c0>,\n",
       "  <matplotlib.patches.Wedge at 0x26e40761160>,\n",
       "  <matplotlib.patches.Wedge at 0x26e40761ac0>,\n",
       "  <matplotlib.patches.Wedge at 0x26e4076c6a0>],\n",
       " [Text(1.0584318138755446, 0.29953646752294544, 'a'),\n",
       "  Text(0.5075984539321693, 0.9758810427330125, 'b'),\n",
       "  Text(-0.773140189536464, 0.7824667707471804, 'c'),\n",
       "  Text(-0.9081544310523438, -0.620689559570639, 'd'),\n",
       "  Text(0.6529494469347213, -0.8852440453048198, 'e')])"
      ]
     },
     "execution_count": 20,
     "metadata": {},
     "output_type": "execute_result"
    },
    {
     "data": {
      "image/png": "[encoded data removed]",
      "text/plain": [
       "<Figure size 432x288 with 1 Axes>"
      ]
     },
     "metadata": {},
     "output_type": "display_data"
    }
   ],
   "source": [
    "marks=[23,45,60,56,78]\n",
    "plt.pie(marks,labels=['a','b','c','d','e'])"
   ]
  },
  {
   "cell_type": "code",
   "execution_count": 21,
   "metadata": {},
   "outputs": [
    {
     "data": {
      "text/plain": [
       "([<matplotlib.patches.Wedge at 0x26e40666ac0>,\n",
       "  <matplotlib.patches.Wedge at 0x26e40666730>,\n",
       "  <matplotlib.patches.Wedge at 0x26e3cffd040>,\n",
       "  <matplotlib.patches.Wedge at 0x26e40603340>,\n",
       "  <matplotlib.patches.Wedge at 0x26e406030d0>],\n",
       " [Text(1.0584318138755446, 0.29953646752294544, 'a'),\n",
       "  Text(0.5122129853315527, 0.9847526885760398, 'b'),\n",
       "  Text(-0.7871972838916724, 0.79669343930622, 'c'),\n",
       "  Text(-0.9329222791719533, -0.6376174566498383, 'd'),\n",
       "  Text(0.676693063186893, -0.9174347378613588, 'e')])"
      ]
     },
     "execution_count": 21,
     "metadata": {},
     "output_type": "execute_result"
    },
    {
     "data": {
      "image/png": "[encoded data removed]",
      "text/plain": [
       "<Figure size 432x288 with 1 Axes>"
      ]
     },
     "metadata": {},
     "output_type": "display_data"
    }
   ],
   "source": [
    "marks=[23,45,60,56,78]\n",
    "plt.pie(marks,labels=['a','b','c','d','e'],explode=[0,0.01,0.02,0.03,0.04])"
   ]
  },
  {
   "cell_type": "code",
   "execution_count": 25,
   "metadata": {},
   "outputs": [
    {
     "data": {
      "text/plain": [
       "([<matplotlib.patches.Wedge at 0x26e405cdd30>,\n",
       "  <matplotlib.patches.Wedge at 0x26e405cda30>,\n",
       "  <matplotlib.patches.Wedge at 0x26e405b9130>,\n",
       "  <matplotlib.patches.Wedge at 0x26e405b95b0>,\n",
       "  <matplotlib.patches.Wedge at 0x26e405b9a30>],\n",
       " [Text(0.48110536994342934, 0.136152939783157, '0'),\n",
       "  Text(0.23072656996916785, 0.44358229215136924, '1'),\n",
       "  Text(-0.35142735888021087, 0.3556667139759911, '2'),\n",
       "  Text(-0.41279746866015626, -0.28213161798665404, '3'),\n",
       "  Text(0.296795203152146, -0.4023836569567362, '4')])"
      ]
     },
     "execution_count": 25,
     "metadata": {},
     "output_type": "execute_result"
    },
    {
     "data": {
      "image/png": "[encoded data removed]",
      "text/plain": [
       "<Figure size 432x288 with 1 Axes>"
      ]
     },
     "metadata": {},
     "output_type": "display_data"
    }
   ],
   "source": [
    "marks=[23,45,60,56,78]\n",
    "n=[i for i in range(len(marks))]\n",
    "plt.pie(marks,labels=n,labeldistance=0.5)\n"
   ]
  },
  {
   "cell_type": "code",
   "execution_count": 27,
   "metadata": {},
   "outputs": [
    {
     "data": {
      "text/plain": [
       "([<matplotlib.patches.Wedge at 0x26e4073c100>,\n",
       "  <matplotlib.patches.Wedge at 0x26e4073c580>,\n",
       "  <matplotlib.patches.Wedge at 0x26e4073ca00>,\n",
       "  <matplotlib.patches.Wedge at 0x26e4073ce80>,\n",
       "  <matplotlib.patches.Wedge at 0x26e4074e340>],\n",
       " [Text(0.721658054915144, 0.20422940967473552, '23'),\n",
       "  Text(0.3460898549537518, 0.6653734382270539, '45'),\n",
       "  Text(-0.5271410383203163, 0.5335000709639867, '60'),\n",
       "  Text(-0.6191962029902344, -0.4231974269799811, '56'),\n",
       "  Text(0.44519280472821904, -0.6035754854351043, '78')])"
      ]
     },
     "execution_count": 27,
     "metadata": {},
     "output_type": "execute_result"
    },
    {
     "data": {
      "image/png": "[encoded data removed]",
      "text/plain": [
       "<Figure size 432x288 with 1 Axes>"
      ]
     },
     "metadata": {},
     "output_type": "display_data"
    }
   ],
   "source": [
    "marks=[23,45,60,56,78]\n",
    "plt.pie(marks,labels=marks,radius=1.5,labeldistance=0.5,colors=['r','g','b','y','m'])"
   ]
  },
  {
   "cell_type": "markdown",
   "metadata": {},
   "source": [
    "## Histogram Plot\n",
    "- matplotlib.pyplot.hist()"
   ]
  },
  {
   "cell_type": "code",
   "execution_count": 29,
   "metadata": {},
   "outputs": [
    {
     "name": "stdout",
     "output_type": "stream",
     "text": [
      "Help on function hist in module matplotlib.pyplot:\n",
      "\n",
      "hist(x, bins=None, range=None, density=False, weights=None, cumulative=False, bottom=None, histtype='bar', align='mid', orientation='vertical', rwidth=None, log=False, color=None, label=None, stacked=False, *, data=None, **kwargs)\n",
      "    Plot a histogram.\n",
      "    \n",
      "    Compute and draw the histogram of *x*.  The return value is a tuple\n",
      "    (*n*, *bins*, *patches*) or ([*n0*, *n1*, ...], *bins*, [*patches0*,\n",
      "    *patches1*, ...]) if the input contains multiple data.  See the\n",
      "    documentation of the *weights* parameter to draw a histogram of\n",
      "    already-binned data.\n",
      "    \n",
      "    Multiple data can be provided via *x* as a list of datasets\n",
      "    of potentially different length ([*x0*, *x1*, ...]), or as\n",
      "    a 2-D ndarray in which each column is a dataset.  Note that\n",
      "    the ndarray form is transposed relative to the list form.\n",
      "    \n",
      "    Masked arrays are not supported.\n",
      "    \n",
      "    The *bins*, *range*, *weights*, and *density* parameters behave as in\n",
      "    `numpy.histogram`.\n",
      "    \n",
      "    Parameters\n",
      "    ----------\n",
      "    x : (n,) array or sequence of (n,) arrays\n",
      "        Input values, this takes either a single array or a sequence of\n",
      "        arrays which are not required to be of the same length.\n",
      "    \n",
      "    bins : int or sequence or str, default: :rc:`hist.bins`\n",
      "        If *bins* is an integer, it defines the number of equal-width bins\n",
      "        in the range.\n",
      "    \n",
      "        If *bins* is a sequence, it defines the bin edges, including the\n",
      "        left edge of the first bin and the right edge of the last bin;\n",
      "        in this case, bins may be unequally spaced.  All but the last\n",
      "        (righthand-most) bin is half-open.  In other words, if *bins* is::\n",
      "    \n",
      "            [1, 2, 3, 4]\n",
      "    \n",
      "        then the first bin is ``[1, 2)`` (including 1, but excluding 2) and\n",
      "        the second ``[2, 3)``.  The last bin, however, is ``[3, 4]``, which\n",
      "        *includes* 4.\n",
      "    \n",
      "        If *bins* is a string, it is one of the binning strategies\n",
      "        supported by `numpy.histogram_bin_edges`: 'auto', 'fd', 'doane',\n",
      "        'scott', 'stone', 'rice', 'sturges', or 'sqrt'.\n",
      "    \n",
      "    range : tuple or None, default: None\n",
      "        The lower and upper range of the bins. Lower and upper outliers\n",
      "        are ignored. If not provided, *range* is ``(x.min(), x.max())``.\n",
      "        Range has no effect if *bins* is a sequence.\n",
      "    \n",
      "        If *bins* is a sequence or *range* is specified, autoscaling\n",
      "        is based on the specified bin range instead of the\n",
      "        range of x.\n",
      "    \n",
      "    density : bool, default: False\n",
      "        If ``True``, draw and return a probability density: each bin\n",
      "        will display the bin's raw count divided by the total number of\n",
      "        counts *and the bin width*\n",
      "        (``density = counts / (sum(counts) * np.diff(bins))``),\n",
      "        so that the area under the histogram integrates to 1\n",
      "        (``np.sum(density * np.diff(bins)) == 1``).\n",
      "    \n",
      "        If *stacked* is also ``True``, the sum of the histograms is\n",
      "        normalized to 1.\n",
      "    \n",
      "    weights : (n,) array-like or None, default: None\n",
      "        An array of weights, of the same shape as *x*.  Each value in\n",
      "        *x* only contributes its associated weight towards the bin count\n",
      "        (instead of 1).  If *density* is ``True``, the weights are\n",
      "        normalized, so that the integral of the density over the range\n",
      "        remains 1.\n",
      "    \n",
      "        This parameter can be used to draw a histogram of data that has\n",
      "        already been binned, e.g. using `numpy.histogram` (by treating each\n",
      "        bin as a single point with a weight equal to its count) ::\n",
      "    \n",
      "            counts, bins = np.histogram(data)\n",
      "            plt.hist(bins[:-1], bins, weights=counts)\n",
      "    \n",
      "        (or you may alternatively use `~.bar()`).\n",
      "    \n",
      "    cumulative : bool or -1, default: False\n",
      "        If ``True``, then a histogram is computed where each bin gives the\n",
      "        counts in that bin plus all bins for smaller values. The last bin\n",
      "        gives the total number of datapoints.\n",
      "    \n",
      "        If *density* is also ``True`` then the histogram is normalized such\n",
      "        that the last bin equals 1.\n",
      "    \n",
      "        If *cumulative* is a number less than 0 (e.g., -1), the direction\n",
      "        of accumulation is reversed.  In this case, if *density* is also\n",
      "        ``True``, then the histogram is normalized such that the first bin\n",
      "        equals 1.\n",
      "    \n",
      "    bottom : array-like, scalar, or None, default: None\n",
      "        Location of the bottom of each bin, ie. bins are drawn from\n",
      "        ``bottom`` to ``bottom + hist(x, bins)`` If a scalar, the bottom\n",
      "        of each bin is shifted by the same amount. If an array, each bin\n",
      "        is shifted independently and the length of bottom must match the\n",
      "        number of bins. If None, defaults to 0.\n",
      "    \n",
      "    histtype : {'bar', 'barstacked', 'step', 'stepfilled'}, default: 'bar'\n",
      "        The type of histogram to draw.\n",
      "    \n",
      "        - 'bar' is a traditional bar-type histogram.  If multiple data\n",
      "          are given the bars are arranged side by side.\n",
      "        - 'barstacked' is a bar-type histogram where multiple\n",
      "          data are stacked on top of each other.\n",
      "        - 'step' generates a lineplot that is by default unfilled.\n",
      "        - 'stepfilled' generates a lineplot that is by default filled.\n",
      "    \n",
      "    align : {'left', 'mid', 'right'}, default: 'mid'\n",
      "        The horizontal alignment of the histogram bars.\n",
      "    \n",
      "        - 'left': bars are centered on the left bin edges.\n",
      "        - 'mid': bars are centered between the bin edges.\n",
      "        - 'right': bars are centered on the right bin edges.\n",
      "    \n",
      "    orientation : {'vertical', 'horizontal'}, default: 'vertical'\n",
      "        If 'horizontal', `~.Axes.barh` will be used for bar-type histograms\n",
      "        and the *bottom* kwarg will be the left edges.\n",
      "    \n",
      "    rwidth : float or None, default: None\n",
      "        The relative width of the bars as a fraction of the bin width.  If\n",
      "        ``None``, automatically compute the width.\n",
      "    \n",
      "        Ignored if *histtype* is 'step' or 'stepfilled'.\n",
      "    \n",
      "    log : bool, default: False\n",
      "        If ``True``, the histogram axis will be set to a log scale. If\n",
      "        *log* is ``True`` and *x* is a 1D array, empty bins will be\n",
      "        filtered out and only the non-empty ``(n, bins, patches)``\n",
      "        will be returned.\n",
      "    \n",
      "    color : color or array-like of colors or None, default: None\n",
      "        Color or sequence of colors, one per dataset.  Default (``None``)\n",
      "        uses the standard line color sequence.\n",
      "    \n",
      "    label : str or None, default: None\n",
      "        String, or sequence of strings to match multiple datasets.  Bar\n",
      "        charts yield multiple patches per dataset, but only the first gets\n",
      "        the label, so that `~.Axes.legend` will work as expected.\n",
      "    \n",
      "    stacked : bool, default: False\n",
      "        If ``True``, multiple data are stacked on top of each other If\n",
      "        ``False`` multiple data are arranged side by side if histtype is\n",
      "        'bar' or on top of each other if histtype is 'step'\n",
      "    \n",
      "    Returns\n",
      "    -------\n",
      "    n : array or list of arrays\n",
      "        The values of the histogram bins. See *density* and *weights* for a\n",
      "        description of the possible semantics.  If input *x* is an array,\n",
      "        then this is an array of length *nbins*. If input is a sequence of\n",
      "        arrays ``[data1, data2, ...]``, then this is a list of arrays with\n",
      "        the values of the histograms for each of the arrays in the same\n",
      "        order.  The dtype of the array *n* (or of its element arrays) will\n",
      "        always be float even if no weighting or normalization is used.\n",
      "    \n",
      "    bins : array\n",
      "        The edges of the bins. Length nbins + 1 (nbins left edges and right\n",
      "        edge of last bin).  Always a single array even when multiple data\n",
      "        sets are passed in.\n",
      "    \n",
      "    patches : `.BarContainer` or list of a single `.Polygon` or list of such objects\n",
      "        Container of individual artists used to create the histogram\n",
      "        or list of such containers if there are multiple input datasets.\n",
      "    \n",
      "    Other Parameters\n",
      "    ----------------\n",
      "    **kwargs\n",
      "        `~matplotlib.patches.Patch` properties\n",
      "    \n",
      "    See Also\n",
      "    --------\n",
      "    hist2d : 2D histograms\n",
      "    \n",
      "    Notes\n",
      "    -----\n",
      "    For large numbers of bins (>1000), 'step' and 'stepfilled' can be\n",
      "    significantly faster than 'bar' and 'barstacked'.\n",
      "    \n",
      "    .. note::\n",
      "        In addition to the above described arguments, this function can take\n",
      "        a *data* keyword argument. If such a *data* argument is given,\n",
      "        the following arguments can also be string ``s``, which is\n",
      "        interpreted as ``data[s]`` (unless this raises an exception):\n",
      "        *x*, *weights*.\n",
      "    \n",
      "        Objects passed as **data** must support item access (``data[s]``) and\n",
      "        membership test (``s in data``).\n",
      "\n"
     ]
    }
   ],
   "source": [
    "help(plt.hist)"
   ]
  },
  {
   "cell_type": "code",
   "execution_count": 40,
   "metadata": {},
   "outputs": [
    {
     "data": {
      "text/plain": [
       "(array([15., 26., 23., 12., 24.]),\n",
       " array([ 1. , 20.6, 40.2, 59.8, 79.4, 99. ]),\n",
       " <BarContainer object of 5 artists>)"
      ]
     },
     "execution_count": 40,
     "metadata": {},
     "output_type": "execute_result"
    },
    {
     "data": {
      "image/png": "[encoded data removed]",
      "text/plain": [
       "<Figure size 432x288 with 1 Axes>"
      ]
     },
     "metadata": {
      "needs_background": "light"
     },
     "output_type": "display_data"
    }
   ],
   "source": [
    "import numpy as np\n",
    "x=np.random.randint(1,100,100)\n",
    "plt.hist(x,bins=5)"
   ]
  },
  {
   "cell_type": "code",
   "execution_count": 41,
   "metadata": {},
   "outputs": [
    {
     "data": {
      "text/plain": [
       "(array([11., 11.,  7.,  9., 11., 13.,  7.,  8.,  9., 14.]),\n",
       " array([ 1. , 10.8, 20.6, 30.4, 40.2, 50. , 59.8, 69.6, 79.4, 89.2, 99. ]),\n",
       " <BarContainer object of 10 artists>)"
      ]
     },
     "execution_count": 41,
     "metadata": {},
     "output_type": "execute_result"
    },
    {
     "data": {
      "image/png": "[encoded data removed]",
      "text/plain": [
       "<Figure size 432x288 with 1 Axes>"
      ]
     },
     "metadata": {
      "needs_background": "light"
     },
     "output_type": "display_data"
    }
   ],
   "source": [
    "import numpy as np\n",
    "x=np.random.randint(1,100,100)\n",
    "plt.hist(x,bins=10)"
   ]
  },
  {
   "cell_type": "code",
   "execution_count": 45,
   "metadata": {},
   "outputs": [
    {
     "data": {
      "text/plain": [
       "(array([0.0127551 , 0.01020408, 0.00867347, 0.00969388, 0.00969388]),\n",
       " array([ 1. , 20.6, 40.2, 59.8, 79.4, 99. ]),\n",
       " [<matplotlib.patches.Polygon at 0x26e41f63ee0>])"
      ]
     },
     "execution_count": 45,
     "metadata": {},
     "output_type": "execute_result"
    },
    {
     "data": {
      "image/png": "[encoded data removed]",
      "text/plain": [
       "<Figure size 432x288 with 1 Axes>"
      ]
     },
     "metadata": {
      "needs_background": "light"
     },
     "output_type": "display_data"
    }
   ],
   "source": [
    "import numpy as np\n",
    "x=np.random.randint(1,100,100)\n",
    "plt.hist(x,histtype='step',density=True,bins=5,color='m')"
   ]
  },
  {
   "cell_type": "markdown",
   "metadata": {},
   "source": [
    "## Box Plot\n",
    "- plt.boxplot()"
   ]
  },
  {
   "cell_type": "code",
   "execution_count": 51,
   "metadata": {},
   "outputs": [
    {
     "data": {
      "text/plain": [
       "{'whiskers': [<matplotlib.lines.Line2D at 0x26e4210e490>,\n",
       "  <matplotlib.lines.Line2D at 0x26e4210e7f0>],\n",
       " 'caps': [<matplotlib.lines.Line2D at 0x26e4210eb50>,\n",
       "  <matplotlib.lines.Line2D at 0x26e4210eeb0>],\n",
       " 'boxes': [<matplotlib.lines.Line2D at 0x26e4210e190>],\n",
       " 'medians': [<matplotlib.lines.Line2D at 0x26e42119250>],\n",
       " 'fliers': [<matplotlib.lines.Line2D at 0x26e421195b0>],\n",
       " 'means': []}"
      ]
     },
     "execution_count": 51,
     "metadata": {},
     "output_type": "execute_result"
    },
    {
     "data": {
      "image/png": "[encoded data removed]",
      "text/plain": [
       "<Figure size 432x288 with 1 Axes>"
      ]
     },
     "metadata": {
      "needs_background": "light"
     },
     "output_type": "display_data"
    }
   ],
   "source": [
    "plt.boxplot(x)"
   ]
  },
  {
   "cell_type": "markdown",
   "metadata": {},
   "source": [
    "## Data Pre-processing\n",
    "- To improve our data quality we can use data pre-processing\n",
    "    - problems in data\n",
    "        - insufficient data\n",
    "        - Too much data\n",
    "        - missing data\n",
    "        - Duplicate data\n",
    "        - Outliers\n",
    "        \n",
    "- for scaling down our features we have different models\n",
    "\n",
    "\n",
    "\n",
    "- Standard Scaling\n",
    "- Roboust Scaling\n",
    "- min max Scaling\n",
    "- Normalization"
   ]
  },
  {
   "cell_type": "code",
   "execution_count": 52,
   "metadata": {},
   "outputs": [],
   "source": [
    "import pandas as pd\n",
    "df=pd.read_csv(\"https://raw.githubusercontent.com/AP-State-Skill-Development-Corporation/Data-Analysis-Using-Python-MB9/master/Day06_02Dec2020/Advertisement.csv\")"
   ]
  },
  {
   "cell_type": "code",
   "execution_count": 53,
   "metadata": {},
   "outputs": [
    {
     "data": {
      "text/html": [
       "<div>\n",
       "<style scoped>\n",
       "    .dataframe tbody tr th:only-of-type {\n",
       "        vertical-align: middle;\n",
       "    }\n",
       "\n",
       "    .dataframe tbody tr th {\n",
       "        vertical-align: top;\n",
       "    }\n",
       "\n",
       "    .dataframe thead th {\n",
       "        text-align: right;\n",
       "    }\n",
       "</style>\n",
       "<table border=\"1\" class=\"dataframe\">\n",
       "  <thead>\n",
       "    <tr style=\"text-align: right;\">\n",
       "      <th></th>\n",
       "      <th>TV</th>\n",
       "      <th>radio</th>\n",
       "      <th>newspaper</th>\n",
       "      <th>sales</th>\n",
       "    </tr>\n",
       "  </thead>\n",
       "  <tbody>\n",
       "    <tr>\n",
       "      <th>0</th>\n",
       "      <td>230.1</td>\n",
       "      <td>37.8</td>\n",
       "      <td>69.2</td>\n",
       "      <td>22.1</td>\n",
       "    </tr>\n",
       "    <tr>\n",
       "      <th>1</th>\n",
       "      <td>44.5</td>\n",
       "      <td>39.3</td>\n",
       "      <td>45.1</td>\n",
       "      <td>10.4</td>\n",
       "    </tr>\n",
       "    <tr>\n",
       "      <th>2</th>\n",
       "      <td>17.2</td>\n",
       "      <td>45.9</td>\n",
       "      <td>69.3</td>\n",
       "      <td>9.3</td>\n",
       "    </tr>\n",
       "    <tr>\n",
       "      <th>3</th>\n",
       "      <td>151.5</td>\n",
       "      <td>41.3</td>\n",
       "      <td>58.5</td>\n",
       "      <td>18.5</td>\n",
       "    </tr>\n",
       "    <tr>\n",
       "      <th>4</th>\n",
       "      <td>180.8</td>\n",
       "      <td>10.8</td>\n",
       "      <td>58.4</td>\n",
       "      <td>12.9</td>\n",
       "    </tr>\n",
       "  </tbody>\n",
       "</table>\n",
       "</div>"
      ],
      "text/plain": [
       "      TV  radio  newspaper  sales\n",
       "0  230.1   37.8       69.2   22.1\n",
       "1   44.5   39.3       45.1   10.4\n",
       "2   17.2   45.9       69.3    9.3\n",
       "3  151.5   41.3       58.5   18.5\n",
       "4  180.8   10.8       58.4   12.9"
      ]
     },
     "execution_count": 53,
     "metadata": {},
     "output_type": "execute_result"
    }
   ],
   "source": [
    "df.head()"
   ]
  },
  {
   "cell_type": "code",
   "execution_count": 55,
   "metadata": {},
   "outputs": [
    {
     "data": {
      "text/plain": [
       "0      230.1\n",
       "1       44.5\n",
       "2       17.2\n",
       "3      151.5\n",
       "4      180.8\n",
       "       ...  \n",
       "195     38.2\n",
       "196     94.2\n",
       "197    177.0\n",
       "198    283.6\n",
       "199    232.1\n",
       "Name: TV, Length: 200, dtype: float64"
      ]
     },
     "execution_count": 55,
     "metadata": {},
     "output_type": "execute_result"
    }
   ],
   "source": [
    "df['TV']"
   ]
  },
  {
   "cell_type": "code",
   "execution_count": 56,
   "metadata": {},
   "outputs": [
    {
     "name": "stdout",
     "output_type": "stream",
     "text": [
      "<class 'pandas.core.frame.DataFrame'>\n",
      "RangeIndex: 200 entries, 0 to 199\n",
      "Data columns (total 4 columns):\n",
      " #   Column     Non-Null Count  Dtype  \n",
      "---  ------     --------------  -----  \n",
      " 0   TV         200 non-null    float64\n",
      " 1   radio      200 non-null    float64\n",
      " 2   newspaper  200 non-null    float64\n",
      " 3   sales      200 non-null    float64\n",
      "dtypes: float64(4)\n",
      "memory usage: 6.4 KB\n"
     ]
    }
   ],
   "source": [
    "df.info()"
   ]
  },
  {
   "cell_type": "code",
   "execution_count": 57,
   "metadata": {},
   "outputs": [
    {
     "data": {
      "text/html": [
       "<div>\n",
       "<style scoped>\n",
       "    .dataframe tbody tr th:only-of-type {\n",
       "        vertical-align: middle;\n",
       "    }\n",
       "\n",
       "    .dataframe tbody tr th {\n",
       "        vertical-align: top;\n",
       "    }\n",
       "\n",
       "    .dataframe thead th {\n",
       "        text-align: right;\n",
       "    }\n",
       "</style>\n",
       "<table border=\"1\" class=\"dataframe\">\n",
       "  <thead>\n",
       "    <tr style=\"text-align: right;\">\n",
       "      <th></th>\n",
       "      <th>TV</th>\n",
       "      <th>radio</th>\n",
       "      <th>newspaper</th>\n",
       "      <th>sales</th>\n",
       "    </tr>\n",
       "  </thead>\n",
       "  <tbody>\n",
       "    <tr>\n",
       "      <th>count</th>\n",
       "      <td>200.000000</td>\n",
       "      <td>200.000000</td>\n",
       "      <td>200.000000</td>\n",
       "      <td>200.000000</td>\n",
       "    </tr>\n",
       "    <tr>\n",
       "      <th>mean</th>\n",
       "      <td>147.042500</td>\n",
       "      <td>23.264000</td>\n",
       "      <td>30.554000</td>\n",
       "      <td>14.022500</td>\n",
       "    </tr>\n",
       "    <tr>\n",
       "      <th>std</th>\n",
       "      <td>85.854236</td>\n",
       "      <td>14.846809</td>\n",
       "      <td>21.778621</td>\n",
       "      <td>5.217457</td>\n",
       "    </tr>\n",
       "    <tr>\n",
       "      <th>min</th>\n",
       "      <td>0.700000</td>\n",
       "      <td>0.000000</td>\n",
       "      <td>0.300000</td>\n",
       "      <td>1.600000</td>\n",
       "    </tr>\n",
       "    <tr>\n",
       "      <th>25%</th>\n",
       "      <td>74.375000</td>\n",
       "      <td>9.975000</td>\n",
       "      <td>12.750000</td>\n",
       "      <td>10.375000</td>\n",
       "    </tr>\n",
       "    <tr>\n",
       "      <th>50%</th>\n",
       "      <td>149.750000</td>\n",
       "      <td>22.900000</td>\n",
       "      <td>25.750000</td>\n",
       "      <td>12.900000</td>\n",
       "    </tr>\n",
       "    <tr>\n",
       "      <th>75%</th>\n",
       "      <td>218.825000</td>\n",
       "      <td>36.525000</td>\n",
       "      <td>45.100000</td>\n",
       "      <td>17.400000</td>\n",
       "    </tr>\n",
       "    <tr>\n",
       "      <th>max</th>\n",
       "      <td>296.400000</td>\n",
       "      <td>49.600000</td>\n",
       "      <td>114.000000</td>\n",
       "      <td>27.000000</td>\n",
       "    </tr>\n",
       "  </tbody>\n",
       "</table>\n",
       "</div>"
      ],
      "text/plain": [
       "               TV       radio   newspaper       sales\n",
       "count  200.000000  200.000000  200.000000  200.000000\n",
       "mean   147.042500   23.264000   30.554000   14.022500\n",
       "std     85.854236   14.846809   21.778621    5.217457\n",
       "min      0.700000    0.000000    0.300000    1.600000\n",
       "25%     74.375000    9.975000   12.750000   10.375000\n",
       "50%    149.750000   22.900000   25.750000   12.900000\n",
       "75%    218.825000   36.525000   45.100000   17.400000\n",
       "max    296.400000   49.600000  114.000000   27.000000"
      ]
     },
     "execution_count": 57,
     "metadata": {},
     "output_type": "execute_result"
    }
   ],
   "source": [
    "df.describe()"
   ]
  },
  {
   "cell_type": "code",
   "execution_count": 58,
   "metadata": {},
   "outputs": [
    {
     "data": {
      "text/plain": [
       "TV           0\n",
       "radio        0\n",
       "newspaper    0\n",
       "sales        0\n",
       "dtype: int64"
      ]
     },
     "execution_count": 58,
     "metadata": {},
     "output_type": "execute_result"
    }
   ],
   "source": [
    "df.isnull().sum()"
   ]
  },
  {
   "cell_type": "code",
   "execution_count": 60,
   "metadata": {},
   "outputs": [
    {
     "data": {
      "text/plain": [
       "197.6    2\n",
       "237.4    2\n",
       "177.0    2\n",
       "76.4     2\n",
       "222.4    2\n",
       "        ..\n",
       "18.8     1\n",
       "19.4     1\n",
       "26.8     1\n",
       "139.2    1\n",
       "44.5     1\n",
       "Name: TV, Length: 190, dtype: int64"
      ]
     },
     "execution_count": 60,
     "metadata": {},
     "output_type": "execute_result"
    }
   ],
   "source": [
    "df['TV'].value_counts()"
   ]
  },
  {
   "cell_type": "code",
   "execution_count": 61,
   "metadata": {},
   "outputs": [
    {
     "data": {
      "text/plain": [
       "5.7     3\n",
       "4.1     3\n",
       "26.7    2\n",
       "18.1    2\n",
       "43.0    2\n",
       "       ..\n",
       "37.6    1\n",
       "26.9    1\n",
       "40.6    1\n",
       "34.3    1\n",
       "24.0    1\n",
       "Name: radio, Length: 167, dtype: int64"
      ]
     },
     "execution_count": 61,
     "metadata": {},
     "output_type": "execute_result"
    }
   ],
   "source": [
    "df['radio'].value_counts()"
   ]
  },
  {
   "cell_type": "code",
   "execution_count": 62,
   "metadata": {},
   "outputs": [
    {
     "data": {
      "text/plain": [
       "8.7     3\n",
       "25.6    3\n",
       "9.3     3\n",
       "14.2    2\n",
       "45.1    2\n",
       "       ..\n",
       "43.1    1\n",
       "49.3    1\n",
       "31.3    1\n",
       "44.3    1\n",
       "58.5    1\n",
       "Name: newspaper, Length: 172, dtype: int64"
      ]
     },
     "execution_count": 62,
     "metadata": {},
     "output_type": "execute_result"
    }
   ],
   "source": [
    "df['newspaper'].value_counts()"
   ]
  },
  {
   "cell_type": "code",
   "execution_count": 63,
   "metadata": {},
   "outputs": [
    {
     "data": {
      "text/plain": [
       "296.4"
      ]
     },
     "execution_count": 63,
     "metadata": {},
     "output_type": "execute_result"
    }
   ],
   "source": [
    "df['TV'].max()"
   ]
  },
  {
   "cell_type": "code",
   "execution_count": 64,
   "metadata": {},
   "outputs": [
    {
     "data": {
      "text/plain": [
       "85.8542363149081"
      ]
     },
     "execution_count": 64,
     "metadata": {},
     "output_type": "execute_result"
    }
   ],
   "source": [
    "df['TV'].std()#standard deviation"
   ]
  },
  {
   "cell_type": "code",
   "execution_count": 65,
   "metadata": {},
   "outputs": [
    {
     "data": {
      "text/plain": [
       "0.7"
      ]
     },
     "execution_count": 65,
     "metadata": {},
     "output_type": "execute_result"
    }
   ],
   "source": [
    "df['TV'].min()"
   ]
  },
  {
   "cell_type": "code",
   "execution_count": 67,
   "metadata": {},
   "outputs": [
    {
     "data": {
      "text/plain": [
       "TV           85.854236\n",
       "radio        14.846809\n",
       "newspaper    21.778621\n",
       "sales         5.217457\n",
       "dtype: float64"
      ]
     },
     "execution_count": 67,
     "metadata": {},
     "output_type": "execute_result"
    }
   ],
   "source": [
    "df.std()"
   ]
  },
  {
   "cell_type": "code",
   "execution_count": 71,
   "metadata": {},
   "outputs": [
    {
     "data": {
      "text/plain": [
       "<AxesSubplot:title={'center':'Before applying Scaling'}, xlabel='TV', ylabel='Density'>"
      ]
     },
     "execution_count": 71,
     "metadata": {},
     "output_type": "execute_result"
    },
    {
     "data": {
      "image/png": "[encoded data removed]",
      "text/plain": [
       "<Figure size 432x288 with 1 Axes>"
      ]
     },
     "metadata": {
      "needs_background": "light"
     },
     "output_type": "display_data"
    }
   ],
   "source": [
    "import seaborn as sns\n",
    "plt.title(\"Before applying Scaling\")\n",
    "sns.kdeplot(df['TV'])\n",
    "sns.kdeplot(df['radio'])\n",
    "sns.kdeplot(df['newspaper'])\n",
    "sns.kdeplot(df['sales'])"
   ]
  },
  {
   "cell_type": "markdown",
   "metadata": {},
   "source": [
    "## Standard Scaler\n",
    "- mean=0 and std=1\n",
    "\n",
    "   $Z=\\frac{X-\\mu}{\\sigma}$"
   ]
  },
  {
   "cell_type": "code",
   "execution_count": 72,
   "metadata": {},
   "outputs": [],
   "source": [
    "from sklearn.preprocessing import StandardScaler\n",
    "s=StandardScaler()\n",
    "std_data=s.fit_transform(df) #converts df data into standard distribution data like mean=0 and std=1"
   ]
  },
  {
   "cell_type": "code",
   "execution_count": 73,
   "metadata": {},
   "outputs": [
    {
     "data": {
      "text/plain": [
       "array([[ 9.69852266e-01,  9.81522472e-01,  1.77894547e+00,\n",
       "         1.55205313e+00],\n",
       "       [-1.19737623e+00,  1.08280781e+00,  6.69578760e-01,\n",
       "        -6.96046111e-01],\n",
       "       [-1.51615499e+00,  1.52846331e+00,  1.78354865e+00,\n",
       "        -9.07405869e-01],\n",
       "       [ 5.20496822e-02,  1.21785493e+00,  1.28640506e+00,\n",
       "         8.60330287e-01],\n",
       "       [ 3.94182198e-01, -8.41613655e-01,  1.28180188e+00,\n",
       "        -2.15683025e-01],\n",
       "       [-1.61540845e+00,  1.73103399e+00,  2.04592999e+00,\n",
       "        -1.31091086e+00],\n",
       "       [-1.04557682e+00,  6.43904671e-01, -3.24708413e-01,\n",
       "        -4.27042783e-01],\n",
       "       [-3.13436589e-01, -2.47406325e-01, -8.72486994e-01,\n",
       "        -1.58039455e-01],\n",
       "       [-1.61657614e+00, -1.42906863e+00, -1.36042422e+00,\n",
       "        -1.77205942e+00],\n",
       "       [ 6.16042873e-01, -1.39530685e+00, -4.30581584e-01,\n",
       "        -6.57617064e-01],\n",
       "       [-9.45155670e-01, -1.17923146e+00, -2.92486143e-01,\n",
       "        -1.04190753e+00],\n",
       "       [ 7.90028350e-01,  4.96973404e-02, -1.22232878e+00,\n",
       "         6.48970529e-01],\n",
       "       [-1.43908760e+00,  7.99208859e-01,  1.62704048e+00,\n",
       "        -9.26620392e-01],\n",
       "       [-5.78501712e-01, -1.05768905e+00, -1.07502697e+00,\n",
       "        -8.30547775e-01],\n",
       "       [ 6.66253447e-01,  6.50657027e-01,  7.11007392e-01,\n",
       "         9.56402904e-01],\n",
       "       [ 5.64664612e-01,  1.65000572e+00,  1.02862691e+00,\n",
       "         1.60969670e+00],\n",
       "       [-9.25304978e-01,  9.00494200e-01,  3.84117072e+00,\n",
       "        -2.92541119e-01],\n",
       "       [ 1.56887609e+00,  1.10306488e+00,  1.16211917e+00,\n",
       "         1.99398717e+00],\n",
       "       [-9.08957349e-01, -1.86635121e-01, -5.64073843e-01,\n",
       "        -5.23115400e-01],\n",
       "       [ 3.00679600e-03,  4.29449843e-02, -5.27248393e-01,\n",
       "         1.10963873e-01],\n",
       "       [ 8.33232798e-01,  2.99534513e-01,  1.05164281e+00,\n",
       "         7.64257669e-01],\n",
       "       [ 1.05509347e+00, -1.22649795e+00, -3.24708413e-01,\n",
       "        -2.92541119e-01],\n",
       "       [-1.56286250e+00, -4.97243498e-01,  8.76721921e-01,\n",
       "        -1.61834324e+00],\n",
       "       [ 9.48833887e-01, -4.29719938e-01, -2.00422516e-01,\n",
       "         2.83894584e-01],\n",
       "       [-9.89527805e-01, -7.20071247e-01, -5.64073843e-01,\n",
       "        -8.30547775e-01],\n",
       "       [ 1.35285385e+00, -1.33453565e+00, -5.08835667e-01,\n",
       "        -3.88613736e-01],\n",
       "       [-4.83714657e-02,  4.07572210e-01, -8.26455181e-01,\n",
       "         1.87821967e-01],\n",
       "       [ 1.08662104e+00, -4.43224650e-01, -3.52327501e-01,\n",
       "         3.60752677e-01],\n",
       "       [ 1.18820988e+00,  2.59020377e-01, -3.52327501e-01,\n",
       "         9.37188380e-01],\n",
       "       [-8.92609721e-01, -4.90491142e-01,  4.71641962e-01,\n",
       "        -6.76831588e-01],\n",
       "       [ 1.70316018e+00,  3.40048650e-01,  5.82118314e-01,\n",
       "         1.41755147e+00],\n",
       "       [-3.98677796e-01, -3.95958157e-01,  3.70371972e-01,\n",
       "        -4.07828260e-01],\n",
       "       [-5.82004775e-01, -1.46958277e+00, -2.55016247e-02,\n",
       "        -8.49762299e-01],\n",
       "       [ 1.38438142e+00, -2.20396901e-01, -1.39264649e+00,\n",
       "         6.48970529e-01],\n",
       "       [-5.99520091e-01, -1.47633512e+00, -1.06582061e+00,\n",
       "        -8.68976822e-01],\n",
       "       [ 1.67747105e+00, -1.29402151e+00, -1.01518562e+00,\n",
       "        -2.34897549e-01],\n",
       "       [ 1.39956136e+00,  1.38666383e+00, -1.17629696e+00,\n",
       "         2.18613240e+00],\n",
       "       [-8.44734522e-01,  1.76479577e+00,  6.97197848e-01,\n",
       "         1.30178396e-01],\n",
       "       [-1.21372386e+00,  2.32010953e-01,  2.09260624e-01,\n",
       "        -7.53689682e-01],\n",
       "       [ 9.45330823e-01,  9.74770116e-01,  6.65620024e-02,\n",
       "         1.43676599e+00],\n",
       "       [ 6.47570443e-01, -6.50927121e-02,  4.81492770e-02,\n",
       "         4.95254341e-01],\n",
       "       [ 3.49810063e-01,  6.84418807e-01,  3.74975153e-01,\n",
       "         5.91326959e-01],\n",
       "       [ 1.71133400e+00,  2.99534513e-01, -1.32359877e+00,\n",
       "         1.28304980e+00],\n",
       "       [ 6.98948705e-01, -1.00367020e+00, -1.91216154e-01,\n",
       "        -2.15683025e-01],\n",
       "       [-1.42390765e+00,  1.64487393e-01,  5.86721496e-01,\n",
       "        -1.06112206e+00],\n",
       "       [ 3.27623995e-01, -5.15880000e-02,  4.35460956e-02,\n",
       "         1.68607443e-01],\n",
       "       [-6.69581357e-01, -9.02384859e-01,  2.36879713e-01,\n",
       "        -6.57617064e-01],\n",
       "       [ 1.08428567e+00,  1.23135965e+00, -5.54867481e-01,\n",
       "         1.76341289e+00],\n",
       "       [ 9.35989321e-01, -5.03995854e-01,  8.90531465e-01,\n",
       "         1.49392920e-01],\n",
       "       [-9.35814168e-01, -7.80842451e-01,  2.87514708e-01,\n",
       "        -8.30547775e-01],\n",
       "       [ 6.16042873e-01, -1.36154507e+00,  1.86244718e-01,\n",
       "        -5.03900877e-01],\n",
       "       [-5.44638766e-01, -9.22641928e-01, -1.24074150e+00,\n",
       "        -6.38402541e-01],\n",
       "       [ 8.09879042e-01,  1.24486436e+00,  4.16403786e-01,\n",
       "         1.64812575e+00],\n",
       "       [ 4.15200577e-01,  1.54872038e+00,  1.29561142e+00,\n",
       "         1.37912242e+00],\n",
       "       [ 1.35051848e+00,  3.73810430e-01, -6.74550196e-01,\n",
       "         1.18697718e+00],\n",
       "       [ 6.05533683e-01,  1.76479577e+00,  1.35545278e+00,\n",
       "         1.85948550e+00],\n",
       "       [-1.63175608e+00,  3.26543937e-01,  4.99261050e-01,\n",
       "        -1.63755776e+00],\n",
       "       [-1.26606546e-01, -2.74415749e-01, -6.42327927e-01,\n",
       "        -1.58039455e-01],\n",
       "       [ 7.44488528e-01,  1.77830048e+00,  3.28943340e-01,\n",
       "         1.87870003e+00],\n",
       "       [ 7.43320840e-01,  4.21076922e-01, -9.78360166e-01,\n",
       "         8.41115763e-01],\n",
       "       [-1.09228433e+00, -1.43582099e+00, -4.21375221e-01,\n",
       "        -1.13798015e+00],\n",
       "       [ 1.33417085e+00,  1.31238792e+00,  1.11148417e+00,\n",
       "         1.95555812e+00],\n",
       "       [ 1.07727954e+00, -5.24252922e-01, -1.49787521e-01,\n",
       "         3.22323631e-01],\n",
       "       [-5.17781948e-01,  4.27829278e-01, -1.01978880e+00,\n",
       "        -4.32326777e-03],\n",
       "       [-1.86158622e-01,  1.31914027e+00, -7.61366196e-02,\n",
       "         7.64257669e-01],\n",
       "       [-9.11292725e-01, -9.42898996e-01, -1.36502740e+00,\n",
       "        -9.07405869e-01],\n",
       "       [-1.34917564e+00,  9.02114765e-02, -1.30518604e+00,\n",
       "        -8.68976822e-01],\n",
       "       [-9.04082253e-02, -5.91776482e-01, -9.36931533e-01,\n",
       "        -1.19610408e-01],\n",
       "       [ 1.05509347e+00,  2.86029801e-01, -9.00106083e-01,\n",
       "         9.37188380e-01],\n",
       "       [ 8.14549794e-01,  1.39341619e+00, -1.54390703e-01,\n",
       "         1.59048218e+00],\n",
       "       [ 6.07869059e-01,  4.95352838e-01,  3.74975153e-01,\n",
       "         8.21901240e-01],\n",
       "       [-4.34876116e-01, -6.05281194e-01,  5.27524584e-02,\n",
       "        -3.11755643e-01],\n",
       "       [-1.40405696e+00,  6.57409383e-01, -5.18042030e-01,\n",
       "        -1.00347849e+00],\n",
       "       [-2.06009314e-01, -1.18598381e+00,  3.43397329e-02,\n",
       "        -5.80758971e-01],\n",
       "       [ 7.74848409e-01,  9.02114765e-02, -8.03439274e-01,\n",
       "         5.72112435e-01],\n",
       "       [-1.51965805e+00,  1.37991148e+00,  2.70878810e+00,\n",
       "        -1.02269301e+00],\n",
       "       [-1.39588315e+00, -1.46283041e+00, -4.53597491e-01,\n",
       "        -1.36855443e+00],\n",
       "       [-3.09933525e-01,  3.53553362e-01, -7.52804279e-01,\n",
       "         3.41057791e-02],\n",
       "       [-1.65394214e+00,  4.48086346e-01, -9.73756984e-01,\n",
       "        -1.67598681e+00],\n",
       "       [-3.62479475e-01, -1.05093669e+00, -3.43121138e-01,\n",
       "        -5.80758971e-01],\n",
       "       [-8.24883830e-01,  2.32010953e-01, -3.79946589e-01,\n",
       "        -4.27042783e-01],\n",
       "       [ 1.08311798e+00, -1.29402151e+00,  2.92117889e-01,\n",
       "        -3.30970166e-01],\n",
       "       [-8.37728396e-01, -2.00139833e-01,  8.95779092e-02,\n",
       "        -5.23115400e-01],\n",
       "       [-9.18298852e-01,  1.43393033e+00,  2.32276531e-01,\n",
       "        -8.11813615e-02],\n",
       "       [ 7.76016097e-01,  1.33264499e+00,  1.49419267e-01,\n",
       "         1.47519504e+00],\n",
       "       [ 5.38975481e-01, -3.28434597e-01,  1.61783412e+00,\n",
       "         2.26251013e-01],\n",
       "       [-8.26051518e-01,  2.86029801e-01, -6.69947015e-01,\n",
       "        -3.88613736e-01],\n",
       "       [-4.24366926e-01,  1.17058844e+00,  1.50275459e+00,\n",
       "         3.79967201e-01],\n",
       "       [-6.85928986e-01,  1.50982681e-01,  1.97227908e+00,\n",
       "        -2.15683025e-01],\n",
       "       [-4.34876116e-01,  1.65675807e+00,  9.59579186e-01,\n",
       "         5.14468865e-01],\n",
       "       [-1.48792614e-01, -1.24000266e+00, -9.78360166e-01,\n",
       "        -5.42329924e-01],\n",
       "       [-1.38303858e+00, -1.46958277e+00,  1.12593816e-01,\n",
       "        -1.29169634e+00],\n",
       "       [ 8.25058983e-01,  6.91171163e-01,  1.30942097e+00,\n",
       "         1.03326100e+00],\n",
       "       [ 1.21273132e+00,  8.93741844e-01,  1.92164409e+00,\n",
       "         1.57126765e+00],\n",
       "       [-4.62900623e-01, -6.25538262e-01, -9.04709264e-01,\n",
       "        -4.84686354e-01],\n",
       "       [ 1.89836839e-01,  5.62876398e-01,  1.02862691e+00,\n",
       "         5.52897912e-01],\n",
       "       [ 5.90353742e-01, -1.33453565e+00, -1.13486833e+00,\n",
       "        -4.46257307e-01],\n",
       "       [ 4.42057396e-01, -1.52873340e-01, -3.93756133e-01,\n",
       "         2.83894584e-01],\n",
       "       [ 1.66579418e+00,  1.28537849e+00,  9.50372823e-01,\n",
       "         2.18613240e+00],\n",
       "       [-1.38283424e-01,  1.24486436e+00,  7.06404211e-01,\n",
       "         6.10541482e-01],\n",
       "       [ 8.79940308e-01, -1.28051680e+00,  8.85928284e-01,\n",
       "        -4.46257307e-01],\n",
       "       [ 1.74402926e+00,  8.80237132e-01,  3.23815396e+00,\n",
       "         1.87870003e+00],\n",
       "       [ 1.55486384e+00, -8.88880147e-01, -4.21375221e-01,\n",
       "         1.49392920e-01],\n",
       "       [ 4.77088029e-01, -4.09462869e-01, -5.82486569e-01,\n",
       "         1.30178396e-01],\n",
       "       [ 1.06443498e+00,  7.45190011e-01, -1.16248742e+00,\n",
       "         1.28304980e+00],\n",
       "       [-1.06755854e-01,  1.56222509e+00,  1.30942097e+00,\n",
       "         9.94831951e-01],\n",
       "       [-1.42507534e+00, -8.28108943e-01, -3.93111688e-02,\n",
       "        -1.31091086e+00],\n",
       "       [-6.61407543e-01, -1.55061104e+00, -3.38517957e-01,\n",
       "        -1.02269301e+00],\n",
       "       [-1.56403019e+00, -1.54385868e+00, -2.28041604e-01,\n",
       "        -1.67598681e+00],\n",
       "       [ 1.26527727e+00,  2.45515665e-01, -1.15328106e+00,\n",
       "         1.11011909e+00],\n",
       "       [ 9.19641692e-01, -1.01717491e+00,  1.19434143e+00,\n",
       "        -1.19610408e-01],\n",
       "       [ 1.10530405e+00,  9.95027184e-01, -3.38517957e-01,\n",
       "         1.49440956e+00],\n",
       "       [ 3.34630122e-01, -5.31005278e-01, -1.29597968e+00,\n",
       "         1.48912557e-02],\n",
       "       [ 7.30476274e-01, -1.79882765e-01, -9.13915627e-01,\n",
       "         3.60752677e-01],\n",
       "       [-8.03865450e-01,  1.58923451e+00,  1.81641536e-01,\n",
       "         1.10963873e-01],\n",
       "       [-8.40063771e-01,  7.92456503e-01,  1.01942054e+00,\n",
       "        -2.73326596e-01],\n",
       "       [-9.15759131e-02, -6.05281194e-01, -2.28041604e-01,\n",
       "        -3.50184689e-01],\n",
       "       [-8.24883830e-01, -1.51684926e+00, -7.25185191e-01,\n",
       "        -8.88191346e-01],\n",
       "       [-2.49213762e-01,  9.20751268e-01,  2.23926360e+00,\n",
       "         3.60752677e-01],\n",
       "       [-1.49046586e+00, -4.90491142e-01, -3.79946589e-01,\n",
       "        -1.42619800e+00],\n",
       "       [-6.70544700e-02,  2.38763309e-01,  7.20213755e-01,\n",
       "         2.83894584e-01],\n",
       "       [-1.49747198e+00, -1.05606848e-01,  9.13547372e-01,\n",
       "        -1.34933991e+00],\n",
       "       [ 8.98623313e-01, -1.40881156e+00, -6.88359740e-01,\n",
       "        -4.65471830e-01],\n",
       "       [-2.79573643e-01,  7.65447079e-01, -8.35661544e-01,\n",
       "         2.26251013e-01],\n",
       "       [ 9.62846140e-01,  6.10142891e-01,  2.00910454e+00,\n",
       "         1.09090457e+00],\n",
       "       [-6.98773552e-01, -7.74090095e-01, -2.14232060e-01,\n",
       "        -6.57617064e-01],\n",
       "       [-1.62591764e+00,  1.05579839e+00,  9.22753735e-01,\n",
       "        -1.42619800e+00],\n",
       "       [-7.80511695e-01, -1.57086811e+00, -9.82963347e-01,\n",
       "        -1.00347849e+00],\n",
       "       [ 8.55418865e-01,  1.73778635e+00, -1.25915423e+00,\n",
       "         2.05163074e+00],\n",
       "       [-1.02105537e+00, -7.60585383e-01,  5.77515133e-01,\n",
       "        -8.30547775e-01],\n",
       "       [-1.70882347e+00,  1.10306488e+00, -1.00597925e+00,\n",
       "        -2.38692417e+00],\n",
       "       [ 1.37971067e+00, -1.37504978e+00,  5.72911952e-01,\n",
       "        -2.54112072e-01],\n",
       "       [-1.61891151e+00,  2.65772733e-01, -1.30978922e+00,\n",
       "        -1.59912871e+00],\n",
       "       [ 8.49580427e-01,  6.91171163e-01,  6.69578760e-01,\n",
       "         1.07169004e+00],\n",
       "       [-1.28612050e+00,  1.03554132e+00,  1.61323094e+00,\n",
       "        -6.19188018e-01],\n",
       "       [-1.15300409e+00,  1.60273923e+00, -1.01518562e+00,\n",
       "        -4.65471830e-01],\n",
       "       [-1.41806922e+00,  1.06255074e+00, -9.78360166e-01,\n",
       "        -8.68976822e-01],\n",
       "       [ 1.47896413e+00,  3.80562786e-01,  1.34164324e+00,\n",
       "         1.30226433e+00],\n",
       "       [-1.21489154e+00,  1.77992105e-01, -4.62803854e-01,\n",
       "        -8.49762299e-01],\n",
       "       [ 4.42057396e-01,  1.39341619e+00, -1.32820195e+00,\n",
       "         1.28304980e+00],\n",
       "       [-8.59914463e-01, -4.22967582e-01, -8.12645637e-01,\n",
       "        -5.99973494e-01],\n",
       "       [ 5.44813920e-01,  8.19465927e-01,  2.07354907e+00,\n",
       "         9.94831951e-01],\n",
       "       [ 8.57754241e-01,  6.70914095e-01,  3.38149702e-01,\n",
       "         1.16776266e+00],\n",
       "       [-4.95595880e-01, -1.18598381e+00,  1.77038355e-01,\n",
       "        -6.96046111e-01],\n",
       "       [-5.93681653e-01, -5.71519414e-01,  3.84181516e-01,\n",
       "        -5.03900877e-01],\n",
       "       [-7.87313476e-02, -1.44257334e+00, -9.92169710e-01,\n",
       "        -7.15260635e-01],\n",
       "       [ 1.08662104e+00, -1.07794612e+00, -1.00597925e+00,\n",
       "        -1.58039455e-01],\n",
       "       [ 1.12281936e+00,  1.73778635e+00,  6.32753309e-01,\n",
       "         2.18613240e+00],\n",
       "       [-1.27327593e+00,  1.15033137e+00, -8.58677450e-01,\n",
       "        -5.99973494e-01],\n",
       "       [-1.19504085e+00,  1.71239749e-01, -4.58200672e-01,\n",
       "        -7.53689682e-01],\n",
       "       [ 1.56070228e+00, -6.32290618e-01,  2.96721070e-01,\n",
       "         3.99181724e-01],\n",
       "       [-3.04095087e-01, -1.00367020e+00,  8.35293289e-01,\n",
       "        -4.65471830e-01],\n",
       "       [ 5.90353742e-01,  2.43084817e-03, -7.52804279e-01,\n",
       "         4.95254341e-01],\n",
       "       [ 2.83251860e-01,  1.10981724e+00,  3.28943340e-01,\n",
       "         9.56402904e-01],\n",
       "       [ 4.75920341e-01, -1.46120984e-01, -9.69153803e-01,\n",
       "         3.03109107e-01],\n",
       "       [-1.66912209e+00, -7.87594807e-01, -1.14407469e+00,\n",
       "        -2.07949180e+00],\n",
       "       [-6.20538471e-01,  1.36640677e+00,  9.18150553e-01,\n",
       "         2.45465537e-01],\n",
       "       [ 3.21989902e-02, -1.48308748e+00, -2.87882962e-01,\n",
       "        -7.53689682e-01],\n",
       "       [-1.58037782e+00,  9.20751268e-01,  6.74181942e-01,\n",
       "        -1.29169634e+00],\n",
       "       [-1.79152496e-01, -3.28434597e-01,  1.86244718e-01,\n",
       "        -2.15683025e-01],\n",
       "       [ 2.97264113e-01, -3.48691665e-01,  6.72064478e-03,\n",
       "         7.25348259e-02],\n",
       "       [-7.16288868e-01,  8.46475352e-01,  8.62912377e-01,\n",
       "        -1.38824932e-01],\n",
       "       [ 4.82926468e-01, -3.48691665e-01, -2.28041604e-01,\n",
       "         1.68607443e-01],\n",
       "       [ 1.92172214e-01,  9.13998912e-01, -1.06582061e+00,\n",
       "         7.64257669e-01],\n",
       "       [-3.48467222e-01, -5.78271770e-01, -1.15788424e+00,\n",
       "        -4.07828260e-01],\n",
       "       [ 1.02123053e+00, -1.34128800e+00,  2.49704176e+00,\n",
       "        -4.07828260e-01],\n",
       "       [-1.50798117e+00,  9.68017760e-01, -4.12168859e-01,\n",
       "        -1.15719467e+00],\n",
       "       [ 6.97781017e-01, -1.21974559e+00, -5.13438849e-01,\n",
       "        -3.50184689e-01],\n",
       "       [ 7.98202165e-01,  2.26879163e-02,  1.24497643e+00,\n",
       "         5.91326959e-01],\n",
       "       [ 1.60273904e+00, -8.55118367e-01, -1.11185242e+00,\n",
       "         1.87821967e-01],\n",
       "       [-1.13315340e+00, -7.87594807e-01, -5.59470662e-01,\n",
       "        -1.08033658e+00],\n",
       "       [ 2.03849092e-01, -1.59625696e-01,  7.75451931e-01,\n",
       "         9.17493494e-02],\n",
       "       [-1.48813048e+00, -2.13644545e-01, -6.23915201e-01,\n",
       "        -1.23405277e+00],\n",
       "       [ 2.49388915e-01, -1.09145083e+00, -8.17248818e-01,\n",
       "        -4.46257307e-01],\n",
       "       [ 8.79940308e-01, -1.34128800e+00, -8.03439274e-01,\n",
       "        -4.84686354e-01],\n",
       "       [ 1.51633014e+00,  1.73103399e+00,  5.17673775e-01,\n",
       "         2.49356478e+00],\n",
       "       [ 1.18353913e+00,  4.68343414e-01, -4.72010216e-01,\n",
       "         1.18697718e+00],\n",
       "       [ 2.70407294e-01, -1.04418434e+00,  2.13863806e-01,\n",
       "        -4.46257307e-01],\n",
       "       [ 1.51399477e+00, -1.41556392e+00, -3.15502050e-01,\n",
       "        -4.27042783e-01],\n",
       "       [ 2.16693657e-01, -8.95632503e-01, -5.96296113e-01,\n",
       "        -2.73326596e-01],\n",
       "       [ 1.11601758e-01, -1.39530685e+00, -1.02439198e+00,\n",
       "        -6.76831588e-01],\n",
       "       [ 8.34400486e-01, -1.20624088e+00, -1.45184340e-01,\n",
       "        -3.50184689e-01],\n",
       "       [-1.06075676e+00, -1.18598381e+00, -3.93111688e-02,\n",
       "        -1.02269301e+00],\n",
       "       [ 1.64127273e+00,  1.33264499e+00,  1.89862818e+00,\n",
       "         2.33984859e+00],\n",
       "       [ 1.24659427e+00, -1.32616272e-01, -2.55016247e-02,\n",
       "         6.87399576e-01],\n",
       "       [ 6.76762637e-01,  1.47444446e+00, -5.04232486e-01,\n",
       "         1.64812575e+00],\n",
       "       [-8.80728498e-02, -1.42906863e+00, -1.82009791e-01,\n",
       "        -7.15260635e-01],\n",
       "       [ 5.14454038e-01,  3.67058074e-01, -5.68677025e-01,\n",
       "         6.29756005e-01],\n",
       "       [ 1.62258973e+00, -6.32290618e-01, -1.23613832e+00,\n",
       "         3.60752677e-01],\n",
       "       [-1.49863967e+00, -7.53833027e-01, -3.29311594e-01,\n",
       "        -1.40698348e+00],\n",
       "       [-1.25576062e+00,  1.20435022e+00, -1.13947151e+00,\n",
       "        -6.19188018e-01],\n",
       "       [-8.35393020e-01, -8.41613655e-01, -1.13026515e+00,\n",
       "        -7.92118728e-01],\n",
       "       [-1.51615499e+00, -1.29402151e+00,  4.81492770e-02,\n",
       "        -1.56069967e+00],\n",
       "       [ 2.30705910e-01,  1.26512143e+00, -1.24074150e+00,\n",
       "         1.07169004e+00],\n",
       "       [ 3.10313024e-02,  8.32970639e-01, -1.13026515e+00,\n",
       "         6.29756005e-01],\n",
       "       [-1.27094056e+00, -1.32103093e+00, -7.71217005e-01,\n",
       "        -1.23405277e+00],\n",
       "       [-6.17035408e-01, -1.24000266e+00, -1.03359834e+00,\n",
       "        -8.30547775e-01],\n",
       "       [ 3.49810063e-01, -9.42898996e-01, -1.11185242e+00,\n",
       "        -2.34897549e-01],\n",
       "       [ 1.59456522e+00,  1.26512143e+00,  1.64085003e+00,\n",
       "         2.20534693e+00],\n",
       "       [ 9.93206022e-01, -9.90165488e-01, -1.00597925e+00,\n",
       "        -1.19610408e-01]])"
      ]
     },
     "execution_count": 73,
     "metadata": {},
     "output_type": "execute_result"
    }
   ],
   "source": [
    "std_data"
   ]
  },
  {
   "cell_type": "code",
   "execution_count": null,
   "metadata": {},
   "outputs": [],
   "source": []
  }
 ],
 "metadata": {
  "kernelspec": {
   "display_name": "Python 3",
   "language": "python",
   "name": "python3"
  },
  "language_info": {
   "codemirror_mode": {
    "name": "ipython",
    "version": 3
   },
   "file_extension": ".py",
   "mimetype": "text/x-python",
   "name": "python",
   "nbconvert_exporter": "python",
   "pygments_lexer": "ipython3",
   "version": "3.8.5"
  }
 },
 "nbformat": 4,
 "nbformat_minor": 4
}
