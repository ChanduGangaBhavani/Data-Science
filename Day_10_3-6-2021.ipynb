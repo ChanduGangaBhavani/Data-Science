{
 "cells": [
  {
   "cell_type": "markdown",
   "metadata": {},
   "source": [
    "### Today Objectives\n",
    "\n",
    "\n",
    "- Dictionary\n",
    "    - Accessing Elements\n",
    "    - Dictionary Methods\n",
    "- Sets\n",
    "    - Set Methods"
   ]
  },
  {
   "cell_type": "markdown",
   "metadata": {},
   "source": [
    "### Dictionary\n",
    "\n",
    "\n",
    "It is used to store non-homogenous group of data in the form of Key:value\n",
    "\n",
    "### Properties\n",
    "\n",
    "\n",
    "- It is used to store data as K:V in `{}`\n",
    "- It is iterable\n",
    "- ordered\n",
    "    - Python 3.6 is unordered\n",
    "    - Python 3.6+ is ordered\n",
    "- It is iterable\n",
    "- Key should be unique and it is immutable"
   ]
  },
  {
   "cell_type": "code",
   "execution_count": 43,
   "metadata": {},
   "outputs": [
    {
     "name": "stdout",
     "output_type": "stream",
     "text": [
      "<class 'dict'> <class 'dict'>\n"
     ]
    }
   ],
   "source": [
    "d1= {}\n",
    "d2= dict()\n",
    "\n",
    "\n",
    "print(type(d1),type(d2))"
   ]
  },
  {
   "cell_type": "code",
   "execution_count": 44,
   "metadata": {},
   "outputs": [
    {
     "name": "stdout",
     "output_type": "stream",
     "text": [
      "{'RollNo': [1, 2, 3, 4, 5, 6]}\n"
     ]
    }
   ],
   "source": [
    "d1 = { 'RollNo':[1,2,3,4,5,6]}\n",
    "print(d1)"
   ]
  },
  {
   "cell_type": "code",
   "execution_count": 45,
   "metadata": {},
   "outputs": [
    {
     "name": "stdout",
     "output_type": "stream",
     "text": [
      "{'1234567890': ['APSSDC', 'Visakapatnam', '1/5/7', '9876543210'], '9876543210': ['Python', 'Earth', '9/8/7', '0123456789']}\n"
     ]
    }
   ],
   "source": [
    "d1={'1234567890': ['APSSDC','Vijayawada','1/5/7','9876543210'],\n",
    "    '9876543210' : ['Python', 'Earth','9/8/7','0123456789'],\n",
    "    '1234567890' : ['APSSDC','Visakapatnam','1/5/7','9876543210']}\n",
    "print(d1)"
   ]
  },
  {
   "cell_type": "code",
   "execution_count": 46,
   "metadata": {},
   "outputs": [
    {
     "name": "stdout",
     "output_type": "stream",
     "text": [
      "{(1, 2, 3): 'Python'}\n"
     ]
    }
   ],
   "source": [
    "d2={(1,2,3):'Python'}\n",
    "print(d2)"
   ]
  },
  {
   "cell_type": "markdown",
   "metadata": {},
   "source": [
    "### Accessing the pairs from the dict"
   ]
  },
  {
   "cell_type": "code",
   "execution_count": 47,
   "metadata": {},
   "outputs": [
    {
     "name": "stdout",
     "output_type": "stream",
     "text": [
      "{'1234567890': ['APSSDC', 'Visakapatnam', '1/5/7', '9876543210'], '9876543210': ['Python', 'Earth', '9/8/7', '0123456789']}\n"
     ]
    }
   ],
   "source": [
    "print(d1)"
   ]
  },
  {
   "cell_type": "code",
   "execution_count": 48,
   "metadata": {},
   "outputs": [
    {
     "name": "stdout",
     "output_type": "stream",
     "text": [
      "['APSSDC', 'Visakapatnam', '1/5/7', '9876543210']\n"
     ]
    }
   ],
   "source": [
    "print(d1['1234567890'])"
   ]
  },
  {
   "cell_type": "code",
   "execution_count": 49,
   "metadata": {},
   "outputs": [],
   "source": [
    "d1['123456789'] = ['Apssdc','Visakapatnam','1/1/2004','9876543210']"
   ]
  },
  {
   "cell_type": "code",
   "execution_count": 50,
   "metadata": {},
   "outputs": [
    {
     "name": "stdout",
     "output_type": "stream",
     "text": [
      "['Apssdc', 'Visakapatnam', '1/1/2004', '9876543210']\n"
     ]
    }
   ],
   "source": [
    "print(d1['123456789'])"
   ]
  },
  {
   "cell_type": "code",
   "execution_count": 51,
   "metadata": {},
   "outputs": [
    {
     "name": "stdout",
     "output_type": "stream",
     "text": [
      "1/1/2004\n"
     ]
    }
   ],
   "source": [
    "print(d1['123456789'][2])"
   ]
  },
  {
   "cell_type": "code",
   "execution_count": 52,
   "metadata": {},
   "outputs": [
    {
     "name": "stdout",
     "output_type": "stream",
     "text": [
      "{'1234567890': ['APSSDC', 'Visakapatnam', '1/5/7', '9876543210'], '9876543210': ['Python', 'Earth', '9/8/7', '0123456789'], '123456789': ['Apssdc', 'Visakapatnam', '7/7/2004', '9876543210']}\n"
     ]
    }
   ],
   "source": [
    "d1['123456789'][2] = '7/7/2004'\n",
    "print(d1)"
   ]
  },
  {
   "cell_type": "code",
   "execution_count": 53,
   "metadata": {},
   "outputs": [],
   "source": [
    "d1['1234567890']=sorted(d1['123456789'])"
   ]
  },
  {
   "cell_type": "code",
   "execution_count": 54,
   "metadata": {},
   "outputs": [
    {
     "name": "stdout",
     "output_type": "stream",
     "text": [
      "{'1234567890': ['7/7/2004', '9876543210', 'Apssdc', 'Visakapatnam'], '9876543210': ['Python', 'Earth', '9/8/7', '0123456789'], '123456789': ['Apssdc', 'Visakapatnam', '7/7/2004', '9876543210']}\n"
     ]
    }
   ],
   "source": [
    "print(d1)"
   ]
  },
  {
   "cell_type": "code",
   "execution_count": 55,
   "metadata": {},
   "outputs": [],
   "source": [
    "d2={123:456,132:344,123:456}"
   ]
  },
  {
   "cell_type": "code",
   "execution_count": 56,
   "metadata": {},
   "outputs": [
    {
     "name": "stdout",
     "output_type": "stream",
     "text": [
      "{123: 456, 132: 344}\n"
     ]
    }
   ],
   "source": [
    "print(d2)"
   ]
  },
  {
   "cell_type": "code",
   "execution_count": 59,
   "metadata": {},
   "outputs": [
    {
     "name": "stdout",
     "output_type": "stream",
     "text": [
      "456\n"
     ]
    }
   ],
   "source": [
    "print(d2[123])"
   ]
  },
  {
   "cell_type": "markdown",
   "metadata": {},
   "source": [
    "### Dictionary Methods"
   ]
  },
  {
   "cell_type": "code",
   "execution_count": 58,
   "metadata": {},
   "outputs": [
    {
     "name": "stdout",
     "output_type": "stream",
     "text": [
      "{'1234567890': ['7/7/2004', '9876543210', 'Apssdc', 'Visakapatnam'], '9876543210': ['Python', 'Earth', '9/8/7', '0123456789'], '123456789': ['Apssdc', 'Visakapatnam', '7/7/2004', '9876543210']}\n"
     ]
    }
   ],
   "source": [
    "print(d1)"
   ]
  },
  {
   "cell_type": "code",
   "execution_count": 60,
   "metadata": {},
   "outputs": [
    {
     "name": "stdout",
     "output_type": "stream",
     "text": [
      "dict_keys(['1234567890', '9876543210', '123456789'])\n"
     ]
    }
   ],
   "source": [
    "print(d1.keys())"
   ]
  },
  {
   "cell_type": "code",
   "execution_count": 62,
   "metadata": {},
   "outputs": [
    {
     "name": "stdout",
     "output_type": "stream",
     "text": [
      "dict_values([['7/7/2004', '9876543210', 'Apssdc', 'Visakapatnam'], ['Python', 'Earth', '9/8/7', '0123456789'], ['Apssdc', 'Visakapatnam', '7/7/2004', '9876543210']])\n"
     ]
    }
   ],
   "source": [
    "print(d1.values())"
   ]
  },
  {
   "cell_type": "code",
   "execution_count": 63,
   "metadata": {},
   "outputs": [
    {
     "name": "stdout",
     "output_type": "stream",
     "text": [
      "dict_items([('1234567890', ['7/7/2004', '9876543210', 'Apssdc', 'Visakapatnam']), ('9876543210', ['Python', 'Earth', '9/8/7', '0123456789']), ('123456789', ['Apssdc', 'Visakapatnam', '7/7/2004', '9876543210'])])\n"
     ]
    }
   ],
   "source": [
    "print(d1.items())"
   ]
  },
  {
   "cell_type": "code",
   "execution_count": 64,
   "metadata": {},
   "outputs": [
    {
     "data": {
      "text/plain": [
       "['7/7/2004', '9876543210', 'Apssdc', 'Visakapatnam']"
      ]
     },
     "execution_count": 64,
     "metadata": {},
     "output_type": "execute_result"
    }
   ],
   "source": [
    "d1.get('1234567890')"
   ]
  },
  {
   "cell_type": "code",
   "execution_count": 75,
   "metadata": {},
   "outputs": [],
   "source": [
    "m21 ={ '2_1':[25,55,65,77,80,60],'3_1':[1,2,4,5,6]}\n",
    "m31={'2_1':[35,55,65,77,80,60]}\n",
    "m32={'2_1':[50,55,65,77,80,60],'3_2' : [6,5,4,3,2,1]}"
   ]
  },
  {
   "cell_type": "code",
   "execution_count": 76,
   "metadata": {},
   "outputs": [
    {
     "name": "stdout",
     "output_type": "stream",
     "text": [
      "{'2_1': [25, 55, 65, 77, 80, 60], '3_1': [1, 2, 4, 5, 6]}\n"
     ]
    }
   ],
   "source": [
    "print(m21)"
   ]
  },
  {
   "cell_type": "code",
   "execution_count": 77,
   "metadata": {},
   "outputs": [
    {
     "name": "stdout",
     "output_type": "stream",
     "text": [
      "{'2_1': [35, 55, 65, 77, 80, 60], '3_1': [1, 2, 4, 5, 6]}\n"
     ]
    }
   ],
   "source": [
    "m21.update(m31)\n",
    "print(m21)"
   ]
  },
  {
   "cell_type": "code",
   "execution_count": 78,
   "metadata": {},
   "outputs": [
    {
     "name": "stdout",
     "output_type": "stream",
     "text": [
      "{'2_1': [50, 55, 65, 77, 80, 60], '3_1': [1, 2, 4, 5, 6], '3_2': [6, 5, 4, 3, 2, 1]}\n"
     ]
    }
   ],
   "source": [
    "m21.update(m32)\n",
    "\n",
    "print(m21)"
   ]
  },
  {
   "cell_type": "code",
   "execution_count": 79,
   "metadata": {},
   "outputs": [
    {
     "name": "stdout",
     "output_type": "stream",
     "text": [
      "{'2_1': [35, 55, 65, 77, 80, 60]}\n"
     ]
    }
   ],
   "source": [
    "m21 =m31.copy()\n",
    "\n",
    "print(m21)"
   ]
  },
  {
   "cell_type": "code",
   "execution_count": 80,
   "metadata": {},
   "outputs": [
    {
     "name": "stdout",
     "output_type": "stream",
     "text": [
      "{}\n"
     ]
    }
   ],
   "source": [
    "m21.clear()\n",
    "\n",
    "print(m21)"
   ]
  },
  {
   "cell_type": "code",
   "execution_count": 87,
   "metadata": {},
   "outputs": [
    {
     "name": "stdout",
     "output_type": "stream",
     "text": [
      "('3_2', [6, 5, 4, 3, 2, 1])\n",
      "{'2_1': [50, 55, 65, 77, 80, 60]}\n"
     ]
    }
   ],
   "source": [
    "print(m32.popitem())\n",
    "print(m32)"
   ]
  },
  {
   "cell_type": "code",
   "execution_count": 88,
   "metadata": {},
   "outputs": [
    {
     "name": "stdout",
     "output_type": "stream",
     "text": [
      "[1, 2, 3]\n"
     ]
    }
   ],
   "source": [
    "li =[1,2,3]\n",
    "\n",
    "a,b,c=li\n",
    "\n",
    "print(li)"
   ]
  },
  {
   "cell_type": "code",
   "execution_count": 90,
   "metadata": {},
   "outputs": [
    {
     "name": "stdout",
     "output_type": "stream",
     "text": [
      "[1, 2, 3]\n"
     ]
    }
   ],
   "source": [
    "li2=[a,b,c]\n",
    "\n",
    "print(li2)"
   ]
  },
  {
   "cell_type": "code",
   "execution_count": 91,
   "metadata": {},
   "outputs": [
    {
     "name": "stdout",
     "output_type": "stream",
     "text": [
      "3\n"
     ]
    }
   ],
   "source": [
    "print(len(d1))"
   ]
  },
  {
   "cell_type": "markdown",
   "metadata": {},
   "source": [
    "### Iterating"
   ]
  },
  {
   "cell_type": "code",
   "execution_count": 92,
   "metadata": {},
   "outputs": [
    {
     "name": "stdout",
     "output_type": "stream",
     "text": [
      "1234567890\n",
      "9876543210\n",
      "123456789\n"
     ]
    }
   ],
   "source": [
    "for pair in d1:\n",
    "    print(pair)"
   ]
  },
  {
   "cell_type": "code",
   "execution_count": 94,
   "metadata": {},
   "outputs": [
    {
     "name": "stdout",
     "output_type": "stream",
     "text": [
      "('1234567890', ['7/7/2004', '9876543210', 'Apssdc', 'Visakapatnam'])\n",
      "('9876543210', ['Python', 'Earth', '9/8/7', '0123456789'])\n",
      "('123456789', ['Apssdc', 'Visakapatnam', '7/7/2004', '9876543210'])\n"
     ]
    }
   ],
   "source": [
    "for pair in d1.items():\n",
    "    print(pair)"
   ]
  },
  {
   "cell_type": "code",
   "execution_count": 95,
   "metadata": {},
   "outputs": [
    {
     "name": "stdout",
     "output_type": "stream",
     "text": [
      "['7/7/2004', '9876543210', 'Apssdc', 'Visakapatnam']\n",
      "['Python', 'Earth', '9/8/7', '0123456789']\n",
      "['Apssdc', 'Visakapatnam', '7/7/2004', '9876543210']\n"
     ]
    }
   ],
   "source": [
    "for pair in d1.items():\n",
    "    print(pair[1])"
   ]
  },
  {
   "cell_type": "code",
   "execution_count": 98,
   "metadata": {},
   "outputs": [
    {
     "name": "stdout",
     "output_type": "stream",
     "text": [
      "1234567890\n",
      "['7/7/2004', '9876543210', 'Apssdc', 'Visakapatnam']\n",
      "**********\n",
      "9876543210\n",
      "['Python', 'Earth', '9/8/7', '0123456789']\n",
      "**********\n",
      "123456789\n",
      "['Apssdc', 'Visakapatnam', '7/7/2004', '9876543210']\n",
      "**********\n"
     ]
    }
   ],
   "source": [
    "for key,value in d1.items():\n",
    "    print(key)\n",
    "    print(value)\n",
    "    print('*' * 10)"
   ]
  },
  {
   "cell_type": "markdown",
   "metadata": {},
   "source": [
    "### {1:1 ,2:4,3:9..............100:10000}"
   ]
  },
  {
   "cell_type": "code",
   "execution_count": 99,
   "metadata": {},
   "outputs": [
    {
     "name": "stdout",
     "output_type": "stream",
     "text": [
      "{1: 1, 2: 4, 3: 9, 4: 16, 5: 25, 6: 36, 7: 49, 8: 64, 9: 81, 10: 100, 11: 121, 12: 144, 13: 169, 14: 196, 15: 225, 16: 256, 17: 289, 18: 324, 19: 361, 20: 400, 21: 441, 22: 484, 23: 529, 24: 576, 25: 625, 26: 676, 27: 729, 28: 784, 29: 841, 30: 900, 31: 961, 32: 1024, 33: 1089, 34: 1156, 35: 1225, 36: 1296, 37: 1369, 38: 1444, 39: 1521, 40: 1600, 41: 1681, 42: 1764, 43: 1849, 44: 1936, 45: 2025, 46: 2116, 47: 2209, 48: 2304, 49: 2401, 50: 2500, 51: 2601, 52: 2704, 53: 2809, 54: 2916, 55: 3025, 56: 3136, 57: 3249, 58: 3364, 59: 3481, 60: 3600, 61: 3721, 62: 3844, 63: 3969, 64: 4096, 65: 4225, 66: 4356, 67: 4489, 68: 4624, 69: 4761, 70: 4900, 71: 5041, 72: 5184, 73: 5329, 74: 5476, 75: 5625, 76: 5776, 77: 5929, 78: 6084, 79: 6241, 80: 6400, 81: 6561, 82: 6724, 83: 6889, 84: 7056, 85: 7225, 86: 7396, 87: 7569, 88: 7744, 89: 7921, 90: 8100, 91: 8281, 92: 8464, 93: 8649, 94: 8836, 95: 9025, 96: 9216, 97: 9409, 98: 9604, 99: 9801, 100: 10000}\n"
     ]
    }
   ],
   "source": [
    "sq = {}\n",
    "\n",
    "for i in range(1,101):\n",
    "    sq[i]=i ** 2\n",
    "    \n",
    "print(sq)"
   ]
  },
  {
   "cell_type": "code",
   "execution_count": 102,
   "metadata": {},
   "outputs": [
    {
     "name": "stdout",
     "output_type": "stream",
     "text": [
      "4--16--36--64--100--144--196--256--324--400--484--576--676--784--900--1024--1156--1296--1444--1600--1764--1936--2116--2304--2500--2704--2916--3136--3364--3600--3844--4096--4356--4624--4900--5184--5476--5776--6084--6400--6724--7056--7396--7744--8100--8464--8836--9216--9604--10000--"
     ]
    }
   ],
   "source": [
    "for key in sq:\n",
    "    if key % 2==0:\n",
    "        print(sq[key], end='--')"
   ]
  },
  {
   "cell_type": "markdown",
   "metadata": {},
   "source": [
    "### Task\n",
    "\n",
    "\n",
    "- Character frequency inside the string\n",
    "- word frequency inside the string"
   ]
  },
  {
   "cell_type": "code",
   "execution_count": 103,
   "metadata": {},
   "outputs": [],
   "source": [
    "s=\"Iam chandu Ganga Bhavani from guntur.Iam pursuing my third year of b.tech in rajiv gandhi university of knowledge technologies srikakulam\""
   ]
  },
  {
   "cell_type": "code",
   "execution_count": 104,
   "metadata": {},
   "outputs": [
    {
     "name": "stdout",
     "output_type": "stream",
     "text": [
      "Iam chandu Ganga Bhavani from guntur.Iam pursuing my third year of b.tech in rajiv gandhi university of knowledge technologies srikakulam\n"
     ]
    }
   ],
   "source": [
    "print(s)"
   ]
  },
  {
   "cell_type": "markdown",
   "metadata": {},
   "source": [
    "### Contact Application\n",
    "\n",
    "\n",
    "\n",
    "{'Name': ['Mobile1','mobile2','email','DOB','website']}\n",
    "\n",
    "Take the input from the user\n",
    "\n",
    " 1. Create a contact\n",
    " 2. add the contact to existing contact ->key -> value\n",
    " 3. edit the contact -->Key ->value\n",
    " 4. delete the cotact --> key -->Name\n",
    " 5. view contact ->key"
   ]
  },
  {
   "cell_type": "code",
   "execution_count": null,
   "metadata": {},
   "outputs": [],
   "source": [
    "contact ={}\n",
    "option=input(\"enter the option:\")"
   ]
  },
  {
   "cell_type": "code",
   "execution_count": null,
   "metadata": {},
   "outputs": [],
   "source": [
    "if option =='1':\n",
    "    key = input(\"enter the contact name:\")\n",
    "    value=input(\"enter details with space sep\").split()\n",
    "    contact[key]=value\n",
    "elif option =='2':\n",
    "        name=input(\"enter the name to add the existing\")\n",
    "        if name in contact:\n",
    "            data=input(\"enter the data to update\").split()\n",
    "            contact[name].extend(data)\n",
    "        else:\n",
    "            print(name,\"contact is not available\")\n",
    "else:\n",
    "    print(\"enter corect option\")"
   ]
  },
  {
   "cell_type": "code",
   "execution_count": null,
   "metadata": {},
   "outputs": [],
   "source": [
    "print(contact)"
   ]
  },
  {
   "cell_type": "code",
   "execution_count": null,
   "metadata": {},
   "outputs": [],
   "source": []
  },
  {
   "cell_type": "code",
   "execution_count": null,
   "metadata": {},
   "outputs": [],
   "source": []
  }
 ],
 "metadata": {
  "kernelspec": {
   "display_name": "Python 3",
   "language": "python",
   "name": "python3"
  },
  "language_info": {
   "codemirror_mode": {
    "name": "ipython",
    "version": 3
   },
   "file_extension": ".py",
   "mimetype": "text/x-python",
   "name": "python",
   "nbconvert_exporter": "python",
   "pygments_lexer": "ipython3",
   "version": "3.8.5"
  }
 },
 "nbformat": 4,
 "nbformat_minor": 4
}
