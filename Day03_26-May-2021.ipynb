{
 "cells": [
  {
   "cell_type": "code",
   "execution_count": 5,
   "metadata": {},
   "outputs": [
    {
     "name": "stdout",
     "output_type": "stream",
     "text": [
      "Hello world\n"
     ]
    }
   ],
   "source": [
    "print(\"Hello world\")"
   ]
  },
  {
   "cell_type": "markdown",
   "metadata": {},
   "source": [
    "# Markdown Syntax\n",
    "## Heading2\n",
    "### Heading3\n",
    "#### Heading4\n",
    "##### Heading5"
   ]
  },
  {
   "cell_type": "markdown",
   "metadata": {},
   "source": [
    "## Shortcuts for Jupyter Notebook\n",
    "\n",
    "\n",
    "1. ShiftEnter -> For Executing the current cell\n",
    "2. EscA --> For inserting new cell above the current cell\n",
    "3. EscM --> Converting code cell to the Markdown cell\n",
    "4. EscY ---> Converting Markdown cell to the code cell\n",
    "5. EscDD -> Delete the current cell"
   ]
  },
  {
   "cell_type": "markdown",
   "metadata": {},
   "source": [
    "- Python is easy to learn\n",
    "- Python is easy to write\n",
    "* Python is open source\n",
    "+ Python is high level Programming Language\n",
    "     - High level means user understandable language\n",
    "          * Which is in english\n",
    "               - Sub\n",
    "                    + Sub\n",
    "            "
   ]
  },
  {
   "cell_type": "markdown",
   "metadata": {},
   "source": [
    "### Font Styles\n",
    "\n",
    "- I'm in **Bold** font style\n",
    "- I'm also in __Bold__ font style\n",
    "- I'm in *Italic* font style\n",
    "- I'm also in _Italic_ font style\n",
    "- I'm in both ***Italic and bold*** font style\n",
    "- I'm ~strike off~\n",
    "- I'm ~**strike off and bold**~"
   ]
  },
  {
   "cell_type": "markdown",
   "metadata": {},
   "source": [
    "### Insert Image\n",
    "\n",
    "\n",
    "#### Syntax ![Image Description](image path)\n",
    "![PYTHON logo](https://th.bing.com/th/id/OIP.RD41a80VdU3C-HfFcjAleAHaDI?pid=ImgDet&rs=1)"
   ]
  },
  {
   "cell_type": "markdown",
   "metadata": {},
   "source": [
    "### Inserting Hyper Link\n",
    "\n",
    "#### [description](link)\n",
    "[Click here to to view python logo](https://th.bing.com/th/id/OIP.RD41a80VdU3C-HfFcjAleAHaDI?pid=ImgDet&rs=1)"
   ]
  },
  {
   "cell_type": "markdown",
   "metadata": {},
   "source": [
    "### Tabular data\n",
    "\n",
    "|Name|RollNo|EmailId|\n",
    "|----|------|-------|\n",
    "|Std1|Roll1|Email1|\n",
    "|Std2|Roll2|Email2|\n",
    "|Std3|Roll3|Email3|\n"
   ]
  },
  {
   "cell_type": "markdown",
   "metadata": {},
   "source": [
    "#### inserting code\n",
    "##### C code for hello world\n",
    "\n",
    "```c\n",
    "#include<stdio.h>\n",
    "main()\n",
    "{\n",
    "  printf(\"Hello World\")\n",
    "}\n",
    "```\n",
    "#### python code for hello world\n",
    "```python\n",
    "print(\"hello world\")\n",
    "```"
   ]
  },
  {
   "cell_type": "markdown",
   "metadata": {},
   "source": [
    "### Quotes\n",
    "\n",
    "Normal Data\n",
    "> Sun rises in the east\n",
    "\n",
    "Python is `easy` to learn"
   ]
  },
  {
   "cell_type": "markdown",
   "metadata": {},
   "source": [
    "### Mathematical Formulae\n",
    "\n",
    "$$(a + b)^2 = a^2 + 2*a*b + b^2$$\n",
    "\n",
    "\n",
    "a+b whole square formula is $(a_1 +b_1)^2 = {a_1}^2 + 2*a_1*b_1 + {b_1}^2$\n",
    "\n",
    "\n",
    "$\\alpha +\\beta +\\gamma +\\kappa +\\lambda +\\delta $\n",
    "\n",
    "$\\sum_{n=0}^{\\infty}$"
   ]
  },
  {
   "cell_type": "code",
   "execution_count": null,
   "metadata": {},
   "outputs": [],
   "source": []
  }
 ],
 "metadata": {
  "kernelspec": {
   "display_name": "Python 3",
   "language": "python",
   "name": "python3"
  },
  "language_info": {
   "codemirror_mode": {
    "name": "ipython",
    "version": 3
   },
   "file_extension": ".py",
   "mimetype": "text/x-python",
   "name": "python",
   "nbconvert_exporter": "python",
   "pygments_lexer": "ipython3",
   "version": "3.8.5"
  }
 },
 "nbformat": 4,
 "nbformat_minor": 4
}
