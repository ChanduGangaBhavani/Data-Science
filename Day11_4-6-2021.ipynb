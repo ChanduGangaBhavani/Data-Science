{
 "cells": [
  {
   "cell_type": "markdown",
   "metadata": {},
   "source": [
    "### Today Objectives\n",
    "\n",
    "\n",
    "- Set\n",
    "- Set Methods\n",
    "- Functions in Python\n",
    "    - Built-in Functions -->print(),input(),min(),max(),type()...\n",
    "    - User defined Functions"
   ]
  },
  {
   "cell_type": "markdown",
   "metadata": {},
   "source": [
    "### Sets in Python\n",
    "\n",
    "- It is used for storing non-homogenous group of unique data on python\n",
    "\n",
    "\n",
    "### Properties\n",
    "\n",
    "- `{}` for storing the data in comma separated\n",
    "- It is mutable data type\n",
    "- It is unordered\n",
    "- we can't accessing the data from set using indexing\n",
    "- It is iterable\n",
    "- It doesn't allow duplicated data"
   ]
  },
  {
   "cell_type": "code",
   "execution_count": 1,
   "metadata": {},
   "outputs": [
    {
     "name": "stdout",
     "output_type": "stream",
     "text": [
      "<class 'set'>\n"
     ]
    }
   ],
   "source": [
    "s1 = set()\n",
    "\n",
    "print(type(s1))"
   ]
  },
  {
   "cell_type": "code",
   "execution_count": 2,
   "metadata": {},
   "outputs": [
    {
     "name": "stdout",
     "output_type": "stream",
     "text": [
      "<class 'set'>\n"
     ]
    }
   ],
   "source": [
    "s1 = {2,1,5,6,'apssdc','Python',2.55,56,0.26,0.10}\n",
    "\n",
    "print(type(s1))"
   ]
  },
  {
   "cell_type": "code",
   "execution_count": 3,
   "metadata": {},
   "outputs": [
    {
     "name": "stdout",
     "output_type": "stream",
     "text": [
      "{0.26, 1, 2, 2.55, 0.1, 5, 6, 'apssdc', 56, 'Python'}\n"
     ]
    }
   ],
   "source": [
    "print(s1)"
   ]
  },
  {
   "cell_type": "code",
   "execution_count": 5,
   "metadata": {},
   "outputs": [
    {
     "name": "stdout",
     "output_type": "stream",
     "text": [
      "{1, 2, 3, 4}\n"
     ]
    }
   ],
   "source": [
    "s2 = {1,2,3,4,4,3,2,1}\n",
    "\n",
    "print(s2) #duplicated data is removed"
   ]
  },
  {
   "cell_type": "code",
   "execution_count": 6,
   "metadata": {},
   "outputs": [],
   "source": [
    "st = \"\"\" Python is an interpreted high-level general-purpose programming language. Python's design philosophy emphasizes code readability with its notable use of significant indentation. Its language constructs as well as its object-oriented approach aim to help programmers write clear, logical code for small and large-scale projects.[30]\n",
    "\n",
    "Python is dynamically-typed and garbage-collected. It supports multiple programming paradigms, including structured (particularly, procedural), object-oriented and functional programming. Python is often described as a \"batteries included\" language due to its comprehensive standard library.[31]\n",
    "\n",
    "Guido van Rossum began working on Python in the late 1980s, as a successor to the ABC programming language, and first released it in 1991 as Python 0.9.0.[32] Python 2.0 was released in 2000 and\"\"\""
   ]
  },
  {
   "cell_type": "code",
   "execution_count": 7,
   "metadata": {},
   "outputs": [
    {
     "name": "stdout",
     "output_type": "stream",
     "text": [
      "{' ': 109, 'P': 7, 'y': 14, 't': 48, 'h': 18, 'o': 43, 'n': 49, 'i': 47, 's': 44, 'a': 61, 'e': 63, 'r': 45, 'p': 23, 'd': 30, 'g': 29, '-': 7, 'l': 36, 'v': 3, 'u': 20, 'm': 18, '.': 10, \"'\": 1, 'z': 1, 'c': 25, 'b': 9, 'w': 5, 'f': 6, 'I': 2, 'j': 3, ',': 6, '[': 3, '3': 3, '0': 8, ']': 3, '\\n': 4, '(': 1, ')': 1, '\"': 2, '1': 4, 'G': 1, 'R': 1, 'k': 1, '9': 4, '8': 1, 'A': 1, 'B': 1, 'C': 1, '2': 3}\n"
     ]
    }
   ],
   "source": [
    "c= {}\n",
    "\n",
    "for char in st:\n",
    "    c[char]=st.count(char)\n",
    "print(c)"
   ]
  },
  {
   "cell_type": "code",
   "execution_count": 8,
   "metadata": {},
   "outputs": [],
   "source": [
    "mis=\"Iam ganga bhavani chandu from rgukt srikakulam\""
   ]
  },
  {
   "cell_type": "code",
   "execution_count": 9,
   "metadata": {},
   "outputs": [
    {
     "name": "stdout",
     "output_type": "stream",
     "text": [
      "{'I': 1, 'a': 8, 'm': 3, ' ': 6, 'g': 3, 'n': 3, 'b': 1, 'h': 2, 'v': 1, 'i': 2, 'c': 1, 'd': 1, 'u': 3, 'f': 1, 'r': 3, 'o': 1, 'k': 3, 't': 1, 's': 1, 'l': 1}\n"
     ]
    }
   ],
   "source": [
    "b={}\n",
    "\n",
    "for char in mis:\n",
    "    b[char]=mis.count(char)\n",
    "print(b)"
   ]
  },
  {
   "cell_type": "code",
   "execution_count": 10,
   "metadata": {},
   "outputs": [
    {
     "name": "stdout",
     "output_type": "stream",
     "text": [
      "{'c', '0', 'f', '.', '\"', ',', 'w', 'n', 'o', 'i', 'z', 't', '9', \"'\", 'g', '-', 'l', 'h', 'I', 'v', '[', ')', 'G', '3', 'j', 'A', 'd', '1', 'C', 's', 'r', '(', 'y', '\\n', '2', 'p', 'm', 'R', ']', 'b', 'k', 'P', 'e', 'a', 'u', '8', 'B', ' '}\n"
     ]
    }
   ],
   "source": [
    "s3 = set(st)\n",
    "\n",
    "print(s3)"
   ]
  },
  {
   "cell_type": "code",
   "execution_count": 11,
   "metadata": {},
   "outputs": [
    {
     "name": "stdout",
     "output_type": "stream",
     "text": [
      "48\n"
     ]
    }
   ],
   "source": [
    "print(len(s3))"
   ]
  },
  {
   "cell_type": "code",
   "execution_count": 12,
   "metadata": {},
   "outputs": [
    {
     "name": "stdout",
     "output_type": "stream",
     "text": [
      "{'c': 25, '0': 8, 'f': 6, '.': 10, '\"': 2, ',': 6, 'w': 5, 'n': 49, 'o': 43, 'i': 47, 'z': 1, 't': 48, '9': 4, \"'\": 1, 'g': 29, '-': 7, 'l': 36, 'h': 18, 'I': 2, 'v': 3, '[': 3, ')': 1, 'G': 1, '3': 3, 'j': 3, 'A': 1, 'd': 30, '1': 4, 'C': 1, 's': 44, 'r': 45, '(': 1, 'y': 14, '\\n': 4, '2': 3, 'p': 23, 'm': 18, 'R': 1, ']': 3, 'b': 9, 'k': 1, 'P': 7, 'e': 63, 'a': 61, 'u': 20, '8': 1, 'B': 1, ' ': 109}\n"
     ]
    }
   ],
   "source": [
    "c= {}\n",
    "\n",
    "for char in set(st):\n",
    "    c[char]=st.count(char)\n",
    "print(c)"
   ]
  },
  {
   "cell_type": "code",
   "execution_count": 13,
   "metadata": {},
   "outputs": [
    {
     "name": "stdout",
     "output_type": "stream",
     "text": [
      "['Python', 'is', 'an', 'interpreted', 'high-level', 'general-purpose', 'programming', 'language.', \"Python's\", 'design', 'philosophy', 'emphasizes', 'code', 'readability', 'with', 'its', 'notable', 'use', 'of', 'significant', 'indentation.', 'Its', 'language', 'constructs', 'as', 'well', 'as', 'its', 'object-oriented', 'approach', 'aim', 'to', 'help', 'programmers', 'write', 'clear,', 'logical', 'code', 'for', 'small', 'and', 'large-scale', 'projects.[30]', 'Python', 'is', 'dynamically-typed', 'and', 'garbage-collected.', 'It', 'supports', 'multiple', 'programming', 'paradigms,', 'including', 'structured', '(particularly,', 'procedural),', 'object-oriented', 'and', 'functional', 'programming.', 'Python', 'is', 'often', 'described', 'as', 'a', '\"batteries', 'included\"', 'language', 'due', 'to', 'its', 'comprehensive', 'standard', 'library.[31]', 'Guido', 'van', 'Rossum', 'began', 'working', 'on', 'Python', 'in', 'the', 'late', '1980s,', 'as', 'a', 'successor', 'to', 'the', 'ABC', 'programming', 'language,', 'and', 'first', 'released', 'it', 'in', '1991', 'as', 'Python', '0.9.0.[32]', 'Python', '2.0', 'was', 'released', 'in', '2000', 'and']\n"
     ]
    }
   ],
   "source": [
    "sli = st.split()\n",
    "\n",
    "print(sli)"
   ]
  },
  {
   "cell_type": "code",
   "execution_count": 14,
   "metadata": {},
   "outputs": [
    {
     "name": "stdout",
     "output_type": "stream",
     "text": [
      "111\n"
     ]
    }
   ],
   "source": [
    "print(len(sli))"
   ]
  },
  {
   "cell_type": "code",
   "execution_count": 15,
   "metadata": {},
   "outputs": [
    {
     "name": "stdout",
     "output_type": "stream",
     "text": [
      "{'help', 'released', 'programming.', 'indentation.', 'described', 'multiple', 'its', 'the', 'write', 'it', 'began', 'It', 'language,', 'programmers', 'aim', 'readability', 'a', 'design', 'successor', 'emphasizes', '2000', 'logical', 'small', 'supports', 'approach', '0.9.0.[32]', 'included\"', 'in', 'Guido', 'large-scale', 'due', '1980s,', 'interpreted', 'notable', 'philosophy', 'working', 'well', 'Rossum', 'and', 'constructs', 'standard', 'ABC', 'for', 'structured', 'with', 'including', 'was', 'to', \"Python's\", 'on', 'of', 'is', 'functional', 'code', 'as', 'library.[31]', 'object-oriented', '1991', 'dynamically-typed', 'comprehensive', '\"batteries', 'general-purpose', '(particularly,', 'Its', 'garbage-collected.', 'often', 'projects.[30]', '2.0', 'clear,', 'use', 'procedural),', 'programming', 'significant', 'paradigms,', 'van', 'language.', 'language', 'first', 'Python', 'an', 'late', 'high-level'} 82\n"
     ]
    }
   ],
   "source": [
    "ssli = set(sli)\n",
    "\n",
    "print(ssli,len(ssli))"
   ]
  },
  {
   "cell_type": "code",
   "execution_count": 16,
   "metadata": {},
   "outputs": [
    {
     "name": "stdout",
     "output_type": "stream",
     "text": [
      "('help', 'released', 'programming.', 'indentation.', 'described', 'multiple', 'its', 'the', 'write', 'it', 'began', 'It', 'language,', 'programmers', 'aim', 'readability', 'a', 'design', 'successor', 'emphasizes', '2000', 'logical', 'small', 'supports', 'approach', '0.9.0.[32]', 'included\"', 'in', 'Guido', 'large-scale', 'due', '1980s,', 'interpreted', 'notable', 'philosophy', 'working', 'well', 'Rossum', 'and', 'constructs', 'standard', 'ABC', 'for', 'structured', 'with', 'including', 'was', 'to', \"Python's\", 'on', 'of', 'is', 'functional', 'code', 'as', 'library.[31]', 'object-oriented', '1991', 'dynamically-typed', 'comprehensive', '\"batteries', 'general-purpose', '(particularly,', 'Its', 'garbage-collected.', 'often', 'projects.[30]', '2.0', 'clear,', 'use', 'procedural),', 'programming', 'significant', 'paradigms,', 'van', 'language.', 'language', 'first', 'Python', 'an', 'late', 'high-level')\n"
     ]
    }
   ],
   "source": [
    "print(tuple(ssli))"
   ]
  },
  {
   "cell_type": "markdown",
   "metadata": {},
   "source": [
    "### Set Methods"
   ]
  },
  {
   "cell_type": "code",
   "execution_count": 17,
   "metadata": {},
   "outputs": [],
   "source": [
    "se = set()"
   ]
  },
  {
   "cell_type": "code",
   "execution_count": 18,
   "metadata": {},
   "outputs": [
    {
     "name": "stdout",
     "output_type": "stream",
     "text": [
      "set()\n"
     ]
    }
   ],
   "source": [
    "print(se)"
   ]
  },
  {
   "cell_type": "code",
   "execution_count": 19,
   "metadata": {},
   "outputs": [
    {
     "name": "stdout",
     "output_type": "stream",
     "text": [
      "{0.5, 2, 123}\n"
     ]
    }
   ],
   "source": [
    "se.add(123)\n",
    "se.add(2)\n",
    "se.add(0.5)\n",
    "\n",
    "print(se)"
   ]
  },
  {
   "cell_type": "code",
   "execution_count": 20,
   "metadata": {},
   "outputs": [
    {
     "name": "stdout",
     "output_type": "stream",
     "text": [
      "456\n"
     ]
    }
   ],
   "source": [
    "se.add(input())"
   ]
  },
  {
   "cell_type": "code",
   "execution_count": 21,
   "metadata": {},
   "outputs": [
    {
     "name": "stdout",
     "output_type": "stream",
     "text": [
      "{0.5, 2, 123, '456'}\n"
     ]
    }
   ],
   "source": [
    "print(se)"
   ]
  },
  {
   "cell_type": "code",
   "execution_count": 23,
   "metadata": {},
   "outputs": [
    {
     "name": "stdout",
     "output_type": "stream",
     "text": [
      "{0.5, 2, (1, 2, 3), '456', 123}\n"
     ]
    }
   ],
   "source": [
    "se.add((1,2,3))\n",
    "print(se)"
   ]
  },
  {
   "cell_type": "code",
   "execution_count": 24,
   "metadata": {},
   "outputs": [
    {
     "name": "stdout",
     "output_type": "stream",
     "text": [
      "{0.5, 1, 2, 3, 4, (1, 2, 3), '456', 123}\n"
     ]
    }
   ],
   "source": [
    "se.update({1,2,3,4,4})\n",
    "\n",
    "print(se)"
   ]
  },
  {
   "cell_type": "code",
   "execution_count": 25,
   "metadata": {},
   "outputs": [
    {
     "name": "stdout",
     "output_type": "stream",
     "text": [
      "0.5\n",
      "{1, 2, 3, 4, (1, 2, 3), '456', 123}\n"
     ]
    }
   ],
   "source": [
    "print(se.pop())\n",
    "\n",
    "print(se)"
   ]
  },
  {
   "cell_type": "code",
   "execution_count": 26,
   "metadata": {},
   "outputs": [
    {
     "name": "stdout",
     "output_type": "stream",
     "text": [
      "{1, 2, 3, 4, '456', 123}\n"
     ]
    }
   ],
   "source": [
    "se.remove((1,2,3))\n",
    "\n",
    "print(se)"
   ]
  },
  {
   "cell_type": "code",
   "execution_count": 29,
   "metadata": {},
   "outputs": [
    {
     "name": "stdout",
     "output_type": "stream",
     "text": [
      "{1, 2, 3, 4, 123}\n"
     ]
    }
   ],
   "source": [
    "se.discard('456')\n",
    "\n",
    "print(se)"
   ]
  },
  {
   "cell_type": "code",
   "execution_count": 30,
   "metadata": {},
   "outputs": [
    {
     "name": "stdout",
     "output_type": "stream",
     "text": [
      "{1, 2, 3, 4, 123}\n"
     ]
    }
   ],
   "source": [
    "se2 = se.copy()\n",
    "\n",
    "print(se2)"
   ]
  },
  {
   "cell_type": "code",
   "execution_count": 31,
   "metadata": {},
   "outputs": [
    {
     "name": "stdout",
     "output_type": "stream",
     "text": [
      "set()\n"
     ]
    }
   ],
   "source": [
    "se2.clear()\n",
    "\n",
    "print(se2)"
   ]
  },
  {
   "cell_type": "markdown",
   "metadata": {},
   "source": [
    "### Math Sets\n",
    "\n",
    "\n",
    "- Union\n",
    "- Intersection"
   ]
  },
  {
   "cell_type": "code",
   "execution_count": 33,
   "metadata": {},
   "outputs": [
    {
     "name": "stdout",
     "output_type": "stream",
     "text": [
      "{1, 2, 3, 4, 5, 6, 7, 8, 9}\n"
     ]
    }
   ],
   "source": [
    "s1={1,2,3,4,4,5}\n",
    "s2={5,6,7,8,9}\n",
    "\n",
    "print(s1.union(s2))"
   ]
  },
  {
   "cell_type": "code",
   "execution_count": 34,
   "metadata": {},
   "outputs": [
    {
     "name": "stdout",
     "output_type": "stream",
     "text": [
      "{1, 2, 3, 4, 5, 6, 7, 8, 9}\n"
     ]
    }
   ],
   "source": [
    "print(s1|s2)"
   ]
  },
  {
   "cell_type": "code",
   "execution_count": 35,
   "metadata": {},
   "outputs": [
    {
     "name": "stdout",
     "output_type": "stream",
     "text": [
      "{5}\n"
     ]
    }
   ],
   "source": [
    "print(s1.intersection(s2))"
   ]
  },
  {
   "cell_type": "code",
   "execution_count": 36,
   "metadata": {},
   "outputs": [
    {
     "name": "stdout",
     "output_type": "stream",
     "text": [
      "{5}\n"
     ]
    }
   ],
   "source": [
    "print(s1 & s2)"
   ]
  },
  {
   "cell_type": "code",
   "execution_count": 37,
   "metadata": {},
   "outputs": [
    {
     "name": "stdout",
     "output_type": "stream",
     "text": [
      "{1, 2, 3, 4}\n"
     ]
    }
   ],
   "source": [
    "print(s1.difference(s2))"
   ]
  },
  {
   "cell_type": "code",
   "execution_count": 38,
   "metadata": {},
   "outputs": [
    {
     "name": "stdout",
     "output_type": "stream",
     "text": [
      "{1, 2, 3, 4}\n"
     ]
    }
   ],
   "source": [
    "print(s1-s2)"
   ]
  },
  {
   "cell_type": "code",
   "execution_count": 39,
   "metadata": {},
   "outputs": [
    {
     "name": "stdout",
     "output_type": "stream",
     "text": [
      "{8, 9, 6, 7}\n"
     ]
    }
   ],
   "source": [
    "print(s2-s1)"
   ]
  },
  {
   "cell_type": "code",
   "execution_count": 40,
   "metadata": {},
   "outputs": [
    {
     "name": "stdout",
     "output_type": "stream",
     "text": [
      "{1, 2, 3, 4, 6, 7, 8, 9}\n"
     ]
    }
   ],
   "source": [
    "print(s1.symmetric_difference(s2))"
   ]
  },
  {
   "cell_type": "code",
   "execution_count": 41,
   "metadata": {},
   "outputs": [
    {
     "name": "stdout",
     "output_type": "stream",
     "text": [
      "{1, 2, 3, 4, 6, 7, 8, 9}\n"
     ]
    }
   ],
   "source": [
    "print(s1^s2)"
   ]
  },
  {
   "cell_type": "markdown",
   "metadata": {},
   "source": [
    "- Functions in Python\n",
    "    - Built-in Functions -->print(),input(),min(),max(),type()...\n",
    "    - User defined Functions\n",
    "   \n",
    "   \n",
    "   \n",
    "- RESUABLE CODE TO PERFORM SINGLE RELATED ACTION \n",
    "- REDUCES LINES OF CODE\n",
    "- REDUCES TIME COMPLEXICITY"
   ]
  },
  {
   "cell_type": "code",
   "execution_count": 43,
   "metadata": {},
   "outputs": [
    {
     "name": "stdout",
     "output_type": "stream",
     "text": [
      "True False\n"
     ]
    }
   ],
   "source": [
    "li = [1,2,3,4,5,6]\n",
    "li2=[1,2,3,4,5,6,0]\n",
    "print(all(li) ,all(li2))"
   ]
  },
  {
   "cell_type": "code",
   "execution_count": 45,
   "metadata": {},
   "outputs": [
    {
     "name": "stdout",
     "output_type": "stream",
     "text": [
      "True True False\n"
     ]
    }
   ],
   "source": [
    "li=[1,2,3,4,5]\n",
    "li2=[0,0,0,0,0,0,0,1]\n",
    "li3=[0,0,0,0,0]\n",
    "print(any(li),any(li2),any(li3))"
   ]
  },
  {
   "cell_type": "code",
   "execution_count": 46,
   "metadata": {},
   "outputs": [
    {
     "name": "stdout",
     "output_type": "stream",
     "text": [
      "True\n"
     ]
    }
   ],
   "source": [
    "print(bool([1,2]))"
   ]
  },
  {
   "cell_type": "code",
   "execution_count": 47,
   "metadata": {},
   "outputs": [
    {
     "data": {
      "text/plain": [
       "['__add__',\n",
       " '__class__',\n",
       " '__contains__',\n",
       " '__delattr__',\n",
       " '__delitem__',\n",
       " '__dir__',\n",
       " '__doc__',\n",
       " '__eq__',\n",
       " '__format__',\n",
       " '__ge__',\n",
       " '__getattribute__',\n",
       " '__getitem__',\n",
       " '__gt__',\n",
       " '__hash__',\n",
       " '__iadd__',\n",
       " '__imul__',\n",
       " '__init__',\n",
       " '__init_subclass__',\n",
       " '__iter__',\n",
       " '__le__',\n",
       " '__len__',\n",
       " '__lt__',\n",
       " '__mul__',\n",
       " '__ne__',\n",
       " '__new__',\n",
       " '__reduce__',\n",
       " '__reduce_ex__',\n",
       " '__repr__',\n",
       " '__reversed__',\n",
       " '__rmul__',\n",
       " '__setattr__',\n",
       " '__setitem__',\n",
       " '__sizeof__',\n",
       " '__str__',\n",
       " '__subclasshook__',\n",
       " 'append',\n",
       " 'clear',\n",
       " 'copy',\n",
       " 'count',\n",
       " 'extend',\n",
       " 'index',\n",
       " 'insert',\n",
       " 'pop',\n",
       " 'remove',\n",
       " 'reverse',\n",
       " 'sort']"
      ]
     },
     "execution_count": 47,
     "metadata": {},
     "output_type": "execute_result"
    }
   ],
   "source": [
    "dir(list)"
   ]
  },
  {
   "cell_type": "code",
   "execution_count": 48,
   "metadata": {},
   "outputs": [
    {
     "name": "stdout",
     "output_type": "stream",
     "text": [
      "str(object='') -> str\n",
      "str(bytes_or_buffer[, encoding[, errors]]) -> str\n",
      "\n",
      "Create a new string object from the given object. If encoding or\n",
      "errors is specified, then the object must expose a data buffer\n",
      "that will be decoded using the given encoding and error handler.\n",
      "Otherwise, returns the result of object.__str__() (if defined)\n",
      "or repr(object).\n",
      "encoding defaults to sys.getdefaultencoding().\n",
      "errors defaults to 'strict'.\n"
     ]
    }
   ],
   "source": [
    "print(str.__doc__)"
   ]
  },
  {
   "cell_type": "markdown",
   "metadata": {},
   "source": [
    "### Functions"
   ]
  },
  {
   "cell_type": "code",
   "execution_count": 51,
   "metadata": {},
   "outputs": [],
   "source": [
    "# with arg with return\n",
    "def addition(a,b):\n",
    "    print(a)\n",
    "    print(b)\n",
    "    return a+b"
   ]
  },
  {
   "cell_type": "code",
   "execution_count": 52,
   "metadata": {},
   "outputs": [
    {
     "name": "stdout",
     "output_type": "stream",
     "text": [
      "15\n",
      "20\n"
     ]
    },
    {
     "data": {
      "text/plain": [
       "35"
      ]
     },
     "execution_count": 52,
     "metadata": {},
     "output_type": "execute_result"
    }
   ],
   "source": [
    "addition(15,20) # Function calling"
   ]
  },
  {
   "cell_type": "code",
   "execution_count": 53,
   "metadata": {},
   "outputs": [],
   "source": [
    "def greet():\n",
    "    return \"Good Evening all\""
   ]
  },
  {
   "cell_type": "code",
   "execution_count": 54,
   "metadata": {},
   "outputs": [
    {
     "data": {
      "text/plain": [
       "'Good Evening all'"
      ]
     },
     "execution_count": 54,
     "metadata": {},
     "output_type": "execute_result"
    }
   ],
   "source": [
    "greet()"
   ]
  },
  {
   "cell_type": "code",
   "execution_count": 55,
   "metadata": {},
   "outputs": [],
   "source": [
    "# with arg with return\n",
    "def addition(a,b):\n",
    "    print(a)\n",
    "    print(b)\n",
    "    print(a+b)"
   ]
  },
  {
   "cell_type": "code",
   "execution_count": 57,
   "metadata": {},
   "outputs": [
    {
     "name": "stdout",
     "output_type": "stream",
     "text": [
      "12\n",
      "30\n",
      "42\n"
     ]
    }
   ],
   "source": [
    "addition(12,30)"
   ]
  },
  {
   "cell_type": "code",
   "execution_count": 58,
   "metadata": {},
   "outputs": [
    {
     "name": "stdout",
     "output_type": "stream",
     "text": [
      "121\n"
     ]
    }
   ],
   "source": [
    "def square(a):\n",
    "    return a**2\n",
    "#(5+6)\n",
    "\n",
    "print(square(5)+square(6)+2*5*6)"
   ]
  },
  {
   "cell_type": "markdown",
   "metadata": {},
   "source": [
    "### Required arguments"
   ]
  },
  {
   "cell_type": "code",
   "execution_count": 59,
   "metadata": {},
   "outputs": [],
   "source": [
    "def addition(a,b):\n",
    "    \"\"\" This function takes two arguments and returns addition of two args\"\"\"\n",
    "    print(a)\n",
    "    print(b)\n",
    "    print(a+b)"
   ]
  },
  {
   "cell_type": "code",
   "execution_count": 60,
   "metadata": {},
   "outputs": [
    {
     "data": {
      "text/plain": [
       "' This function takes two arguments and returns addition of two args'"
      ]
     },
     "execution_count": 60,
     "metadata": {},
     "output_type": "execute_result"
    }
   ],
   "source": [
    "addition.__doc__"
   ]
  },
  {
   "cell_type": "code",
   "execution_count": 61,
   "metadata": {},
   "outputs": [
    {
     "name": "stdout",
     "output_type": "stream",
     "text": [
      "5\n",
      "5\n",
      "10\n"
     ]
    }
   ],
   "source": [
    "addition(5,5)"
   ]
  },
  {
   "cell_type": "markdown",
   "metadata": {},
   "source": [
    "### default argument"
   ]
  },
  {
   "cell_type": "code",
   "execution_count": 62,
   "metadata": {},
   "outputs": [],
   "source": [
    "def addition(a,b=0):\n",
    "    return a+b"
   ]
  },
  {
   "cell_type": "code",
   "execution_count": 63,
   "metadata": {},
   "outputs": [
    {
     "name": "stdout",
     "output_type": "stream",
     "text": [
      "15\n",
      "5\n"
     ]
    }
   ],
   "source": [
    "print(addition(5,10))\n",
    "print(addition(5))"
   ]
  },
  {
   "cell_type": "code",
   "execution_count": 64,
   "metadata": {},
   "outputs": [
    {
     "name": "stdout",
     "output_type": "stream",
     "text": [
      "range(0, 5)\n"
     ]
    }
   ],
   "source": [
    "print(range(5))"
   ]
  },
  {
   "cell_type": "markdown",
   "metadata": {},
   "source": [
    "### Keyword arguments"
   ]
  },
  {
   "cell_type": "code",
   "execution_count": 65,
   "metadata": {},
   "outputs": [],
   "source": [
    "def addition(a,b):\n",
    "    return a+b"
   ]
  },
  {
   "cell_type": "code",
   "execution_count": 67,
   "metadata": {},
   "outputs": [
    {
     "name": "stdout",
     "output_type": "stream",
     "text": [
      "abcdef\n",
      "defabc\n"
     ]
    }
   ],
   "source": [
    "print(addition(a='abc',b='def'))\n",
    "print(addition(b='abc',a='def'))"
   ]
  },
  {
   "cell_type": "code",
   "execution_count": null,
   "metadata": {},
   "outputs": [],
   "source": []
  }
 ],
 "metadata": {
  "kernelspec": {
   "display_name": "Python 3",
   "language": "python",
   "name": "python3"
  },
  "language_info": {
   "codemirror_mode": {
    "name": "ipython",
    "version": 3
   },
   "file_extension": ".py",
   "mimetype": "text/x-python",
   "name": "python",
   "nbconvert_exporter": "python",
   "pygments_lexer": "ipython3",
   "version": "3.8.5"
  }
 },
 "nbformat": 4,
 "nbformat_minor": 4
}
