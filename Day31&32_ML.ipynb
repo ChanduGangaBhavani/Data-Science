{
 "cells": [
  {
   "cell_type": "markdown",
   "metadata": {},
   "source": [
    "## Machine Learning\n",
    "Arthur Samuel-1929(Field of study that gives the computers the ability to learn without being explicitly programmed)\n",
    "\n",
    "- features are inputs and labels are output. If we take apple as an example we have features like it's \"size,shape,color,taste etc\" and the label is the \"name of the fruit\"\n",
    "- Supervised- we train the modal by both features and labels.\n",
    "    - Regression\n",
    "        - predict the continuous valued output\n",
    "    - Classification\n",
    "        - predict the discrete valued output\n",
    "- Unsupervised--No labels are given to the learning algorithm\n",
    "    - Clustering\n",
    "    - Dimentionality Reduction"
   ]
  },
  {
   "cell_type": "markdown",
   "metadata": {},
   "source": [
    "***Regression***\n",
    "- relationship b/w independent variable and dependant variable\n",
    "\n",
    "1. Simple Linear Regression\n",
    "    - simple-one dependant variable and one independant variable\n",
    "    - Linear--relationship is approximately using some straight line\n"
   ]
  },
  {
   "cell_type": "markdown",
   "metadata": {},
   "source": [
    "### Simple Linear Regression"
   ]
  },
  {
   "cell_type": "code",
   "execution_count": 5,
   "metadata": {},
   "outputs": [],
   "source": [
    "import pandas as pd\n",
    "import numpy as np\n",
    "import matplotlib.pyplot as plt\n",
    "import seaborn as sns"
   ]
  },
  {
   "cell_type": "code",
   "execution_count": 7,
   "metadata": {},
   "outputs": [],
   "source": [
    "df=pd.read_csv(\"https://raw.githubusercontent.com/AP-State-Skill-Development-Corporation/Datasets/master/Data%20Analysis/Advertising.csv\")"
   ]
  },
  {
   "cell_type": "code",
   "execution_count": 8,
   "metadata": {},
   "outputs": [
    {
     "data": {
      "text/html": [
       "<div>\n",
       "<style scoped>\n",
       "    .dataframe tbody tr th:only-of-type {\n",
       "        vertical-align: middle;\n",
       "    }\n",
       "\n",
       "    .dataframe tbody tr th {\n",
       "        vertical-align: top;\n",
       "    }\n",
       "\n",
       "    .dataframe thead th {\n",
       "        text-align: right;\n",
       "    }\n",
       "</style>\n",
       "<table border=\"1\" class=\"dataframe\">\n",
       "  <thead>\n",
       "    <tr style=\"text-align: right;\">\n",
       "      <th></th>\n",
       "      <th>Unnamed: 0</th>\n",
       "      <th>TV</th>\n",
       "      <th>radio</th>\n",
       "      <th>newspaper</th>\n",
       "      <th>sales</th>\n",
       "    </tr>\n",
       "  </thead>\n",
       "  <tbody>\n",
       "    <tr>\n",
       "      <th>0</th>\n",
       "      <td>1</td>\n",
       "      <td>230.1</td>\n",
       "      <td>37.8</td>\n",
       "      <td>69.2</td>\n",
       "      <td>22.1</td>\n",
       "    </tr>\n",
       "    <tr>\n",
       "      <th>1</th>\n",
       "      <td>2</td>\n",
       "      <td>44.5</td>\n",
       "      <td>39.3</td>\n",
       "      <td>45.1</td>\n",
       "      <td>10.4</td>\n",
       "    </tr>\n",
       "    <tr>\n",
       "      <th>2</th>\n",
       "      <td>3</td>\n",
       "      <td>17.2</td>\n",
       "      <td>45.9</td>\n",
       "      <td>69.3</td>\n",
       "      <td>9.3</td>\n",
       "    </tr>\n",
       "    <tr>\n",
       "      <th>3</th>\n",
       "      <td>4</td>\n",
       "      <td>151.5</td>\n",
       "      <td>41.3</td>\n",
       "      <td>58.5</td>\n",
       "      <td>18.5</td>\n",
       "    </tr>\n",
       "    <tr>\n",
       "      <th>4</th>\n",
       "      <td>5</td>\n",
       "      <td>180.8</td>\n",
       "      <td>10.8</td>\n",
       "      <td>58.4</td>\n",
       "      <td>12.9</td>\n",
       "    </tr>\n",
       "  </tbody>\n",
       "</table>\n",
       "</div>"
      ],
      "text/plain": [
       "   Unnamed: 0     TV  radio  newspaper  sales\n",
       "0           1  230.1   37.8       69.2   22.1\n",
       "1           2   44.5   39.3       45.1   10.4\n",
       "2           3   17.2   45.9       69.3    9.3\n",
       "3           4  151.5   41.3       58.5   18.5\n",
       "4           5  180.8   10.8       58.4   12.9"
      ]
     },
     "execution_count": 8,
     "metadata": {},
     "output_type": "execute_result"
    }
   ],
   "source": [
    "df.head()"
   ]
  },
  {
   "cell_type": "code",
   "execution_count": 10,
   "metadata": {},
   "outputs": [
    {
     "name": "stdout",
     "output_type": "stream",
     "text": [
      "<class 'pandas.core.frame.DataFrame'>\n",
      "RangeIndex: 200 entries, 0 to 199\n",
      "Data columns (total 5 columns):\n",
      " #   Column      Non-Null Count  Dtype  \n",
      "---  ------      --------------  -----  \n",
      " 0   Unnamed: 0  200 non-null    int64  \n",
      " 1   TV          200 non-null    float64\n",
      " 2   radio       200 non-null    float64\n",
      " 3   newspaper   200 non-null    float64\n",
      " 4   sales       200 non-null    float64\n",
      "dtypes: float64(4), int64(1)\n",
      "memory usage: 7.9 KB\n"
     ]
    }
   ],
   "source": [
    "df.info()"
   ]
  },
  {
   "cell_type": "code",
   "execution_count": 14,
   "metadata": {},
   "outputs": [],
   "source": [
    "df.drop('Unnamed: 0',axis=1,inplace=True)"
   ]
  },
  {
   "cell_type": "code",
   "execution_count": 15,
   "metadata": {},
   "outputs": [
    {
     "data": {
      "text/html": [
       "<div>\n",
       "<style scoped>\n",
       "    .dataframe tbody tr th:only-of-type {\n",
       "        vertical-align: middle;\n",
       "    }\n",
       "\n",
       "    .dataframe tbody tr th {\n",
       "        vertical-align: top;\n",
       "    }\n",
       "\n",
       "    .dataframe thead th {\n",
       "        text-align: right;\n",
       "    }\n",
       "</style>\n",
       "<table border=\"1\" class=\"dataframe\">\n",
       "  <thead>\n",
       "    <tr style=\"text-align: right;\">\n",
       "      <th></th>\n",
       "      <th>TV</th>\n",
       "      <th>radio</th>\n",
       "      <th>newspaper</th>\n",
       "      <th>sales</th>\n",
       "    </tr>\n",
       "  </thead>\n",
       "  <tbody>\n",
       "    <tr>\n",
       "      <th>0</th>\n",
       "      <td>230.1</td>\n",
       "      <td>37.8</td>\n",
       "      <td>69.2</td>\n",
       "      <td>22.1</td>\n",
       "    </tr>\n",
       "    <tr>\n",
       "      <th>1</th>\n",
       "      <td>44.5</td>\n",
       "      <td>39.3</td>\n",
       "      <td>45.1</td>\n",
       "      <td>10.4</td>\n",
       "    </tr>\n",
       "    <tr>\n",
       "      <th>2</th>\n",
       "      <td>17.2</td>\n",
       "      <td>45.9</td>\n",
       "      <td>69.3</td>\n",
       "      <td>9.3</td>\n",
       "    </tr>\n",
       "    <tr>\n",
       "      <th>3</th>\n",
       "      <td>151.5</td>\n",
       "      <td>41.3</td>\n",
       "      <td>58.5</td>\n",
       "      <td>18.5</td>\n",
       "    </tr>\n",
       "    <tr>\n",
       "      <th>4</th>\n",
       "      <td>180.8</td>\n",
       "      <td>10.8</td>\n",
       "      <td>58.4</td>\n",
       "      <td>12.9</td>\n",
       "    </tr>\n",
       "  </tbody>\n",
       "</table>\n",
       "</div>"
      ],
      "text/plain": [
       "      TV  radio  newspaper  sales\n",
       "0  230.1   37.8       69.2   22.1\n",
       "1   44.5   39.3       45.1   10.4\n",
       "2   17.2   45.9       69.3    9.3\n",
       "3  151.5   41.3       58.5   18.5\n",
       "4  180.8   10.8       58.4   12.9"
      ]
     },
     "execution_count": 15,
     "metadata": {},
     "output_type": "execute_result"
    }
   ],
   "source": [
    "df.head()"
   ]
  },
  {
   "cell_type": "code",
   "execution_count": 36,
   "metadata": {},
   "outputs": [
    {
     "data": {
      "text/plain": [
       "(200,)"
      ]
     },
     "execution_count": 36,
     "metadata": {},
     "output_type": "execute_result"
    }
   ],
   "source": [
    "# collect X and Y\n",
    "x=df['TV'].values\n",
    "x.shape"
   ]
  },
  {
   "cell_type": "code",
   "execution_count": 37,
   "metadata": {},
   "outputs": [],
   "source": [
    "y=df['sales'].values"
   ]
  },
  {
   "cell_type": "code",
   "execution_count": 46,
   "metadata": {},
   "outputs": [
    {
     "data": {
      "text/plain": [
       "<matplotlib.collections.PathCollection at 0x1bbb9408fd0>"
      ]
     },
     "execution_count": 46,
     "metadata": {},
     "output_type": "execute_result"
    },
    {
     "data": {
      "image/png": "[encoded data removed]",
      "text/plain": [
       "<Figure size 432x288 with 1 Axes>"
      ]
     },
     "metadata": {
      "needs_background": "light"
     },
     "output_type": "display_data"
    }
   ],
   "source": [
    "y.shape\n",
    "plt.scatter(x,y)"
   ]
  },
  {
   "attachments": {
    "GoToMeeting%20004.png": {
     "image/png": "[encoded data removed]"
    }
   },
   "cell_type": "markdown",
   "metadata": {},
   "source": [
    "\n",
    "![GoToMeeting%20004.png](attachment:GoToMeeting%20004.png)"
   ]
  },
  {
   "cell_type": "code",
   "execution_count": 39,
   "metadata": {},
   "outputs": [
    {
     "name": "stdout",
     "output_type": "stream",
     "text": [
      "147.0425\n",
      "14.0225\n"
     ]
    }
   ],
   "source": [
    "### Calculating the coefficient\n",
    "### Mean of x and y\n",
    "\n",
    "mean_x=np.mean(x)\n",
    "print(mean_x)\n",
    "mean_y=np.mean(y)\n",
    "print(mean_y)"
   ]
  },
  {
   "cell_type": "code",
   "execution_count": 40,
   "metadata": {},
   "outputs": [
    {
     "data": {
      "text/plain": [
       "200"
      ]
     },
     "execution_count": 40,
     "metadata": {},
     "output_type": "execute_result"
    }
   ],
   "source": [
    "### Total no.of values\n",
    "n=len(x)\n",
    "n"
   ]
  },
  {
   "cell_type": "code",
   "execution_count": 41,
   "metadata": {},
   "outputs": [
    {
     "name": "stdout",
     "output_type": "stream",
     "text": [
      "0.04753664043301969\n",
      "7.032593549127704\n"
     ]
    }
   ],
   "source": [
    "## y=b0+b1x\n",
    "## calculate the b1 and n0\n",
    "numer=0\n",
    "denom=0\n",
    "for i in range(n):\n",
    "    numer += (x[i]-mean_x)*(y[i]-mean_y) ##inplace of summation we use +=\n",
    "    denom += (x[i]-mean_x)**2\n",
    "b1=numer/denom\n",
    "b0=mean_y-(b1*mean_x)\n",
    "print(b1)\n",
    "print(b0)"
   ]
  },
  {
   "cell_type": "code",
   "execution_count": 42,
   "metadata": {},
   "outputs": [
    {
     "name": "stdout",
     "output_type": "stream",
     "text": [
      "The linear equation is: y=0.04754x+7.0326\n"
     ]
    }
   ],
   "source": [
    "print(\"The linear equation is: y={:.4}x+{:.5}\".format(b1,b0))"
   ]
  },
  {
   "cell_type": "code",
   "execution_count": 43,
   "metadata": {},
   "outputs": [
    {
     "data": {
      "image/png": "[encoded data removed]",
      "text/plain": [
       "<Figure size 432x288 with 1 Axes>"
      ]
     },
     "metadata": {
      "needs_background": "light"
     },
     "output_type": "display_data"
    }
   ],
   "source": [
    "# plotting the values and regression line\n",
    "max_x=np.max(x)+100\n",
    "min_x=np.min(x)-100\n",
    "#print(max_x,min_x)\n",
    "x1=np.linspace(min_x,max_x,1000)\n",
    "y1=b0+b1*x1\n",
    "\n",
    "plt.plot(x1,y1,color='red',label=\"Regression Line\")\n",
    "plt.scatter(x,y,c='blue',label=\"Actual values\")\n",
    "plt.xlabel(\"TV\")\n",
    "plt.ylabel(\"sales\")\n",
    "plt.legend(loc=\"best\")\n",
    "plt.show()"
   ]
  },
  {
   "cell_type": "code",
   "execution_count": 47,
   "metadata": {},
   "outputs": [
    {
     "data": {
      "text/html": [
       "<div>\n",
       "<style scoped>\n",
       "    .dataframe tbody tr th:only-of-type {\n",
       "        vertical-align: middle;\n",
       "    }\n",
       "\n",
       "    .dataframe tbody tr th {\n",
       "        vertical-align: top;\n",
       "    }\n",
       "\n",
       "    .dataframe thead th {\n",
       "        text-align: right;\n",
       "    }\n",
       "</style>\n",
       "<table border=\"1\" class=\"dataframe\">\n",
       "  <thead>\n",
       "    <tr style=\"text-align: right;\">\n",
       "      <th></th>\n",
       "      <th>TV</th>\n",
       "      <th>radio</th>\n",
       "      <th>newspaper</th>\n",
       "      <th>sales</th>\n",
       "    </tr>\n",
       "  </thead>\n",
       "  <tbody>\n",
       "    <tr>\n",
       "      <th>0</th>\n",
       "      <td>230.1</td>\n",
       "      <td>37.8</td>\n",
       "      <td>69.2</td>\n",
       "      <td>22.1</td>\n",
       "    </tr>\n",
       "    <tr>\n",
       "      <th>1</th>\n",
       "      <td>44.5</td>\n",
       "      <td>39.3</td>\n",
       "      <td>45.1</td>\n",
       "      <td>10.4</td>\n",
       "    </tr>\n",
       "    <tr>\n",
       "      <th>2</th>\n",
       "      <td>17.2</td>\n",
       "      <td>45.9</td>\n",
       "      <td>69.3</td>\n",
       "      <td>9.3</td>\n",
       "    </tr>\n",
       "    <tr>\n",
       "      <th>3</th>\n",
       "      <td>151.5</td>\n",
       "      <td>41.3</td>\n",
       "      <td>58.5</td>\n",
       "      <td>18.5</td>\n",
       "    </tr>\n",
       "    <tr>\n",
       "      <th>4</th>\n",
       "      <td>180.8</td>\n",
       "      <td>10.8</td>\n",
       "      <td>58.4</td>\n",
       "      <td>12.9</td>\n",
       "    </tr>\n",
       "    <tr>\n",
       "      <th>...</th>\n",
       "      <td>...</td>\n",
       "      <td>...</td>\n",
       "      <td>...</td>\n",
       "      <td>...</td>\n",
       "    </tr>\n",
       "    <tr>\n",
       "      <th>195</th>\n",
       "      <td>38.2</td>\n",
       "      <td>3.7</td>\n",
       "      <td>13.8</td>\n",
       "      <td>7.6</td>\n",
       "    </tr>\n",
       "    <tr>\n",
       "      <th>196</th>\n",
       "      <td>94.2</td>\n",
       "      <td>4.9</td>\n",
       "      <td>8.1</td>\n",
       "      <td>9.7</td>\n",
       "    </tr>\n",
       "    <tr>\n",
       "      <th>197</th>\n",
       "      <td>177.0</td>\n",
       "      <td>9.3</td>\n",
       "      <td>6.4</td>\n",
       "      <td>12.8</td>\n",
       "    </tr>\n",
       "    <tr>\n",
       "      <th>198</th>\n",
       "      <td>283.6</td>\n",
       "      <td>42.0</td>\n",
       "      <td>66.2</td>\n",
       "      <td>25.5</td>\n",
       "    </tr>\n",
       "    <tr>\n",
       "      <th>199</th>\n",
       "      <td>232.1</td>\n",
       "      <td>8.6</td>\n",
       "      <td>8.7</td>\n",
       "      <td>13.4</td>\n",
       "    </tr>\n",
       "  </tbody>\n",
       "</table>\n",
       "<p>200 rows × 4 columns</p>\n",
       "</div>"
      ],
      "text/plain": [
       "        TV  radio  newspaper  sales\n",
       "0    230.1   37.8       69.2   22.1\n",
       "1     44.5   39.3       45.1   10.4\n",
       "2     17.2   45.9       69.3    9.3\n",
       "3    151.5   41.3       58.5   18.5\n",
       "4    180.8   10.8       58.4   12.9\n",
       "..     ...    ...        ...    ...\n",
       "195   38.2    3.7       13.8    7.6\n",
       "196   94.2    4.9        8.1    9.7\n",
       "197  177.0    9.3        6.4   12.8\n",
       "198  283.6   42.0       66.2   25.5\n",
       "199  232.1    8.6        8.7   13.4\n",
       "\n",
       "[200 rows x 4 columns]"
      ]
     },
     "execution_count": 47,
     "metadata": {},
     "output_type": "execute_result"
    }
   ],
   "source": [
    "df"
   ]
  },
  {
   "cell_type": "code",
   "execution_count": 48,
   "metadata": {},
   "outputs": [
    {
     "data": {
      "text/plain": [
       "7.8502237645756425"
      ]
     },
     "execution_count": 48,
     "metadata": {},
     "output_type": "execute_result"
    }
   ],
   "source": [
    "y_pred=b0+b1*x[2]\n",
    "y_pred"
   ]
  },
  {
   "cell_type": "code",
   "execution_count": 49,
   "metadata": {},
   "outputs": [
    {
     "name": "stdout",
     "output_type": "stream",
     "text": [
      "0.6118750508500708\n"
     ]
    }
   ],
   "source": [
    "#determination coefficient(R2)---(0 to 1)\n",
    "ss_tot=0\n",
    "ss_res=0\n",
    "for i in range(n):\n",
    "    y_pred=b0+b1*x[i]\n",
    "    ss_res+=(y[i]-y_pred)**2\n",
    "    ss_tot+=(y[i]-mean_y)**2\n",
    "r2=1-(ss_res/ss_tot)\n",
    "print(r2)"
   ]
  },
  {
   "cell_type": "code",
   "execution_count": 51,
   "metadata": {},
   "outputs": [
    {
     "data": {
      "text/plain": [
       "LinearRegression()"
      ]
     },
     "execution_count": 51,
     "metadata": {},
     "output_type": "execute_result"
    }
   ],
   "source": [
    "## Using SkLearn\n",
    "from sklearn.linear_model import LinearRegression\n",
    "x=df['TV'].values.reshape(-1,1)\n",
    "y=df['sales'].values.reshape(-1,1)\n",
    "reg=LinearRegression() #Applying the data tp the model\n",
    "reg.fit(x,y)  #fit the data"
   ]
  },
  {
   "cell_type": "code",
   "execution_count": 52,
   "metadata": {},
   "outputs": [
    {
     "name": "stdout",
     "output_type": "stream",
     "text": [
      "[[0.04753664]]\n"
     ]
    }
   ],
   "source": [
    "print(reg.coef_) ##b1"
   ]
  },
  {
   "cell_type": "code",
   "execution_count": 54,
   "metadata": {},
   "outputs": [
    {
     "name": "stdout",
     "output_type": "stream",
     "text": [
      "[7.03259355]\n"
     ]
    }
   ],
   "source": [
    "print(reg.intercept_) ##b0"
   ]
  },
  {
   "cell_type": "code",
   "execution_count": 55,
   "metadata": {},
   "outputs": [
    {
     "data": {
      "text/html": [
       "<div>\n",
       "<style scoped>\n",
       "    .dataframe tbody tr th:only-of-type {\n",
       "        vertical-align: middle;\n",
       "    }\n",
       "\n",
       "    .dataframe tbody tr th {\n",
       "        vertical-align: top;\n",
       "    }\n",
       "\n",
       "    .dataframe thead th {\n",
       "        text-align: right;\n",
       "    }\n",
       "</style>\n",
       "<table border=\"1\" class=\"dataframe\">\n",
       "  <thead>\n",
       "    <tr style=\"text-align: right;\">\n",
       "      <th></th>\n",
       "      <th>TV</th>\n",
       "      <th>radio</th>\n",
       "      <th>newspaper</th>\n",
       "      <th>sales</th>\n",
       "    </tr>\n",
       "  </thead>\n",
       "  <tbody>\n",
       "    <tr>\n",
       "      <th>0</th>\n",
       "      <td>230.1</td>\n",
       "      <td>37.8</td>\n",
       "      <td>69.2</td>\n",
       "      <td>22.1</td>\n",
       "    </tr>\n",
       "    <tr>\n",
       "      <th>1</th>\n",
       "      <td>44.5</td>\n",
       "      <td>39.3</td>\n",
       "      <td>45.1</td>\n",
       "      <td>10.4</td>\n",
       "    </tr>\n",
       "    <tr>\n",
       "      <th>2</th>\n",
       "      <td>17.2</td>\n",
       "      <td>45.9</td>\n",
       "      <td>69.3</td>\n",
       "      <td>9.3</td>\n",
       "    </tr>\n",
       "    <tr>\n",
       "      <th>3</th>\n",
       "      <td>151.5</td>\n",
       "      <td>41.3</td>\n",
       "      <td>58.5</td>\n",
       "      <td>18.5</td>\n",
       "    </tr>\n",
       "    <tr>\n",
       "      <th>4</th>\n",
       "      <td>180.8</td>\n",
       "      <td>10.8</td>\n",
       "      <td>58.4</td>\n",
       "      <td>12.9</td>\n",
       "    </tr>\n",
       "  </tbody>\n",
       "</table>\n",
       "</div>"
      ],
      "text/plain": [
       "      TV  radio  newspaper  sales\n",
       "0  230.1   37.8       69.2   22.1\n",
       "1   44.5   39.3       45.1   10.4\n",
       "2   17.2   45.9       69.3    9.3\n",
       "3  151.5   41.3       58.5   18.5\n",
       "4  180.8   10.8       58.4   12.9"
      ]
     },
     "execution_count": 55,
     "metadata": {},
     "output_type": "execute_result"
    }
   ],
   "source": [
    "df.head()"
   ]
  },
  {
   "cell_type": "code",
   "execution_count": 56,
   "metadata": {},
   "outputs": [
    {
     "data": {
      "text/plain": [
       "array([[17.97077451]])"
      ]
     },
     "execution_count": 56,
     "metadata": {},
     "output_type": "execute_result"
    }
   ],
   "source": [
    "reg.predict([[230.1]]) #predict the value for a particular input"
   ]
  },
  {
   "cell_type": "code",
   "execution_count": 57,
   "metadata": {},
   "outputs": [
    {
     "data": {
      "text/plain": [
       "array([[9.14797405]])"
      ]
     },
     "execution_count": 57,
     "metadata": {},
     "output_type": "execute_result"
    }
   ],
   "source": [
    "reg.predict([[44.5]])"
   ]
  },
  {
   "cell_type": "code",
   "execution_count": 58,
   "metadata": {},
   "outputs": [
    {
     "name": "stdout",
     "output_type": "stream",
     "text": [
      "[[17.97077451]\n",
      " [ 9.14797405]\n",
      " [ 7.85022376]\n",
      " [14.23439457]\n",
      " [15.62721814]\n",
      " [ 7.44616232]\n",
      " [ 9.76595037]\n",
      " [12.74649773]\n",
      " [ 7.44140866]\n",
      " [16.53041431]\n",
      " [10.17476548]\n",
      " [17.23871025]\n",
      " [ 8.16396559]\n",
      " [11.66741599]\n",
      " [16.73482186]\n",
      " [16.32125309]\n",
      " [10.25557777]\n",
      " [20.40940417]\n",
      " [10.32212907]\n",
      " [14.03474068]\n",
      " [17.41459582]\n",
      " [18.31779199]\n",
      " [ 7.6600772 ]\n",
      " [17.88520856]\n",
      " [ 9.99412625]\n",
      " [19.52997632]\n",
      " [13.82557947]\n",
      " [18.44614092]\n",
      " [18.85970969]\n",
      " [10.38868036]\n",
      " [20.95607553]\n",
      " [12.39948025]\n",
      " [11.653155  ]\n",
      " [19.65832525]\n",
      " [11.58185004]\n",
      " [20.85149492]\n",
      " [19.72012288]\n",
      " [10.58358059]\n",
      " [ 9.08142275]\n",
      " [17.87094757]\n",
      " [16.65876324]\n",
      " [15.44657891]\n",
      " [20.98935118]\n",
      " [16.86792445]\n",
      " [ 8.22576322]\n",
      " [15.35625929]\n",
      " [11.2966302 ]\n",
      " [18.43663359]\n",
      " [17.83291826]\n",
      " [10.21279479]\n",
      " [16.53041431]\n",
      " [11.80527225]\n",
      " [17.31952254]\n",
      " [15.71278409]\n",
      " [19.52046899]\n",
      " [16.48763133]\n",
      " [ 7.37961102]\n",
      " [13.50708398]\n",
      " [17.05331735]\n",
      " [17.04856369]\n",
      " [ 9.57580381]\n",
      " [19.45391769]\n",
      " [18.4081116 ]\n",
      " [11.91460652]\n",
      " [13.26464711]\n",
      " [10.31262174]\n",
      " [ 8.52999772]\n",
      " [13.65444756]\n",
      " [18.31779199]\n",
      " [17.3385372 ]\n",
      " [16.49713866]\n",
      " [12.25211667]\n",
      " [ 8.30657551]\n",
      " [13.18383482]\n",
      " [17.17691262]\n",
      " [ 7.83596277]\n",
      " [ 8.33985116]\n",
      " [12.76075872]\n",
      " [ 7.28929141]\n",
      " [12.54684384]\n",
      " [10.66439288]\n",
      " [18.43187992]\n",
      " [10.61210257]\n",
      " [10.28409975]\n",
      " [17.18166628]\n",
      " [16.21667248]\n",
      " [10.65963921]\n",
      " [12.29489965]\n",
      " [11.2300789 ]\n",
      " [12.25211667]\n",
      " [13.41676436]\n",
      " [ 8.39214147]\n",
      " [17.38132017]\n",
      " [18.95953663]\n",
      " [12.13802873]\n",
      " [14.79532693]\n",
      " [16.4258337 ]\n",
      " [15.82211837]\n",
      " [20.80395828]\n",
      " [13.45954734]\n",
      " [17.60474238]\n",
      " [21.12245377]\n",
      " [20.3523602 ]\n",
      " [15.96472829]\n",
      " [18.3558213 ]\n",
      " [13.58789626]\n",
      " [ 8.22100956]\n",
      " [11.32990584]\n",
      " [ 7.65532354]\n",
      " [19.17345152]\n",
      " [17.76636696]\n",
      " [18.52219954]\n",
      " [15.38478127]\n",
      " [16.99627338]\n",
      " [10.74995883]\n",
      " [10.60259525]\n",
      " [13.6496939 ]\n",
      " [10.66439288]\n",
      " [13.00794925]\n",
      " [ 7.95480437]\n",
      " [13.74952084]\n",
      " [ 7.92628239]\n",
      " [17.68080101]\n",
      " [12.88435399]\n",
      " [17.94225253]\n",
      " [11.17778859]\n",
      " [ 7.40337934]\n",
      " [10.84503211]\n",
      " [17.50491544]\n",
      " [ 9.86577732]\n",
      " [ 7.0658692 ]\n",
      " [19.63931059]\n",
      " [ 7.43190133]\n",
      " [17.48114712]\n",
      " [ 8.78669558]\n",
      " [ 9.32861328]\n",
      " [ 8.24953154]\n",
      " [20.04337204]\n",
      " [ 9.07666909]\n",
      " [15.82211837]\n",
      " [10.52178296]\n",
      " [16.2404408 ]\n",
      " [17.51442276]\n",
      " [12.00492614]\n",
      " [11.60561836]\n",
      " [13.7019842 ]\n",
      " [18.44614092]\n",
      " [18.5935045 ]\n",
      " [ 8.83898589]\n",
      " [ 9.15748138]\n",
      " [20.37612852]\n",
      " [12.78452704]\n",
      " [16.4258337 ]\n",
      " [15.17562006]\n",
      " [15.95997462]\n",
      " [ 7.22749377]\n",
      " [11.49628409]\n",
      " [14.15358229]\n",
      " [ 7.58877224]\n",
      " [13.29316909]\n",
      " [15.23266402]\n",
      " [11.10648363]\n",
      " [15.98849661]\n",
      " [14.80483426]\n",
      " [12.60388781]\n",
      " [18.17993573]\n",
      " [ 7.88349941]\n",
      " [16.86317079]\n",
      " [17.2719859 ]\n",
      " [20.54726042]\n",
      " [ 9.40942557]\n",
      " [14.8523709 ]\n",
      " [ 7.9643117 ]\n",
      " [15.0377638 ]\n",
      " [17.60474238]\n",
      " [20.19548929]\n",
      " [18.84069503]\n",
      " [15.12332975]\n",
      " [20.18598196]\n",
      " [14.9046612 ]\n",
      " [14.47683144]\n",
      " [17.41934948]\n",
      " [ 9.70415274]\n",
      " [20.70413134]\n",
      " [19.09739289]\n",
      " [16.77760484]\n",
      " [13.66395489]\n",
      " [16.11684554]\n",
      " [20.62807271]\n",
      " [ 7.92152873]\n",
      " [ 8.91029085]\n",
      " [10.6216099 ]\n",
      " [ 7.85022376]\n",
      " [14.96170517]\n",
      " [14.14882862]\n",
      " [ 8.84849321]\n",
      " [11.51054508]\n",
      " [15.44657891]\n",
      " [20.51398478]\n",
      " [18.06584779]]\n"
     ]
    }
   ],
   "source": [
    "pred=reg.predict(x)\n",
    "print(pred)"
   ]
  },
  {
   "cell_type": "code",
   "execution_count": 60,
   "metadata": {},
   "outputs": [
    {
     "data": {
      "text/plain": [
       "(200, 1)"
      ]
     },
     "execution_count": 60,
     "metadata": {},
     "output_type": "execute_result"
    }
   ],
   "source": [
    "pred.shape"
   ]
  },
  {
   "cell_type": "code",
   "execution_count": 62,
   "metadata": {},
   "outputs": [
    {
     "data": {
      "text/plain": [
       "<function matplotlib.pyplot.show(close=None, block=None)>"
      ]
     },
     "execution_count": 62,
     "metadata": {},
     "output_type": "execute_result"
    },
    {
     "data": {
      "image/png": "[encoded data removed]",
      "text/plain": [
       "<Figure size 576x288 with 1 Axes>"
      ]
     },
     "metadata": {
      "needs_background": "light"
     },
     "output_type": "display_data"
    }
   ],
   "source": [
    "plt.figure(figsize=(8,4))\n",
    "plt.scatter(df['TV'],df['sales'],c=\"red\",label='Actual values')\n",
    "plt.plot(df[\"TV\"],pred,c=\"blue\",label=\"Regression Line\")\n",
    "plt.xlabel(\"TV\")\n",
    "plt.ylabel(\"sales\")\n",
    "plt.legend(loc=\"best\")\n",
    "plt.show"
   ]
  },
  {
   "cell_type": "code",
   "execution_count": 63,
   "metadata": {},
   "outputs": [
    {
     "name": "stdout",
     "output_type": "stream",
     "text": [
      "R2 score: 0.611875050850071\n"
     ]
    }
   ],
   "source": [
    "## R2 score\n",
    "r2=reg.score(x,y)\n",
    "print(\"R2 score:\",r2)"
   ]
  },
  {
   "cell_type": "code",
   "execution_count": 64,
   "metadata": {},
   "outputs": [],
   "source": [
    "# Take the Headbrain.csv\n",
    "# Apply Linear regression\n",
    "# r2,b0,b1"
   ]
  },
  {
   "cell_type": "code",
   "execution_count": 65,
   "metadata": {},
   "outputs": [],
   "source": [
    "data=pd.read_csv(\"https://raw.githubusercontent.com/AP-State-Skill-Development-Corporation/Datasets/master/Regression/headbrain.csv\")"
   ]
  },
  {
   "cell_type": "code",
   "execution_count": 68,
   "metadata": {},
   "outputs": [
    {
     "data": {
      "text/html": [
       "<div>\n",
       "<style scoped>\n",
       "    .dataframe tbody tr th:only-of-type {\n",
       "        vertical-align: middle;\n",
       "    }\n",
       "\n",
       "    .dataframe tbody tr th {\n",
       "        vertical-align: top;\n",
       "    }\n",
       "\n",
       "    .dataframe thead th {\n",
       "        text-align: right;\n",
       "    }\n",
       "</style>\n",
       "<table border=\"1\" class=\"dataframe\">\n",
       "  <thead>\n",
       "    <tr style=\"text-align: right;\">\n",
       "      <th></th>\n",
       "      <th>Gender</th>\n",
       "      <th>Age Range</th>\n",
       "      <th>Head Size(cm^3)</th>\n",
       "      <th>Brain Weight(grams)</th>\n",
       "    </tr>\n",
       "  </thead>\n",
       "  <tbody>\n",
       "    <tr>\n",
       "      <th>0</th>\n",
       "      <td>1</td>\n",
       "      <td>1</td>\n",
       "      <td>4512</td>\n",
       "      <td>1530</td>\n",
       "    </tr>\n",
       "    <tr>\n",
       "      <th>1</th>\n",
       "      <td>1</td>\n",
       "      <td>1</td>\n",
       "      <td>3738</td>\n",
       "      <td>1297</td>\n",
       "    </tr>\n",
       "    <tr>\n",
       "      <th>2</th>\n",
       "      <td>1</td>\n",
       "      <td>1</td>\n",
       "      <td>4261</td>\n",
       "      <td>1335</td>\n",
       "    </tr>\n",
       "    <tr>\n",
       "      <th>3</th>\n",
       "      <td>1</td>\n",
       "      <td>1</td>\n",
       "      <td>3777</td>\n",
       "      <td>1282</td>\n",
       "    </tr>\n",
       "    <tr>\n",
       "      <th>4</th>\n",
       "      <td>1</td>\n",
       "      <td>1</td>\n",
       "      <td>4177</td>\n",
       "      <td>1590</td>\n",
       "    </tr>\n",
       "    <tr>\n",
       "      <th>...</th>\n",
       "      <td>...</td>\n",
       "      <td>...</td>\n",
       "      <td>...</td>\n",
       "      <td>...</td>\n",
       "    </tr>\n",
       "    <tr>\n",
       "      <th>232</th>\n",
       "      <td>2</td>\n",
       "      <td>2</td>\n",
       "      <td>3214</td>\n",
       "      <td>1110</td>\n",
       "    </tr>\n",
       "    <tr>\n",
       "      <th>233</th>\n",
       "      <td>2</td>\n",
       "      <td>2</td>\n",
       "      <td>3394</td>\n",
       "      <td>1215</td>\n",
       "    </tr>\n",
       "    <tr>\n",
       "      <th>234</th>\n",
       "      <td>2</td>\n",
       "      <td>2</td>\n",
       "      <td>3233</td>\n",
       "      <td>1104</td>\n",
       "    </tr>\n",
       "    <tr>\n",
       "      <th>235</th>\n",
       "      <td>2</td>\n",
       "      <td>2</td>\n",
       "      <td>3352</td>\n",
       "      <td>1170</td>\n",
       "    </tr>\n",
       "    <tr>\n",
       "      <th>236</th>\n",
       "      <td>2</td>\n",
       "      <td>2</td>\n",
       "      <td>3391</td>\n",
       "      <td>1120</td>\n",
       "    </tr>\n",
       "  </tbody>\n",
       "</table>\n",
       "<p>237 rows × 4 columns</p>\n",
       "</div>"
      ],
      "text/plain": [
       "     Gender  Age Range  Head Size(cm^3)  Brain Weight(grams)\n",
       "0         1          1             4512                 1530\n",
       "1         1          1             3738                 1297\n",
       "2         1          1             4261                 1335\n",
       "3         1          1             3777                 1282\n",
       "4         1          1             4177                 1590\n",
       "..      ...        ...              ...                  ...\n",
       "232       2          2             3214                 1110\n",
       "233       2          2             3394                 1215\n",
       "234       2          2             3233                 1104\n",
       "235       2          2             3352                 1170\n",
       "236       2          2             3391                 1120\n",
       "\n",
       "[237 rows x 4 columns]"
      ]
     },
     "execution_count": 68,
     "metadata": {},
     "output_type": "execute_result"
    }
   ],
   "source": [
    "data"
   ]
  },
  {
   "cell_type": "code",
   "execution_count": 73,
   "metadata": {},
   "outputs": [
    {
     "data": {
      "text/plain": [
       "(237,)"
      ]
     },
     "execution_count": 73,
     "metadata": {},
     "output_type": "execute_result"
    }
   ],
   "source": [
    "# collect X and Y\n",
    "x=data['Head Size(cm^3)'].values\n",
    "x.shape"
   ]
  },
  {
   "cell_type": "code",
   "execution_count": 75,
   "metadata": {},
   "outputs": [],
   "source": [
    "y=data['Brain Weight(grams)'].values"
   ]
  },
  {
   "cell_type": "code",
   "execution_count": 76,
   "metadata": {},
   "outputs": [
    {
     "name": "stdout",
     "output_type": "stream",
     "text": [
      "3633.9915611814345\n",
      "1282.873417721519\n"
     ]
    }
   ],
   "source": [
    "### Calculating the coefficient\n",
    "### Mean of x and y\n",
    "\n",
    "mean_x=np.mean(x)\n",
    "print(mean_x)\n",
    "mean_y=np.mean(y)\n",
    "print(mean_y)"
   ]
  },
  {
   "cell_type": "code",
   "execution_count": 77,
   "metadata": {},
   "outputs": [
    {
     "data": {
      "text/plain": [
       "237"
      ]
     },
     "execution_count": 77,
     "metadata": {},
     "output_type": "execute_result"
    }
   ],
   "source": [
    "### Total no.of values\n",
    "n=len(x)\n",
    "n"
   ]
  },
  {
   "cell_type": "code",
   "execution_count": 78,
   "metadata": {},
   "outputs": [
    {
     "name": "stdout",
     "output_type": "stream",
     "text": [
      "0.26342933948939945\n",
      "325.57342104944223\n"
     ]
    }
   ],
   "source": [
    "## y=b0+b1x\n",
    "## calculate the b1 and n0\n",
    "numer=0\n",
    "denom=0\n",
    "for i in range(n):\n",
    "    numer += (x[i]-mean_x)*(y[i]-mean_y) ##inplace of summation we use +=\n",
    "    denom += (x[i]-mean_x)**2\n",
    "b1=numer/denom\n",
    "b0=mean_y-(b1*mean_x)\n",
    "print(b1)\n",
    "print(b0)"
   ]
  },
  {
   "cell_type": "code",
   "execution_count": 79,
   "metadata": {},
   "outputs": [
    {
     "name": "stdout",
     "output_type": "stream",
     "text": [
      "The linear equation is: y=0.2634x+325.57\n"
     ]
    }
   ],
   "source": [
    "print(\"The linear equation is: y={:.4}x+{:.5}\".format(b1,b0))"
   ]
  },
  {
   "cell_type": "code",
   "execution_count": 88,
   "metadata": {},
   "outputs": [
    {
     "data": {
      "text/html": [
       "<div>\n",
       "<style scoped>\n",
       "    .dataframe tbody tr th:only-of-type {\n",
       "        vertical-align: middle;\n",
       "    }\n",
       "\n",
       "    .dataframe tbody tr th {\n",
       "        vertical-align: top;\n",
       "    }\n",
       "\n",
       "    .dataframe thead th {\n",
       "        text-align: right;\n",
       "    }\n",
       "</style>\n",
       "<table border=\"1\" class=\"dataframe\">\n",
       "  <thead>\n",
       "    <tr style=\"text-align: right;\">\n",
       "      <th></th>\n",
       "      <th>Gender</th>\n",
       "      <th>Age Range</th>\n",
       "      <th>Head Size(cm^3)</th>\n",
       "      <th>Brain Weight(grams)</th>\n",
       "    </tr>\n",
       "  </thead>\n",
       "  <tbody>\n",
       "    <tr>\n",
       "      <th>0</th>\n",
       "      <td>1</td>\n",
       "      <td>1</td>\n",
       "      <td>4512</td>\n",
       "      <td>1530</td>\n",
       "    </tr>\n",
       "    <tr>\n",
       "      <th>1</th>\n",
       "      <td>1</td>\n",
       "      <td>1</td>\n",
       "      <td>3738</td>\n",
       "      <td>1297</td>\n",
       "    </tr>\n",
       "    <tr>\n",
       "      <th>2</th>\n",
       "      <td>1</td>\n",
       "      <td>1</td>\n",
       "      <td>4261</td>\n",
       "      <td>1335</td>\n",
       "    </tr>\n",
       "    <tr>\n",
       "      <th>3</th>\n",
       "      <td>1</td>\n",
       "      <td>1</td>\n",
       "      <td>3777</td>\n",
       "      <td>1282</td>\n",
       "    </tr>\n",
       "    <tr>\n",
       "      <th>4</th>\n",
       "      <td>1</td>\n",
       "      <td>1</td>\n",
       "      <td>4177</td>\n",
       "      <td>1590</td>\n",
       "    </tr>\n",
       "    <tr>\n",
       "      <th>...</th>\n",
       "      <td>...</td>\n",
       "      <td>...</td>\n",
       "      <td>...</td>\n",
       "      <td>...</td>\n",
       "    </tr>\n",
       "    <tr>\n",
       "      <th>232</th>\n",
       "      <td>2</td>\n",
       "      <td>2</td>\n",
       "      <td>3214</td>\n",
       "      <td>1110</td>\n",
       "    </tr>\n",
       "    <tr>\n",
       "      <th>233</th>\n",
       "      <td>2</td>\n",
       "      <td>2</td>\n",
       "      <td>3394</td>\n",
       "      <td>1215</td>\n",
       "    </tr>\n",
       "    <tr>\n",
       "      <th>234</th>\n",
       "      <td>2</td>\n",
       "      <td>2</td>\n",
       "      <td>3233</td>\n",
       "      <td>1104</td>\n",
       "    </tr>\n",
       "    <tr>\n",
       "      <th>235</th>\n",
       "      <td>2</td>\n",
       "      <td>2</td>\n",
       "      <td>3352</td>\n",
       "      <td>1170</td>\n",
       "    </tr>\n",
       "    <tr>\n",
       "      <th>236</th>\n",
       "      <td>2</td>\n",
       "      <td>2</td>\n",
       "      <td>3391</td>\n",
       "      <td>1120</td>\n",
       "    </tr>\n",
       "  </tbody>\n",
       "</table>\n",
       "<p>237 rows × 4 columns</p>\n",
       "</div>"
      ],
      "text/plain": [
       "     Gender  Age Range  Head Size(cm^3)  Brain Weight(grams)\n",
       "0         1          1             4512                 1530\n",
       "1         1          1             3738                 1297\n",
       "2         1          1             4261                 1335\n",
       "3         1          1             3777                 1282\n",
       "4         1          1             4177                 1590\n",
       "..      ...        ...              ...                  ...\n",
       "232       2          2             3214                 1110\n",
       "233       2          2             3394                 1215\n",
       "234       2          2             3233                 1104\n",
       "235       2          2             3352                 1170\n",
       "236       2          2             3391                 1120\n",
       "\n",
       "[237 rows x 4 columns]"
      ]
     },
     "execution_count": 88,
     "metadata": {},
     "output_type": "execute_result"
    }
   ],
   "source": [
    "data\n"
   ]
  },
  {
   "cell_type": "code",
   "execution_count": 89,
   "metadata": {},
   "outputs": [
    {
     "data": {
      "image/png": "[encoded data removed]",
      "text/plain": [
       "<Figure size 432x288 with 1 Axes>"
      ]
     },
     "metadata": {
      "needs_background": "light"
     },
     "output_type": "display_data"
    }
   ],
   "source": [
    "# plotting the values and regression line\n",
    "max_x=np.max(x)+100\n",
    "min_x=np.min(x)-100\n",
    "#print(max_x,min_x)\n",
    "x1=np.linspace(min_x,max_x,1000)\n",
    "y1=b0+b1*x1\n",
    "\n",
    "plt.plot(x1,y1,color='red',label=\"Regression Line\")\n",
    "plt.scatter(x,y,c='blue',label=\"Actual values\")\n",
    "plt.xlabel(\"Head Size(cm^3)\")\n",
    "plt.ylabel(\"Brain Weight(grams)\")\n",
    "plt.legend(loc=\"best\")\n",
    "plt.show()"
   ]
  },
  {
   "cell_type": "code",
   "execution_count": 81,
   "metadata": {},
   "outputs": [
    {
     "data": {
      "text/plain": [
       "1448.0458366137732"
      ]
     },
     "execution_count": 81,
     "metadata": {},
     "output_type": "execute_result"
    }
   ],
   "source": [
    "y_pred=b0+b1*x[2]\n",
    "y_pred"
   ]
  },
  {
   "cell_type": "code",
   "execution_count": 82,
   "metadata": {},
   "outputs": [
    {
     "data": {
      "text/html": [
       "<div>\n",
       "<style scoped>\n",
       "    .dataframe tbody tr th:only-of-type {\n",
       "        vertical-align: middle;\n",
       "    }\n",
       "\n",
       "    .dataframe tbody tr th {\n",
       "        vertical-align: top;\n",
       "    }\n",
       "\n",
       "    .dataframe thead th {\n",
       "        text-align: right;\n",
       "    }\n",
       "</style>\n",
       "<table border=\"1\" class=\"dataframe\">\n",
       "  <thead>\n",
       "    <tr style=\"text-align: right;\">\n",
       "      <th></th>\n",
       "      <th>Gender</th>\n",
       "      <th>Age Range</th>\n",
       "      <th>Head Size(cm^3)</th>\n",
       "      <th>Brain Weight(grams)</th>\n",
       "    </tr>\n",
       "  </thead>\n",
       "  <tbody>\n",
       "    <tr>\n",
       "      <th>0</th>\n",
       "      <td>1</td>\n",
       "      <td>1</td>\n",
       "      <td>4512</td>\n",
       "      <td>1530</td>\n",
       "    </tr>\n",
       "    <tr>\n",
       "      <th>1</th>\n",
       "      <td>1</td>\n",
       "      <td>1</td>\n",
       "      <td>3738</td>\n",
       "      <td>1297</td>\n",
       "    </tr>\n",
       "    <tr>\n",
       "      <th>2</th>\n",
       "      <td>1</td>\n",
       "      <td>1</td>\n",
       "      <td>4261</td>\n",
       "      <td>1335</td>\n",
       "    </tr>\n",
       "    <tr>\n",
       "      <th>3</th>\n",
       "      <td>1</td>\n",
       "      <td>1</td>\n",
       "      <td>3777</td>\n",
       "      <td>1282</td>\n",
       "    </tr>\n",
       "    <tr>\n",
       "      <th>4</th>\n",
       "      <td>1</td>\n",
       "      <td>1</td>\n",
       "      <td>4177</td>\n",
       "      <td>1590</td>\n",
       "    </tr>\n",
       "  </tbody>\n",
       "</table>\n",
       "</div>"
      ],
      "text/plain": [
       "   Gender  Age Range  Head Size(cm^3)  Brain Weight(grams)\n",
       "0       1          1             4512                 1530\n",
       "1       1          1             3738                 1297\n",
       "2       1          1             4261                 1335\n",
       "3       1          1             3777                 1282\n",
       "4       1          1             4177                 1590"
      ]
     },
     "execution_count": 82,
     "metadata": {},
     "output_type": "execute_result"
    }
   ],
   "source": [
    "data.head()"
   ]
  },
  {
   "cell_type": "code",
   "execution_count": 83,
   "metadata": {},
   "outputs": [
    {
     "name": "stdout",
     "output_type": "stream",
     "text": [
      "0.6393117199570003\n"
     ]
    }
   ],
   "source": [
    "#determination coefficient(R2)---(0 to 1)\n",
    "ss_tot=0\n",
    "ss_res=0\n",
    "for i in range(n):\n",
    "    y_pred=b0+b1*x[i]\n",
    "    ss_res+=(y[i]-y_pred)**2\n",
    "    ss_tot+=(y[i]-mean_y)**2\n",
    "r2=1-(ss_res/ss_tot)\n",
    "print(r2)"
   ]
  },
  {
   "cell_type": "code",
   "execution_count": 84,
   "metadata": {},
   "outputs": [
    {
     "data": {
      "text/plain": [
       "LinearRegression()"
      ]
     },
     "execution_count": 84,
     "metadata": {},
     "output_type": "execute_result"
    }
   ],
   "source": [
    "## Using SkLearn\n",
    "from sklearn.linear_model import LinearRegression\n",
    "x=data['Head Size(cm^3)'].values.reshape(-1,1)\n",
    "y=data['Brain Weight(grams)'].values.reshape(-1,1)\n",
    "reg=LinearRegression() #Applying the data tp the model\n",
    "reg.fit(x,y)  #fit the data"
   ]
  },
  {
   "cell_type": "code",
   "execution_count": 85,
   "metadata": {},
   "outputs": [
    {
     "name": "stdout",
     "output_type": "stream",
     "text": [
      "[[0.26342934]]\n"
     ]
    }
   ],
   "source": [
    "print(reg.coef_) ##b1"
   ]
  },
  {
   "cell_type": "code",
   "execution_count": 86,
   "metadata": {},
   "outputs": [
    {
     "name": "stdout",
     "output_type": "stream",
     "text": [
      "[325.57342105]\n"
     ]
    }
   ],
   "source": [
    "print(reg.intercept_) ##b0"
   ]
  },
  {
   "cell_type": "code",
   "execution_count": 87,
   "metadata": {},
   "outputs": [
    {
     "name": "stdout",
     "output_type": "stream",
     "text": [
      "[[1514.16660083]\n",
      " [1310.27229206]\n",
      " [1448.04583661]\n",
      " [1320.5460363 ]\n",
      " [1425.9177721 ]\n",
      " [1269.96760312]\n",
      " [1322.65347102]\n",
      " [1263.11844029]\n",
      " [1277.34362462]\n",
      " [1374.5490509 ]\n",
      " [1232.56063691]\n",
      " [1377.44677363]\n",
      " [1284.45621679]\n",
      " [1434.08408162]\n",
      " [1335.03464997]\n",
      " [1346.62554091]\n",
      " [1246.78582124]\n",
      " [1238.61951172]\n",
      " [1140.88722677]\n",
      " [1490.98481895]\n",
      " [1347.15239959]\n",
      " [1391.40852862]\n",
      " [1327.65862847]\n",
      " [1302.89627056]\n",
      " [1576.07249561]\n",
      " [1490.72138961]\n",
      " [1388.77423523]\n",
      " [1385.08622448]\n",
      " [1235.45835965]\n",
      " [1425.39091342]\n",
      " [1323.1803297 ]\n",
      " [1325.55119375]\n",
      " [1406.42400097]\n",
      " [1421.70290266]\n",
      " [1420.91261465]\n",
      " [1330.29292186]\n",
      " [1254.68870143]\n",
      " [1312.90658546]\n",
      " [1203.84683891]\n",
      " [1245.46867455]\n",
      " [1369.28046411]\n",
      " [1248.89325596]\n",
      " [1462.27102095]\n",
      " [1327.65862847]\n",
      " [1343.2009595 ]\n",
      " [1388.24737655]\n",
      " [1460.42701557]\n",
      " [1159.32728053]\n",
      " [1284.71964613]\n",
      " [1285.50993415]\n",
      " [1350.576981  ]\n",
      " [1324.76090573]\n",
      " [1450.41670067]\n",
      " [1395.88682739]\n",
      " [1382.45193108]\n",
      " [1236.512077  ]\n",
      " [1350.31355166]\n",
      " [1423.02004936]\n",
      " [1362.16787194]\n",
      " [1292.09566764]\n",
      " [1343.99124752]\n",
      " [1219.38916994]\n",
      " [1495.72654706]\n",
      " [1445.9384019 ]\n",
      " [1307.37456933]\n",
      " [1202.52969221]\n",
      " [1225.18461541]\n",
      " [1213.85715381]\n",
      " [1492.56539499]\n",
      " [1479.65735735]\n",
      " [1381.39821372]\n",
      " [1341.8838128 ]\n",
      " [1411.16572909]\n",
      " [1394.30625136]\n",
      " [1332.92721526]\n",
      " [1219.65259928]\n",
      " [1262.85501095]\n",
      " [1211.22286041]\n",
      " [1360.85072524]\n",
      " [1335.82493799]\n",
      " [1334.50779129]\n",
      " [1341.35695412]\n",
      " [1181.45534505]\n",
      " [1267.8601684 ]\n",
      " [1361.64101326]\n",
      " [1339.77637808]\n",
      " [1197.26110542]\n",
      " [1222.81375135]\n",
      " [1249.1566853 ]\n",
      " [1354.79185043]\n",
      " [1421.43947333]\n",
      " [1199.63196948]\n",
      " [1290.25166226]\n",
      " [1352.68441572]\n",
      " [1300.26197716]\n",
      " [1321.07289498]\n",
      " [1240.4635171 ]\n",
      " [1244.94181587]\n",
      " [1288.14422754]\n",
      " [1241.78066379]\n",
      " [1246.25896256]\n",
      " [1335.56150865]\n",
      " [1346.62554091]\n",
      " [1289.98823292]\n",
      " [1278.66077132]\n",
      " [1286.56365151]\n",
      " [1387.72051787]\n",
      " [1220.96974597]\n",
      " [1357.16271449]\n",
      " [1492.56539499]\n",
      " [1298.94483046]\n",
      " [1253.89841341]\n",
      " [1266.27959237]\n",
      " [1272.33846717]\n",
      " [1216.75487654]\n",
      " [1247.31267992]\n",
      " [1271.02132048]\n",
      " [1352.94784506]\n",
      " [1409.32172371]\n",
      " [1362.69473062]\n",
      " [1220.96974597]\n",
      " [1431.9766469 ]\n",
      " [1507.84429668]\n",
      " [1277.60705396]\n",
      " [1392.72567532]\n",
      " [1321.863183  ]\n",
      " [1218.86231126]\n",
      " [1148.52667761]\n",
      " [1393.252534  ]\n",
      " [1269.1773151 ]\n",
      " [1291.30537962]\n",
      " [1256.00584813]\n",
      " [1391.40852862]\n",
      " [1291.56880896]\n",
      " [1078.19104397]\n",
      " [1230.71663154]\n",
      " [1324.23404705]\n",
      " [1195.41710004]\n",
      " [1143.25809082]\n",
      " [1160.90785657]\n",
      " [1266.54302171]\n",
      " [1255.47898945]\n",
      " [1161.96157393]\n",
      " [1231.24349021]\n",
      " [1353.73813308]\n",
      " [1352.68441572]\n",
      " [1221.49660465]\n",
      " [1186.19707316]\n",
      " [1234.66807163]\n",
      " [1139.57008007]\n",
      " [1224.65775673]\n",
      " [1200.94911617]\n",
      " [1294.99339037]\n",
      " [1231.50691955]\n",
      " [1340.5666661 ]\n",
      " [1156.95641648]\n",
      " [1189.35822524]\n",
      " [1302.10598254]\n",
      " [1380.87135504]\n",
      " [1186.72393184]\n",
      " [1134.56492262]\n",
      " [1321.07289498]\n",
      " [1260.22071756]\n",
      " [1192.78280665]\n",
      " [1246.78582124]\n",
      " [1137.46264536]\n",
      " [1181.19191571]\n",
      " [1210.16914305]\n",
      " [1327.39519913]\n",
      " [1264.96244567]\n",
      " [1154.05869374]\n",
      " [1248.36639728]\n",
      " [1266.27959237]\n",
      " [1306.58428131]\n",
      " [1277.8704833 ]\n",
      " [1169.33759543]\n",
      " [1276.28990727]\n",
      " [1263.64529897]\n",
      " [1373.75876288]\n",
      " [1256.26927747]\n",
      " [1297.36425443]\n",
      " [1157.48327516]\n",
      " [1380.6079257 ]\n",
      " [1163.54214997]\n",
      " [1242.04409313]\n",
      " [1284.98307547]\n",
      " [1282.34878207]\n",
      " [1134.03806394]\n",
      " [1219.65259928]\n",
      " [1301.05226518]\n",
      " [1159.32728053]\n",
      " [1209.1154257 ]\n",
      " [1115.86143952]\n",
      " [1296.83739575]\n",
      " [1262.32815227]\n",
      " [1056.06297945]\n",
      " [1131.14034121]\n",
      " [1206.4811323 ]\n",
      " [1245.73210389]\n",
      " [1194.09995335]\n",
      " [1210.69600173]\n",
      " [1175.92332892]\n",
      " [1188.83136656]\n",
      " [1340.03980742]\n",
      " [1133.51120526]\n",
      " [1298.15454244]\n",
      " [1221.76003399]\n",
      " [1377.97363231]\n",
      " [1199.63196948]\n",
      " [1042.10122446]\n",
      " [1099.26539113]\n",
      " [1268.65045642]\n",
      " [1099.79224981]\n",
      " [1112.96371678]\n",
      " [1270.23103246]\n",
      " [1156.95641648]\n",
      " [1180.66505703]\n",
      " [1160.64442723]\n",
      " [1186.4605025 ]\n",
      " [1218.33545258]\n",
      " [1216.22801786]\n",
      " [1080.03504935]\n",
      " [1310.79915074]\n",
      " [1242.04409313]\n",
      " [1286.30022217]\n",
      " [1304.47684659]\n",
      " [1190.67537193]\n",
      " [1433.03036426]\n",
      " [1309.48200404]\n",
      " [1173.28903553]\n",
      " [1296.31053707]\n",
      " [1301.31569452]\n",
      " [1172.23531817]\n",
      " [1219.65259928]\n",
      " [1177.24047562]\n",
      " [1208.58856702]\n",
      " [1218.86231126]]\n"
     ]
    }
   ],
   "source": [
    "pred=reg.predict(x)\n",
    "print(pred)"
   ]
  },
  {
   "cell_type": "code",
   "execution_count": 90,
   "metadata": {},
   "outputs": [
    {
     "data": {
      "text/html": [
       "<div>\n",
       "<style scoped>\n",
       "    .dataframe tbody tr th:only-of-type {\n",
       "        vertical-align: middle;\n",
       "    }\n",
       "\n",
       "    .dataframe tbody tr th {\n",
       "        vertical-align: top;\n",
       "    }\n",
       "\n",
       "    .dataframe thead th {\n",
       "        text-align: right;\n",
       "    }\n",
       "</style>\n",
       "<table border=\"1\" class=\"dataframe\">\n",
       "  <thead>\n",
       "    <tr style=\"text-align: right;\">\n",
       "      <th></th>\n",
       "      <th>Gender</th>\n",
       "      <th>Age Range</th>\n",
       "      <th>Head Size(cm^3)</th>\n",
       "      <th>Brain Weight(grams)</th>\n",
       "    </tr>\n",
       "  </thead>\n",
       "  <tbody>\n",
       "    <tr>\n",
       "      <th>0</th>\n",
       "      <td>1</td>\n",
       "      <td>1</td>\n",
       "      <td>4512</td>\n",
       "      <td>1530</td>\n",
       "    </tr>\n",
       "    <tr>\n",
       "      <th>1</th>\n",
       "      <td>1</td>\n",
       "      <td>1</td>\n",
       "      <td>3738</td>\n",
       "      <td>1297</td>\n",
       "    </tr>\n",
       "    <tr>\n",
       "      <th>2</th>\n",
       "      <td>1</td>\n",
       "      <td>1</td>\n",
       "      <td>4261</td>\n",
       "      <td>1335</td>\n",
       "    </tr>\n",
       "    <tr>\n",
       "      <th>3</th>\n",
       "      <td>1</td>\n",
       "      <td>1</td>\n",
       "      <td>3777</td>\n",
       "      <td>1282</td>\n",
       "    </tr>\n",
       "    <tr>\n",
       "      <th>4</th>\n",
       "      <td>1</td>\n",
       "      <td>1</td>\n",
       "      <td>4177</td>\n",
       "      <td>1590</td>\n",
       "    </tr>\n",
       "  </tbody>\n",
       "</table>\n",
       "</div>"
      ],
      "text/plain": [
       "   Gender  Age Range  Head Size(cm^3)  Brain Weight(grams)\n",
       "0       1          1             4512                 1530\n",
       "1       1          1             3738                 1297\n",
       "2       1          1             4261                 1335\n",
       "3       1          1             3777                 1282\n",
       "4       1          1             4177                 1590"
      ]
     },
     "execution_count": 90,
     "metadata": {},
     "output_type": "execute_result"
    }
   ],
   "source": [
    "data.head()"
   ]
  },
  {
   "cell_type": "code",
   "execution_count": 92,
   "metadata": {},
   "outputs": [
    {
     "data": {
      "text/plain": [
       "<function matplotlib.pyplot.show(close=None, block=None)>"
      ]
     },
     "execution_count": 92,
     "metadata": {},
     "output_type": "execute_result"
    },
    {
     "data": {
      "image/png": "[encoded data removed]",
      "text/plain": [
       "<Figure size 576x288 with 1 Axes>"
      ]
     },
     "metadata": {
      "needs_background": "light"
     },
     "output_type": "display_data"
    }
   ],
   "source": [
    "plt.figure(figsize=(8,4))\n",
    "plt.scatter(data['Head Size(cm^3)'],data['Brain Weight(grams)'],c=\"red\",label='Actual values')\n",
    "plt.plot(data[\"Head Size(cm^3)\"],pred,c=\"blue\",label=\"Regression Line\")\n",
    "plt.xlabel(\"Head Size(cm^3)\")\n",
    "plt.ylabel(\"Brain Weight(grams)\")\n",
    "plt.legend(loc=\"best\")\n",
    "plt.show"
   ]
  },
  {
   "cell_type": "code",
   "execution_count": 94,
   "metadata": {},
   "outputs": [
    {
     "name": "stdout",
     "output_type": "stream",
     "text": [
      "R2 score: 0.639311719957\n"
     ]
    }
   ],
   "source": [
    "## R2 score----->lies between 0-1\n",
    "r2=reg.score(x,y)\n",
    "print(\"R2 score:\",r2)"
   ]
  },
  {
   "cell_type": "code",
   "execution_count": null,
   "metadata": {},
   "outputs": [],
   "source": []
  }
 ],
 "metadata": {
  "kernelspec": {
   "display_name": "Python 3",
   "language": "python",
   "name": "python3"
  },
  "language_info": {
   "codemirror_mode": {
    "name": "ipython",
    "version": 3
   },
   "file_extension": ".py",
   "mimetype": "text/x-python",
   "name": "python",
   "nbconvert_exporter": "python",
   "pygments_lexer": "ipython3",
   "version": "3.8.5"
  }
 },
 "nbformat": 4,
 "nbformat_minor": 4
}
