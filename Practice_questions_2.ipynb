{
 "cells": [
  {
   "cell_type": "markdown",
   "metadata": {},
   "source": [
    "### Sum of the digits in a string"
   ]
  },
  {
   "cell_type": "code",
   "execution_count": 1,
   "metadata": {},
   "outputs": [],
   "source": [
    "string=\"Guido van Rossum began working on Python in the late 1980s, as a successor to the ABC programming language, and first released it in 1991 as Python 0.9.0.[32] Python 2.0 was released in 2000 and introduced new features, such as list comprehensions and a garbage collection system using reference counting. Python 3.0 was released in 2008 and was a major revision of the language that is not completely backward-compatible and much Python 2 code does not run unmodified on Python 3. Python 2 was discontinued with version 2.7.18 in 2020.[33]\""
   ]
  },
  {
   "cell_type": "code",
   "execution_count": 29,
   "metadata": {},
   "outputs": [
    {
     "name": "stdout",
     "output_type": "stream",
     "text": [
      "1 9 8 0 1 9 9 1 0 9 0 3 2 2 0 2 0 0 0 3 0 2 0 0 8 2 3 2 2 7 1 8 2 0 2 0 3 3  count: 38\n",
      "sum of the digits is: 104\n"
     ]
    }
   ],
   "source": [
    "a=0\n",
    "sum=0\n",
    "for char in string:\n",
    "    if char.isdigit():\n",
    "        print(char,end=' ')\n",
    "        a=a+1\n",
    "        sum=sum+int(char)\n",
    "print(' count:',a)\n",
    "print('sum of the digits is:',sum)\n"
   ]
  },
  {
   "cell_type": "markdown",
   "metadata": {},
   "source": [
    "###  Sum of the even digits and odd digits in the string"
   ]
  },
  {
   "cell_type": "markdown",
   "metadata": {},
   "source": [
    "#### Even digits"
   ]
  },
  {
   "cell_type": "code",
   "execution_count": 37,
   "metadata": {},
   "outputs": [
    {
     "name": "stdout",
     "output_type": "stream",
     "text": [
      "8\n",
      "0\n",
      "0\n",
      "0\n",
      "2\n",
      "2\n",
      "0\n",
      "2\n",
      "0\n",
      "0\n",
      "0\n",
      "0\n",
      "2\n",
      "0\n",
      "0\n",
      "8\n",
      "2\n",
      "2\n",
      "2\n",
      "8\n",
      "2\n",
      "0\n",
      "2\n",
      "0\n",
      "sum of the even digits is: 42\n"
     ]
    }
   ],
   "source": [
    "sum=0\n",
    "for char in string:\n",
    "    if char.isdigit():\n",
    "        if(int(char)%2==0):\n",
    "                print(char)\n",
    "                sum=sum+int(char)\n",
    "print('sum of the even digits is:',sum)\n",
    "    "
   ]
  },
  {
   "cell_type": "markdown",
   "metadata": {},
   "source": [
    "#### Odd digits"
   ]
  },
  {
   "cell_type": "code",
   "execution_count": 38,
   "metadata": {},
   "outputs": [
    {
     "name": "stdout",
     "output_type": "stream",
     "text": [
      "1\n",
      "9\n",
      "1\n",
      "9\n",
      "9\n",
      "1\n",
      "9\n",
      "3\n",
      "3\n",
      "3\n",
      "7\n",
      "1\n",
      "3\n",
      "3\n",
      "sum of the even digits is: 62\n"
     ]
    }
   ],
   "source": [
    "sum=0\n",
    "for char in string:\n",
    "    if char.isdigit():\n",
    "        if(int(char)%2==1):\n",
    "                print(char)\n",
    "                sum=sum+int(char)\n",
    "print('sum of the even digits is:',sum)"
   ]
  },
  {
   "cell_type": "code",
   "execution_count": null,
   "metadata": {},
   "outputs": [],
   "source": []
  },
  {
   "cell_type": "code",
   "execution_count": null,
   "metadata": {},
   "outputs": [],
   "source": []
  }
 ],
 "metadata": {
  "kernelspec": {
   "display_name": "Python 3",
   "language": "python",
   "name": "python3"
  },
  "language_info": {
   "codemirror_mode": {
    "name": "ipython",
    "version": 3
   },
   "file_extension": ".py",
   "mimetype": "text/x-python",
   "name": "python",
   "nbconvert_exporter": "python",
   "pygments_lexer": "ipython3",
   "version": "3.8.5"
  }
 },
 "nbformat": 4,
 "nbformat_minor": 4
}
