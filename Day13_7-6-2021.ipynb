{
 "cells": [
  {
   "cell_type": "markdown",
   "metadata": {},
   "source": [
    "### Recap\n",
    "\n",
    "\n",
    "### Files in Python\n",
    "\n",
    "- Open \n",
    "- Do some Operations\n",
    "- Close\n",
    "\n",
    "\n",
    "### Day13 Objectives\n",
    "\n",
    "- Positional Arguments\n",
    "- Keyword Arguments\n",
    "- Default Arguments\n",
    "- Variable Length arguments\n",
    "- Call by value\n",
    "- Call by reference\n",
    "- Modules and Packages"
   ]
  },
  {
   "cell_type": "code",
   "execution_count": 1,
   "metadata": {},
   "outputs": [],
   "source": [
    "def addition(a,b):\n",
    "    return a+b"
   ]
  },
  {
   "cell_type": "code",
   "execution_count": 2,
   "metadata": {},
   "outputs": [
    {
     "name": "stdout",
     "output_type": "stream",
     "text": [
      "10\n"
     ]
    }
   ],
   "source": [
    "print(addition(5,5))"
   ]
  },
  {
   "cell_type": "markdown",
   "metadata": {},
   "source": [
    "### Variable length arguments"
   ]
  },
  {
   "cell_type": "code",
   "execution_count": 3,
   "metadata": {},
   "outputs": [],
   "source": [
    "def addition(a,*b):\n",
    "    print(a)\n",
    "    print(b)\n",
    "    return"
   ]
  },
  {
   "cell_type": "code",
   "execution_count": 4,
   "metadata": {},
   "outputs": [
    {
     "name": "stdout",
     "output_type": "stream",
     "text": [
      "5\n",
      "(5,)\n"
     ]
    }
   ],
   "source": [
    "addition(5,5)"
   ]
  },
  {
   "cell_type": "code",
   "execution_count": 5,
   "metadata": {},
   "outputs": [
    {
     "name": "stdout",
     "output_type": "stream",
     "text": [
      "5\n",
      "(6, 7, 8, 9, 0, 4, 3, 2, 1)\n"
     ]
    }
   ],
   "source": [
    "addition(5,6,7,8,9,0,4,3,2,1)"
   ]
  },
  {
   "cell_type": "code",
   "execution_count": 6,
   "metadata": {},
   "outputs": [],
   "source": [
    "def addition(*a,b):\n",
    "    print(a)\n",
    "    print(b)\n",
    "    return"
   ]
  },
  {
   "cell_type": "code",
   "execution_count": 7,
   "metadata": {},
   "outputs": [
    {
     "name": "stdout",
     "output_type": "stream",
     "text": [
      "(5, 6, 7, 8, 9)\n",
      "55\n"
     ]
    }
   ],
   "source": [
    "addition(5,6,7,8,9,b=55)"
   ]
  },
  {
   "cell_type": "code",
   "execution_count": 8,
   "metadata": {},
   "outputs": [],
   "source": [
    "def addition(*a,b):\n",
    "    s=b\n",
    "    for num in a:\n",
    "        s+=num\n",
    "    return s\n",
    "        "
   ]
  },
  {
   "cell_type": "code",
   "execution_count": 9,
   "metadata": {},
   "outputs": [
    {
     "data": {
      "text/plain": [
       "1032"
      ]
     },
     "execution_count": 9,
     "metadata": {},
     "output_type": "execute_result"
    }
   ],
   "source": [
    "addition(5,5,10,324,64,534,35,b=55)"
   ]
  },
  {
   "cell_type": "code",
   "execution_count": 10,
   "metadata": {},
   "outputs": [],
   "source": [
    "def addition(*a,b):\n",
    " \n",
    "    return sum(a)+b\n",
    "        "
   ]
  },
  {
   "cell_type": "code",
   "execution_count": 11,
   "metadata": {},
   "outputs": [
    {
     "data": {
      "text/plain": [
       "1032"
      ]
     },
     "execution_count": 11,
     "metadata": {},
     "output_type": "execute_result"
    }
   ],
   "source": [
    "addition(5,5,10,324,64,534,35,b=55)"
   ]
  },
  {
   "cell_type": "code",
   "execution_count": 12,
   "metadata": {},
   "outputs": [],
   "source": [
    "def addition(**var):\n",
    " \n",
    "    return var\n",
    "        "
   ]
  },
  {
   "cell_type": "code",
   "execution_count": 13,
   "metadata": {},
   "outputs": [
    {
     "data": {
      "text/plain": [
       "{'a': 1, 'b': 10, 'c': 25, 'd': 35, 'abc': 55}"
      ]
     },
     "execution_count": 13,
     "metadata": {},
     "output_type": "execute_result"
    }
   ],
   "source": [
    "addition(a=1,b=10,c=25,d=35,abc=55)"
   ]
  },
  {
   "cell_type": "code",
   "execution_count": 16,
   "metadata": {},
   "outputs": [
    {
     "data": {
      "text/plain": [
       "'\\nRead a comma-separated values (csv) file into DataFrame.\\n\\nAlso supports optionally iterating or breaking of the file\\ninto chunks.\\n\\nAdditional help can be found in the online docs for\\n`IO Tools <https://pandas.pydata.org/pandas-docs/stable/user_guide/io.html>`_.\\n\\nParameters\\n----------\\nfilepath_or_buffer : str, path object or file-like object\\n    Any valid string path is acceptable. The string could be a URL. Valid\\n    URL schemes include http, ftp, s3, gs, and file. For file URLs, a host is\\n    expected. A local file could be: file://localhost/path/to/table.csv.\\n\\n    If you want to pass in a path object, pandas accepts any ``os.PathLike``.\\n\\n    By file-like object, we refer to objects with a ``read()`` method, such as\\n    a file handler (e.g. via builtin ``open`` function) or ``StringIO``.\\nsep : str, default \\',\\'\\n    Delimiter to use. If sep is None, the C engine cannot automatically detect\\n    the separator, but the Python parsing engine can, meaning the latter will\\n    be used and automatically detect the separator by Python\\'s builtin sniffer\\n    tool, ``csv.Sniffer``. In addition, separators longer than 1 character and\\n    different from ``\\'\\\\s+\\'`` will be interpreted as regular expressions and\\n    will also force the use of the Python parsing engine. Note that regex\\n    delimiters are prone to ignoring quoted data. Regex example: ``\\'\\\\r\\\\t\\'``.\\ndelimiter : str, default ``None``\\n    Alias for sep.\\nheader : int, list of int, default \\'infer\\'\\n    Row number(s) to use as the column names, and the start of the\\n    data.  Default behavior is to infer the column names: if no names\\n    are passed the behavior is identical to ``header=0`` and column\\n    names are inferred from the first line of the file, if column\\n    names are passed explicitly then the behavior is identical to\\n    ``header=None``. Explicitly pass ``header=0`` to be able to\\n    replace existing names. The header can be a list of integers that\\n    specify row locations for a multi-index on the columns\\n    e.g. [0,1,3]. Intervening rows that are not specified will be\\n    skipped (e.g. 2 in this example is skipped). Note that this\\n    parameter ignores commented lines and empty lines if\\n    ``skip_blank_lines=True``, so ``header=0`` denotes the first line of\\n    data rather than the first line of the file.\\nnames : array-like, optional\\n    List of column names to use. If the file contains a header row,\\n    then you should explicitly pass ``header=0`` to override the column names.\\n    Duplicates in this list are not allowed.\\nindex_col : int, str, sequence of int / str, or False, default ``None``\\n  Column(s) to use as the row labels of the ``DataFrame``, either given as\\n  string name or column index. If a sequence of int / str is given, a\\n  MultiIndex is used.\\n\\n  Note: ``index_col=False`` can be used to force pandas to *not* use the first\\n  column as the index, e.g. when you have a malformed file with delimiters at\\n  the end of each line.\\nusecols : list-like or callable, optional\\n    Return a subset of the columns. If list-like, all elements must either\\n    be positional (i.e. integer indices into the document columns) or strings\\n    that correspond to column names provided either by the user in `names` or\\n    inferred from the document header row(s). For example, a valid list-like\\n    `usecols` parameter would be ``[0, 1, 2]`` or ``[\\'foo\\', \\'bar\\', \\'baz\\']``.\\n    Element order is ignored, so ``usecols=[0, 1]`` is the same as ``[1, 0]``.\\n    To instantiate a DataFrame from ``data`` with element order preserved use\\n    ``pd.read_csv(data, usecols=[\\'foo\\', \\'bar\\'])[[\\'foo\\', \\'bar\\']]`` for columns\\n    in ``[\\'foo\\', \\'bar\\']`` order or\\n    ``pd.read_csv(data, usecols=[\\'foo\\', \\'bar\\'])[[\\'bar\\', \\'foo\\']]``\\n    for ``[\\'bar\\', \\'foo\\']`` order.\\n\\n    If callable, the callable function will be evaluated against the column\\n    names, returning names where the callable function evaluates to True. An\\n    example of a valid callable argument would be ``lambda x: x.upper() in\\n    [\\'AAA\\', \\'BBB\\', \\'DDD\\']``. Using this parameter results in much faster\\n    parsing time and lower memory usage.\\nsqueeze : bool, default False\\n    If the parsed data only contains one column then return a Series.\\nprefix : str, optional\\n    Prefix to add to column numbers when no header, e.g. \\'X\\' for X0, X1, ...\\nmangle_dupe_cols : bool, default True\\n    Duplicate columns will be specified as \\'X\\', \\'X.1\\', ...\\'X.N\\', rather than\\n    \\'X\\'...\\'X\\'. Passing in False will cause data to be overwritten if there\\n    are duplicate names in the columns.\\ndtype : Type name or dict of column -> type, optional\\n    Data type for data or columns. E.g. {\\'a\\': np.float64, \\'b\\': np.int32,\\n    \\'c\\': \\'Int64\\'}\\n    Use `str` or `object` together with suitable `na_values` settings\\n    to preserve and not interpret dtype.\\n    If converters are specified, they will be applied INSTEAD\\n    of dtype conversion.\\nengine : {\\'c\\', \\'python\\'}, optional\\n    Parser engine to use. The C engine is faster while the python engine is\\n    currently more feature-complete.\\nconverters : dict, optional\\n    Dict of functions for converting values in certain columns. Keys can either\\n    be integers or column labels.\\ntrue_values : list, optional\\n    Values to consider as True.\\nfalse_values : list, optional\\n    Values to consider as False.\\nskipinitialspace : bool, default False\\n    Skip spaces after delimiter.\\nskiprows : list-like, int or callable, optional\\n    Line numbers to skip (0-indexed) or number of lines to skip (int)\\n    at the start of the file.\\n\\n    If callable, the callable function will be evaluated against the row\\n    indices, returning True if the row should be skipped and False otherwise.\\n    An example of a valid callable argument would be ``lambda x: x in [0, 2]``.\\nskipfooter : int, default 0\\n    Number of lines at bottom of file to skip (Unsupported with engine=\\'c\\').\\nnrows : int, optional\\n    Number of rows of file to read. Useful for reading pieces of large files.\\nna_values : scalar, str, list-like, or dict, optional\\n    Additional strings to recognize as NA/NaN. If dict passed, specific\\n    per-column NA values.  By default the following values are interpreted as\\n    NaN: \\'\\', \\'#N/A\\', \\'#N/A N/A\\', \\'#NA\\', \\'-1.#IND\\', \\'-1.#QNAN\\', \\'-NaN\\', \\'-nan\\',\\n    \\'1.#IND\\', \\'1.#QNAN\\', \\'<NA>\\', \\'N/A\\', \\'NA\\', \\'NULL\\', \\'NaN\\', \\'n/a\\',\\n    \\'nan\\', \\'null\\'.\\nkeep_default_na : bool, default True\\n    Whether or not to include the default NaN values when parsing the data.\\n    Depending on whether `na_values` is passed in, the behavior is as follows:\\n\\n    * If `keep_default_na` is True, and `na_values` are specified, `na_values`\\n      is appended to the default NaN values used for parsing.\\n    * If `keep_default_na` is True, and `na_values` are not specified, only\\n      the default NaN values are used for parsing.\\n    * If `keep_default_na` is False, and `na_values` are specified, only\\n      the NaN values specified `na_values` are used for parsing.\\n    * If `keep_default_na` is False, and `na_values` are not specified, no\\n      strings will be parsed as NaN.\\n\\n    Note that if `na_filter` is passed in as False, the `keep_default_na` and\\n    `na_values` parameters will be ignored.\\nna_filter : bool, default True\\n    Detect missing value markers (empty strings and the value of na_values). In\\n    data without any NAs, passing na_filter=False can improve the performance\\n    of reading a large file.\\nverbose : bool, default False\\n    Indicate number of NA values placed in non-numeric columns.\\nskip_blank_lines : bool, default True\\n    If True, skip over blank lines rather than interpreting as NaN values.\\nparse_dates : bool or list of int or names or list of lists or dict, default False\\n    The behavior is as follows:\\n\\n    * boolean. If True -> try parsing the index.\\n    * list of int or names. e.g. If [1, 2, 3] -> try parsing columns 1, 2, 3\\n      each as a separate date column.\\n    * list of lists. e.g.  If [[1, 3]] -> combine columns 1 and 3 and parse as\\n      a single date column.\\n    * dict, e.g. {\\'foo\\' : [1, 3]} -> parse columns 1, 3 as date and call\\n      result \\'foo\\'\\n\\n    If a column or index cannot be represented as an array of datetimes,\\n    say because of an unparseable value or a mixture of timezones, the column\\n    or index will be returned unaltered as an object data type. For\\n    non-standard datetime parsing, use ``pd.to_datetime`` after\\n    ``pd.read_csv``. To parse an index or column with a mixture of timezones,\\n    specify ``date_parser`` to be a partially-applied\\n    :func:`pandas.to_datetime` with ``utc=True``. See\\n    :ref:`io.csv.mixed_timezones` for more.\\n\\n    Note: A fast-path exists for iso8601-formatted dates.\\ninfer_datetime_format : bool, default False\\n    If True and `parse_dates` is enabled, pandas will attempt to infer the\\n    format of the datetime strings in the columns, and if it can be inferred,\\n    switch to a faster method of parsing them. In some cases this can increase\\n    the parsing speed by 5-10x.\\nkeep_date_col : bool, default False\\n    If True and `parse_dates` specifies combining multiple columns then\\n    keep the original columns.\\ndate_parser : function, optional\\n    Function to use for converting a sequence of string columns to an array of\\n    datetime instances. The default uses ``dateutil.parser.parser`` to do the\\n    conversion. Pandas will try to call `date_parser` in three different ways,\\n    advancing to the next if an exception occurs: 1) Pass one or more arrays\\n    (as defined by `parse_dates`) as arguments; 2) concatenate (row-wise) the\\n    string values from the columns defined by `parse_dates` into a single array\\n    and pass that; and 3) call `date_parser` once for each row using one or\\n    more strings (corresponding to the columns defined by `parse_dates`) as\\n    arguments.\\ndayfirst : bool, default False\\n    DD/MM format dates, international and European format.\\ncache_dates : bool, default True\\n    If True, use a cache of unique, converted dates to apply the datetime\\n    conversion. May produce significant speed-up when parsing duplicate\\n    date strings, especially ones with timezone offsets.\\n\\n    .. versionadded:: 0.25.0\\niterator : bool, default False\\n    Return TextFileReader object for iteration or getting chunks with\\n    ``get_chunk()``.\\nchunksize : int, optional\\n    Return TextFileReader object for iteration.\\n    See the `IO Tools docs\\n    <https://pandas.pydata.org/pandas-docs/stable/io.html#io-chunking>`_\\n    for more information on ``iterator`` and ``chunksize``.\\ncompression : {\\'infer\\', \\'gzip\\', \\'bz2\\', \\'zip\\', \\'xz\\', None}, default \\'infer\\'\\n    For on-the-fly decompression of on-disk data. If \\'infer\\' and\\n    `filepath_or_buffer` is path-like, then detect compression from the\\n    following extensions: \\'.gz\\', \\'.bz2\\', \\'.zip\\', or \\'.xz\\' (otherwise no\\n    decompression). If using \\'zip\\', the ZIP file must contain only one data\\n    file to be read in. Set to None for no decompression.\\nthousands : str, optional\\n    Thousands separator.\\ndecimal : str, default \\'.\\'\\n    Character to recognize as decimal point (e.g. use \\',\\' for European data).\\nlineterminator : str (length 1), optional\\n    Character to break file into lines. Only valid with C parser.\\nquotechar : str (length 1), optional\\n    The character used to denote the start and end of a quoted item. Quoted\\n    items can include the delimiter and it will be ignored.\\nquoting : int or csv.QUOTE_* instance, default 0\\n    Control field quoting behavior per ``csv.QUOTE_*`` constants. Use one of\\n    QUOTE_MINIMAL (0), QUOTE_ALL (1), QUOTE_NONNUMERIC (2) or QUOTE_NONE (3).\\ndoublequote : bool, default ``True``\\n   When quotechar is specified and quoting is not ``QUOTE_NONE``, indicate\\n   whether or not to interpret two consecutive quotechar elements INSIDE a\\n   field as a single ``quotechar`` element.\\nescapechar : str (length 1), optional\\n    One-character string used to escape other characters.\\ncomment : str, optional\\n    Indicates remainder of line should not be parsed. If found at the beginning\\n    of a line, the line will be ignored altogether. This parameter must be a\\n    single character. Like empty lines (as long as ``skip_blank_lines=True``),\\n    fully commented lines are ignored by the parameter `header` but not by\\n    `skiprows`. For example, if ``comment=\\'#\\'``, parsing\\n    ``#empty\\\\na,b,c\\\\n1,2,3`` with ``header=0`` will result in \\'a,b,c\\' being\\n    treated as the header.\\nencoding : str, optional\\n    Encoding to use for UTF when reading/writing (ex. \\'utf-8\\'). `List of Python\\n    standard encodings\\n    <https://docs.python.org/3/library/codecs.html#standard-encodings>`_ .\\ndialect : str or csv.Dialect, optional\\n    If provided, this parameter will override values (default or not) for the\\n    following parameters: `delimiter`, `doublequote`, `escapechar`,\\n    `skipinitialspace`, `quotechar`, and `quoting`. If it is necessary to\\n    override values, a ParserWarning will be issued. See csv.Dialect\\n    documentation for more details.\\nerror_bad_lines : bool, default True\\n    Lines with too many fields (e.g. a csv line with too many commas) will by\\n    default cause an exception to be raised, and no DataFrame will be returned.\\n    If False, then these \"bad lines\" will dropped from the DataFrame that is\\n    returned.\\nwarn_bad_lines : bool, default True\\n    If error_bad_lines is False, and warn_bad_lines is True, a warning for each\\n    \"bad line\" will be output.\\ndelim_whitespace : bool, default False\\n    Specifies whether or not whitespace (e.g. ``\\' \\'`` or ``\\'\\t\\'``) will be\\n    used as the sep. Equivalent to setting ``sep=\\'\\\\s+\\'``. If this option\\n    is set to True, nothing should be passed in for the ``delimiter``\\n    parameter.\\nlow_memory : bool, default True\\n    Internally process the file in chunks, resulting in lower memory use\\n    while parsing, but possibly mixed type inference.  To ensure no mixed\\n    types either set False, or specify the type with the `dtype` parameter.\\n    Note that the entire file is read into a single DataFrame regardless,\\n    use the `chunksize` or `iterator` parameter to return the data in chunks.\\n    (Only valid with C parser).\\nmemory_map : bool, default False\\n    If a filepath is provided for `filepath_or_buffer`, map the file object\\n    directly onto memory and access the data directly from there. Using this\\n    option can improve performance because there is no longer any I/O overhead.\\nfloat_precision : str, optional\\n    Specifies which converter the C engine should use for floating-point\\n    values. The options are `None` for the ordinary converter,\\n    `high` for the high-precision converter, and `round_trip` for the\\n    round-trip converter.\\n\\nReturns\\n-------\\nDataFrame or TextParser\\n    A comma-separated values (csv) file is returned as two-dimensional\\n    data structure with labeled axes.\\n\\nSee Also\\n--------\\nDataFrame.to_csv : Write DataFrame to a comma-separated values (csv) file.\\nread_csv : Read a comma-separated values (csv) file into DataFrame.\\nread_fwf : Read a table of fixed-width formatted lines into DataFrame.\\n\\nExamples\\n--------\\n>>> pd.read_csv(\\'data.csv\\')  # doctest: +SKIP\\n'"
      ]
     },
     "execution_count": 16,
     "metadata": {},
     "output_type": "execute_result"
    }
   ],
   "source": [
    "import pandas as pd\n",
    "\n",
    "\n",
    "pd.read_csv.__doc__"
   ]
  },
  {
   "cell_type": "code",
   "execution_count": 18,
   "metadata": {},
   "outputs": [],
   "source": [
    "def read_csv(**args):\n",
    "    print(args['a']*args['b'])\n",
    "    print(args['c']+args['d'])\n",
    "    print(args['d']+args['e'])"
   ]
  },
  {
   "cell_type": "code",
   "execution_count": 19,
   "metadata": {},
   "outputs": [
    {
     "name": "stdout",
     "output_type": "stream",
     "text": [
      "125\n",
      "553\n",
      "174\n"
     ]
    }
   ],
   "source": [
    "read_csv(a=5,b=25,c=455,d=98,e=76)"
   ]
  },
  {
   "cell_type": "code",
   "execution_count": 23,
   "metadata": {},
   "outputs": [],
   "source": [
    "def open_file(filename):\n",
    "    s=open(filename)\n",
    "    data=s.read()\n",
    "    s.close()\n",
    "    return data"
   ]
  },
  {
   "cell_type": "code",
   "execution_count": 24,
   "metadata": {},
   "outputs": [
    {
     "name": "stdout",
     "output_type": "stream",
     "text": [
      "Python is an interpreted high-level general-purpose programming language. Python's design philosophy emphasizes code readability with its notable use of significant indentation. Its language constructs as well as its object-oriented approach aim to help programmers write clear, logical code for small and large-scale projects.[30]\n",
      "\n",
      "Python is dynamically-typed and garbage-collected. It supports multiple programming paradigms, including structured (particularly, procedural), object-oriented and functional programming. Python is often described as a \"batteries included\" language due to its comprehensive standard library.[31\n"
     ]
    }
   ],
   "source": [
    "data=open_file('data_file.txt')\n",
    "print(data)"
   ]
  },
  {
   "cell_type": "code",
   "execution_count": 29,
   "metadata": {},
   "outputs": [],
   "source": [
    "def freq_words(data):\n",
    "    data=data.split()\n",
    "    print(len(data))\n",
    "    uniq=list(set(data))\n",
    "    print(len(uniq))\n",
    "    freq={}\n",
    "    for word in uniq:\n",
    "        freq[word]=data.count(word)\n",
    "    return freq      "
   ]
  },
  {
   "cell_type": "code",
   "execution_count": 30,
   "metadata": {},
   "outputs": [
    {
     "name": "stdout",
     "output_type": "stream",
     "text": [
      "76\n",
      "61\n"
     ]
    },
    {
     "data": {
      "text/plain": [
       "{'dynamically-typed': 1,\n",
       " 'programmers': 1,\n",
       " 'as': 3,\n",
       " 'approach': 1,\n",
       " 'procedural),': 1,\n",
       " 'use': 1,\n",
       " 'philosophy': 1,\n",
       " 'programming': 2,\n",
       " 'often': 1,\n",
       " 'Python': 3,\n",
       " 'described': 1,\n",
       " 'comprehensive': 1,\n",
       " 'library.[31': 1,\n",
       " 'and': 3,\n",
       " 'included\"': 1,\n",
       " '(particularly,': 1,\n",
       " 'large-scale': 1,\n",
       " '\"batteries': 1,\n",
       " 'language.': 1,\n",
       " 'small': 1,\n",
       " 'garbage-collected.': 1,\n",
       " 'functional': 1,\n",
       " \"Python's\": 1,\n",
       " 'with': 1,\n",
       " 'constructs': 1,\n",
       " 'clear,': 1,\n",
       " 'structured': 1,\n",
       " 'including': 1,\n",
       " 'multiple': 1,\n",
       " 'programming.': 1,\n",
       " 'to': 2,\n",
       " 'notable': 1,\n",
       " 'interpreted': 1,\n",
       " 'language': 2,\n",
       " 'design': 1,\n",
       " 'aim': 1,\n",
       " 'an': 1,\n",
       " 'readability': 1,\n",
       " 'significant': 1,\n",
       " 'indentation.': 1,\n",
       " 'code': 2,\n",
       " 'well': 1,\n",
       " 'object-oriented': 2,\n",
       " 'projects.[30]': 1,\n",
       " 'It': 1,\n",
       " 'due': 1,\n",
       " 'standard': 1,\n",
       " 'help': 1,\n",
       " 'its': 3,\n",
       " 'emphasizes': 1,\n",
       " 'supports': 1,\n",
       " 'logical': 1,\n",
       " 'of': 1,\n",
       " 'general-purpose': 1,\n",
       " 'a': 1,\n",
       " 'paradigms,': 1,\n",
       " 'Its': 1,\n",
       " 'write': 1,\n",
       " 'high-level': 1,\n",
       " 'for': 1,\n",
       " 'is': 3}"
      ]
     },
     "execution_count": 30,
     "metadata": {},
     "output_type": "execute_result"
    }
   ],
   "source": [
    "freq_words(data)"
   ]
  },
  {
   "cell_type": "markdown",
   "metadata": {},
   "source": [
    "### Variable scope and lifetime of variables\n",
    "\n",
    "\n",
    "- Global Variable--> It can be used anywhere in the program ->lifetime       will be until the execution of the program\n",
    "- Local Variables --> It can be used only inside the functions-->Lifetime wil be until the execution of the function"
   ]
  },
  {
   "cell_type": "markdown",
   "metadata": {},
   "source": [
    "### Call by value\n",
    "\n",
    "If I pass the immutable data type variables to the function\n",
    "\n",
    "### Call by reference\n",
    "\n",
    "if I pass the mutable data type variables to the function"
   ]
  },
  {
   "cell_type": "code",
   "execution_count": 31,
   "metadata": {},
   "outputs": [],
   "source": [
    "def callval(val):\n",
    "    return val"
   ]
  },
  {
   "cell_type": "code",
   "execution_count": 32,
   "metadata": {},
   "outputs": [
    {
     "data": {
      "text/plain": [
       "55"
      ]
     },
     "execution_count": 32,
     "metadata": {},
     "output_type": "execute_result"
    }
   ],
   "source": [
    "a=55\n",
    "callval(a)"
   ]
  },
  {
   "cell_type": "code",
   "execution_count": 33,
   "metadata": {},
   "outputs": [],
   "source": [
    "def callval(val):\n",
    "    print(val,id(val))\n",
    "    val=625\n",
    "    return val,id(val)"
   ]
  },
  {
   "cell_type": "code",
   "execution_count": 35,
   "metadata": {},
   "outputs": [
    {
     "name": "stdout",
     "output_type": "stream",
     "text": [
      "55 140709600243168\n"
     ]
    },
    {
     "data": {
      "text/plain": [
       "(625, 2204881424496)"
      ]
     },
     "execution_count": 35,
     "metadata": {},
     "output_type": "execute_result"
    }
   ],
   "source": [
    "a=55\n",
    "callval(a)"
   ]
  },
  {
   "cell_type": "code",
   "execution_count": 40,
   "metadata": {},
   "outputs": [],
   "source": [
    "def callref(val):\n",
    "    print(val,id(val))\n",
    "    val.append(625)\n",
    "    return val,id(val)"
   ]
  },
  {
   "cell_type": "code",
   "execution_count": 41,
   "metadata": {},
   "outputs": [
    {
     "name": "stdout",
     "output_type": "stream",
     "text": [
      "2204878434048\n",
      "[1, 2, 3, 4, 5] 2204878434048\n",
      "([1, 2, 3, 4, 5, 625], 2204878434048)\n",
      "[1, 2, 3, 4, 5, 625]\n"
     ]
    }
   ],
   "source": [
    "li=[1,2,3,4,5]\n",
    "print(id(li))\n",
    "print(callref(li))\n",
    "\n",
    "print(li)"
   ]
  },
  {
   "cell_type": "markdown",
   "metadata": {},
   "source": [
    "### recursive Fun"
   ]
  },
  {
   "cell_type": "markdown",
   "metadata": {},
   "source": [
    "### Modules and Packages\n",
    "\n",
    "- Pre-defined / builtIn\n",
    "- user defined / 3rd party packages\n",
    "\n",
    "### Modules \n",
    "\n",
    "single py file contains functions/attributes/classes constructed for some purpose\n",
    "\n",
    "### Packages\n",
    "\n",
    "group of py file contains functions/attributes/classes constructed for some purpose\n",
    "\n",
    "### advantage\n",
    "\n",
    "- reducing the complexing of application\n",
    "- user readibility\n",
    "- reusability"
   ]
  },
  {
   "cell_type": "markdown",
   "metadata": {},
   "source": [
    "### Predifined/built-in"
   ]
  },
  {
   "cell_type": "code",
   "execution_count": 42,
   "metadata": {},
   "outputs": [],
   "source": [
    "import math"
   ]
  },
  {
   "cell_type": "code",
   "execution_count": 43,
   "metadata": {},
   "outputs": [
    {
     "name": "stdout",
     "output_type": "stream",
     "text": [
      "This module provides access to the mathematical functions\n",
      "defined by the C standard.\n"
     ]
    }
   ],
   "source": [
    "print(math.__doc__)"
   ]
  },
  {
   "cell_type": "code",
   "execution_count": 44,
   "metadata": {},
   "outputs": [
    {
     "data": {
      "text/plain": [
       "['__doc__',\n",
       " '__loader__',\n",
       " '__name__',\n",
       " '__package__',\n",
       " '__spec__',\n",
       " 'acos',\n",
       " 'acosh',\n",
       " 'asin',\n",
       " 'asinh',\n",
       " 'atan',\n",
       " 'atan2',\n",
       " 'atanh',\n",
       " 'ceil',\n",
       " 'comb',\n",
       " 'copysign',\n",
       " 'cos',\n",
       " 'cosh',\n",
       " 'degrees',\n",
       " 'dist',\n",
       " 'e',\n",
       " 'erf',\n",
       " 'erfc',\n",
       " 'exp',\n",
       " 'expm1',\n",
       " 'fabs',\n",
       " 'factorial',\n",
       " 'floor',\n",
       " 'fmod',\n",
       " 'frexp',\n",
       " 'fsum',\n",
       " 'gamma',\n",
       " 'gcd',\n",
       " 'hypot',\n",
       " 'inf',\n",
       " 'isclose',\n",
       " 'isfinite',\n",
       " 'isinf',\n",
       " 'isnan',\n",
       " 'isqrt',\n",
       " 'ldexp',\n",
       " 'lgamma',\n",
       " 'log',\n",
       " 'log10',\n",
       " 'log1p',\n",
       " 'log2',\n",
       " 'modf',\n",
       " 'nan',\n",
       " 'perm',\n",
       " 'pi',\n",
       " 'pow',\n",
       " 'prod',\n",
       " 'radians',\n",
       " 'remainder',\n",
       " 'sin',\n",
       " 'sinh',\n",
       " 'sqrt',\n",
       " 'tan',\n",
       " 'tanh',\n",
       " 'tau',\n",
       " 'trunc']"
      ]
     },
     "execution_count": 44,
     "metadata": {},
     "output_type": "execute_result"
    }
   ],
   "source": [
    "dir(math)"
   ]
  },
  {
   "cell_type": "code",
   "execution_count": 45,
   "metadata": {},
   "outputs": [
    {
     "name": "stdout",
     "output_type": "stream",
     "text": [
      "3.141592653589793\n"
     ]
    }
   ],
   "source": [
    "print(math.pi)"
   ]
  },
  {
   "cell_type": "code",
   "execution_count": 48,
   "metadata": {},
   "outputs": [
    {
     "name": "stdout",
     "output_type": "stream",
     "text": [
      "0.8939966636005579\n"
     ]
    }
   ],
   "source": [
    "print(math.sin(90))"
   ]
  },
  {
   "cell_type": "code",
   "execution_count": 50,
   "metadata": {},
   "outputs": [
    {
     "name": "stdout",
     "output_type": "stream",
     "text": [
      "120\n"
     ]
    }
   ],
   "source": [
    "print(math.factorial(5))"
   ]
  },
  {
   "cell_type": "code",
   "execution_count": 51,
   "metadata": {},
   "outputs": [
    {
     "name": "stdout",
     "output_type": "stream",
     "text": [
      "1.4142135623730951\n"
     ]
    }
   ],
   "source": [
    "print(math.dist((1,3),(2,4)))"
   ]
  },
  {
   "cell_type": "code",
   "execution_count": null,
   "metadata": {},
   "outputs": [],
   "source": []
  }
 ],
 "metadata": {
  "kernelspec": {
   "display_name": "Python 3",
   "language": "python",
   "name": "python3"
  },
  "language_info": {
   "codemirror_mode": {
    "name": "ipython",
    "version": 3
   },
   "file_extension": ".py",
   "mimetype": "text/x-python",
   "name": "python",
   "nbconvert_exporter": "python",
   "pygments_lexer": "ipython3",
   "version": "3.8.5"
  }
 },
 "nbformat": 4,
 "nbformat_minor": 4
}
