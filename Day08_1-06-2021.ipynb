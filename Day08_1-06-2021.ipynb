{
 "cells": [
  {
   "cell_type": "markdown",
   "metadata": {},
   "source": [
    "### Day Objectives\n",
    "\n",
    "- Strings\n",
    "    - Slicing in Python\n",
    "    - String Methods\n",
    "- Lists\n",
    "    - Accessing the elements from the list\n",
    "    - List Methods\n",
    "- Tuple\n",
    "    - Accessing the elements from the tuple\n",
    "    - Tuple Methods"
   ]
  },
  {
   "cell_type": "code",
   "execution_count": 85,
   "metadata": {},
   "outputs": [],
   "source": [
    "s1=\"\"\"All students who have Basic Java/Python knowledge are eligible.  \n",
    "The training program will completely go online. So, good internet connectivity is a must for all participants.  \n",
    "Each student should maintain a 90%  attendance.  \n",
    "Everyone should complete the assignment which is given during the program\"\"\""
   ]
  },
  {
   "cell_type": "code",
   "execution_count": 86,
   "metadata": {},
   "outputs": [
    {
     "name": "stdout",
     "output_type": "stream",
     "text": [
      "A l h\n"
     ]
    }
   ],
   "source": [
    "print(s1[0],s1[55],s1[-10])"
   ]
  },
  {
   "cell_type": "code",
   "execution_count": 87,
   "metadata": {},
   "outputs": [
    {
     "name": "stdout",
     "output_type": "stream",
     "text": [
      "302\n"
     ]
    }
   ],
   "source": [
    "print(len(s1))"
   ]
  },
  {
   "cell_type": "markdown",
   "metadata": {},
   "source": [
    "### String Slicing\n",
    "\n",
    "#### Syntax\n",
    "\n",
    "string_var[startingIndex:EndingIndex]"
   ]
  },
  {
   "cell_type": "code",
   "execution_count": 88,
   "metadata": {},
   "outputs": [
    {
     "name": "stdout",
     "output_type": "stream",
     "text": [
      "All students who have Basic Java/Python knowledge are eligible.\n"
     ]
    }
   ],
   "source": [
    "print(s1[0: 63])"
   ]
  },
  {
   "cell_type": "code",
   "execution_count": 89,
   "metadata": {},
   "outputs": [
    {
     "name": "stdout",
     "output_type": "stream",
     "text": [
      "ntain a 90%  attendance.  \n",
      "Everyone should complete the assignment which is given during the program\n"
     ]
    }
   ],
   "source": [
    "print(s1[-100: ])"
   ]
  },
  {
   "cell_type": "code",
   "execution_count": 90,
   "metadata": {},
   "outputs": [
    {
     "name": "stdout",
     "output_type": "stream",
     "text": [
      "All students who have Basic Java/Python knowledge are eligible.\n"
     ]
    }
   ],
   "source": [
    "print(s1[:63])"
   ]
  },
  {
   "cell_type": "code",
   "execution_count": 91,
   "metadata": {},
   "outputs": [
    {
     "name": "stdout",
     "output_type": "stream",
     "text": [
      "All students who have Basic Java/Python knowledge are eligible.  \n",
      "The training program will completely go online. So, good internet connectivity is a must for all participants.  \n",
      "Each student should maintain a 90%  attendance.  \n",
      "Everyone should complete the assignment which is given during the program\n"
     ]
    }
   ],
   "source": [
    "print(s1[:])"
   ]
  },
  {
   "cell_type": "markdown",
   "metadata": {},
   "source": [
    "string_var[startingIndex:EndingIndex:stepSize]"
   ]
  },
  {
   "cell_type": "code",
   "execution_count": 92,
   "metadata": {},
   "outputs": [
    {
     "name": "stdout",
     "output_type": "stream",
     "text": [
      "Alsue\n"
     ]
    }
   ],
   "source": [
    "print(s1[0: 10: 2])"
   ]
  },
  {
   "cell_type": "code",
   "execution_count": 93,
   "metadata": {},
   "outputs": [
    {
     "name": "stdout",
     "output_type": "stream",
     "text": [
      "margorp eht gnirud nevig si hcihw tnemngissa eht etelpmoc dluohs enoyrevE\n",
      "  .ecnadnetta  %09 a niatniam dluohs tneduts hcaE\n",
      "  .stnapicitrap lla rof tsum a si ytivitcennoc tenretni doog ,oS .enilno og yletelpmoc lliw margorp gniniart ehT\n",
      "  .elbigile era egdelwonk nohtyP/avaJ cisaB evah ohw stneduts llA\n"
     ]
    }
   ],
   "source": [
    "print(s1[: : -1])"
   ]
  },
  {
   "cell_type": "markdown",
   "metadata": {},
   "source": [
    "### String Methods"
   ]
  },
  {
   "cell_type": "code",
   "execution_count": 94,
   "metadata": {},
   "outputs": [
    {
     "name": "stdout",
     "output_type": "stream",
     "text": [
      "APSSDC DATA SCIENCE TRAINIG PROGRAM\n"
     ]
    }
   ],
   "source": [
    "s='APSSDC Data Science trainig program'\n",
    "\n",
    "\n",
    "print(s.upper())"
   ]
  },
  {
   "cell_type": "code",
   "execution_count": 95,
   "metadata": {},
   "outputs": [
    {
     "name": "stdout",
     "output_type": "stream",
     "text": [
      "apssdc data science trainig program\n"
     ]
    }
   ],
   "source": [
    "print(s.lower())"
   ]
  },
  {
   "cell_type": "code",
   "execution_count": 96,
   "metadata": {},
   "outputs": [
    {
     "name": "stdout",
     "output_type": "stream",
     "text": [
      "apssdc dATA sCIENCE TRAINIG PROGRAM\n"
     ]
    }
   ],
   "source": [
    "print(s.swapcase())"
   ]
  },
  {
   "cell_type": "code",
   "execution_count": 97,
   "metadata": {},
   "outputs": [
    {
     "name": "stdout",
     "output_type": "stream",
     "text": [
      "True False\n"
     ]
    }
   ],
   "source": [
    "su='APSSDC'\n",
    "s2='python'\n",
    "sn='9876344478'\n",
    "\n",
    "\n",
    "print(su.isupper(),s1.isupper())"
   ]
  },
  {
   "cell_type": "code",
   "execution_count": 98,
   "metadata": {},
   "outputs": [
    {
     "name": "stdout",
     "output_type": "stream",
     "text": [
      "False False\n"
     ]
    }
   ],
   "source": [
    "print(s1.islower(),su.islower())"
   ]
  },
  {
   "cell_type": "code",
   "execution_count": 99,
   "metadata": {},
   "outputs": [
    {
     "name": "stdout",
     "output_type": "stream",
     "text": [
      "True\n"
     ]
    }
   ],
   "source": [
    "print(sn.isdigit())"
   ]
  },
  {
   "cell_type": "markdown",
   "metadata": {},
   "source": [
    "### Validating Indian Mobile Number\n",
    "\n",
    "\n",
    "- +91 -->\n",
    "- 10 digits --> len()\n",
    "- starts with 9,8,7,6"
   ]
  },
  {
   "cell_type": "code",
   "execution_count": 100,
   "metadata": {},
   "outputs": [
    {
     "name": "stdout",
     "output_type": "stream",
     "text": [
      "9876543210 is valid indian mobile number\n"
     ]
    }
   ],
   "source": [
    "n1='+919876543210'\n",
    "n1='9876543210'\n",
    "n3='+915678945678'\n",
    "n4='+5612345678'\n",
    "\n",
    "\n",
    "if n1[0]=='+':\n",
    "    if n1[1:3] == '91' and len(n1[3: ]) == 10 and n1[3] in '9876' and n1[1: ].isdigit():\n",
    "        print(n1,'is valid indian mobile number')\n",
    "    else:\n",
    "        print(n1,'is not valid indian mobile number')\n",
    "elif len(n1) == 10 and n1[0] in '9876' and n1.isdigit():\n",
    "    print(n1,'is valid indian mobile number')\n",
    "else:\n",
    "    print(n1,'is not valid indian mobile number')"
   ]
  },
  {
   "cell_type": "code",
   "execution_count": 101,
   "metadata": {},
   "outputs": [
    {
     "name": "stdout",
     "output_type": "stream",
     "text": [
      "True\n"
     ]
    }
   ],
   "source": [
    "rollNo = '19KQ1A0237'\n",
    "\n",
    "print(rollNo.startswith('19'))"
   ]
  },
  {
   "cell_type": "code",
   "execution_count": 102,
   "metadata": {},
   "outputs": [],
   "source": [
    "email = 's160152@rguktsklm.ac.in'\n",
    "email2 = 'bhavanichandu152@gmail.com'"
   ]
  },
  {
   "cell_type": "code",
   "execution_count": 103,
   "metadata": {},
   "outputs": [
    {
     "name": "stdout",
     "output_type": "stream",
     "text": [
      "True\n"
     ]
    }
   ],
   "source": [
    "print(email.startswith('s'))"
   ]
  },
  {
   "cell_type": "code",
   "execution_count": 104,
   "metadata": {},
   "outputs": [
    {
     "name": "stdout",
     "output_type": "stream",
     "text": [
      "7\n"
     ]
    }
   ],
   "source": [
    "print(email.index('@'))"
   ]
  },
  {
   "cell_type": "code",
   "execution_count": 105,
   "metadata": {},
   "outputs": [
    {
     "name": "stdout",
     "output_type": "stream",
     "text": [
      "s160152\n"
     ]
    }
   ],
   "source": [
    "print(email[0: 7])"
   ]
  },
  {
   "cell_type": "code",
   "execution_count": 106,
   "metadata": {},
   "outputs": [
    {
     "name": "stdout",
     "output_type": "stream",
     "text": [
      "s160152\n"
     ]
    }
   ],
   "source": [
    "print(email[0 : email.index('@')])"
   ]
  },
  {
   "cell_type": "code",
   "execution_count": 107,
   "metadata": {},
   "outputs": [
    {
     "data": {
      "text/plain": [
       "'rguktsklm'"
      ]
     },
     "execution_count": 107,
     "metadata": {},
     "output_type": "execute_result"
    }
   ],
   "source": [
    "email[email.index('@') + 1: email.index('.')]\n"
   ]
  },
  {
   "cell_type": "code",
   "execution_count": 108,
   "metadata": {},
   "outputs": [
    {
     "data": {
      "text/plain": [
       "'gmail'"
      ]
     },
     "execution_count": 108,
     "metadata": {},
     "output_type": "execute_result"
    }
   ],
   "source": [
    "email2[email2.index('@') + 1: email2.index('.')]"
   ]
  },
  {
   "cell_type": "code",
   "execution_count": 109,
   "metadata": {},
   "outputs": [
    {
     "name": "stdout",
     "output_type": "stream",
     "text": [
      "4\n"
     ]
    }
   ],
   "source": [
    "print(email2.count('a'))"
   ]
  },
  {
   "cell_type": "code",
   "execution_count": 110,
   "metadata": {},
   "outputs": [
    {
     "name": "stdout",
     "output_type": "stream",
     "text": [
      "APSSDC python  APSSDC python APSSDC python\n"
     ]
    }
   ],
   "source": [
    "s = ' APSSDC python'\n",
    "\n",
    "\n",
    "print(s.lstrip(), s.rstrip(), s.strip() )"
   ]
  },
  {
   "cell_type": "code",
   "execution_count": 111,
   "metadata": {},
   "outputs": [
    {
     "name": "stdout",
     "output_type": "stream",
     "text": [
      "APSSDC python))))))) ((((APSSDC python APSSDC python\n"
     ]
    }
   ],
   "source": [
    "s = '((((APSSDC python)))))))'\n",
    "\n",
    "\n",
    "print(s.lstrip('('), s.rstrip(')'), s.strip('()') )"
   ]
  },
  {
   "cell_type": "code",
   "execution_count": 112,
   "metadata": {},
   "outputs": [
    {
     "name": "stdout",
     "output_type": "stream",
     "text": [
      " cleaned data\n"
     ]
    }
   ],
   "source": [
    "s = '(((([[[[{{{{ cleaned data}}}}]]]]))))'\n",
    "print(s.strip('([{}])'))"
   ]
  },
  {
   "cell_type": "code",
   "execution_count": 113,
   "metadata": {},
   "outputs": [
    {
     "name": "stdout",
     "output_type": "stream",
     "text": [
      "All students who have Basic Java/Python knowledge are eligible.  \n",
      "The training program will completely go online. So, good internet connectivity is a must for all participants.  \n",
      "Each student should maintain a 90%  attendance.  \n",
      "Everyone should complete the assignment which is given during the program\n"
     ]
    }
   ],
   "source": [
    "print(s1)"
   ]
  },
  {
   "cell_type": "code",
   "execution_count": 115,
   "metadata": {},
   "outputs": [
    {
     "name": "stdout",
     "output_type": "stream",
     "text": [
      "['All', 'students', 'who', 'have', 'Basic', 'Java/Python', 'knowledge', 'are', 'eligible.', '', '\\nThe', 'training', 'program', 'will', 'completely', 'go', 'online.', 'So,', 'good', 'internet', 'connectivity', 'is', 'a', 'must', 'for', 'all', 'participants.', '', '\\nEach', 'student', 'should', 'maintain', 'a', '90%', '', 'attendance.', '', '\\nEveryone', 'should', 'complete', 'the', 'assignment', 'which', 'is', 'given', 'during', 'the', 'program']\n"
     ]
    }
   ],
   "source": [
    "print(s1.split(' '))"
   ]
  },
  {
   "cell_type": "code",
   "execution_count": 116,
   "metadata": {},
   "outputs": [
    {
     "name": "stdout",
     "output_type": "stream",
     "text": [
      "['All students who have Basic Java/Python knowledge are eligible.  ', 'The training program will completely go online. So, good internet connectivity is a must for all participants.  ', 'Each student should maintain a 90%  attendance.  ', 'Everyone should complete the assignment which is given during the program']\n"
     ]
    }
   ],
   "source": [
    "print(s1.split('\\n'))"
   ]
  },
  {
   "cell_type": "code",
   "execution_count": 117,
   "metadata": {},
   "outputs": [
    {
     "name": "stdout",
     "output_type": "stream",
     "text": [
      "A\tl\tl\ts\tt\tu\td\te\tn\tt\ts\tw\th\to\th\ta\tv\te\tB\ta\ts\ti\tc\tJ\ta\tv\ta\tP\ty\tt\th\to\tn\tk\tn\to\tw\tl\te\td\tg\te\ta\tr\te\te\tl\ti\tg\ti\tb\tl\te\tT\th\te\tt\tr\ta\ti\tn\ti\tn\tg\tp\tr\to\tg\tr\ta\tm\tw\ti\tl\tl\tc\to\tm\tp\tl\te\tt\te\tl\ty\tg\to\to\tn\tl\ti\tn\te\tS\to\tg\to\to\td\ti\tn\tt\te\tr\tn\te\tt\tc\to\tn\tn\te\tc\tt\ti\tv\ti\tt\ty\ti\ts\ta\tm\tu\ts\tt\tf\to\tr\ta\tl\tl\tp\ta\tr\tt\ti\tc\ti\tp\ta\tn\tt\ts\tE\ta\tc\th\ts\tt\tu\td\te\tn\tt\ts\th\to\tu\tl\td\tm\ta\ti\tn\tt\ta\ti\tn\ta\ta\tt\tt\te\tn\td\ta\tn\tc\te\tE\tv\te\tr\ty\to\tn\te\ts\th\to\tu\tl\td\tc\to\tm\tp\tl\te\tt\te\tt\th\te\ta\ts\ts\ti\tg\tn\tm\te\tn\tt\tw\th\ti\tc\th\ti\ts\tg\ti\tv\te\tn\td\tu\tr\ti\tn\tg\tt\th\te\tp\tr\to\tg\tr\ta\tm\t"
     ]
    }
   ],
   "source": [
    "for char in s1:\n",
    "    if char.isalpha():\n",
    "        print(char,end='\\t')"
   ]
  },
  {
   "cell_type": "code",
   "execution_count": 118,
   "metadata": {},
   "outputs": [
    {
     "name": "stdout",
     "output_type": "stream",
     "text": [
      "9\t0\t"
     ]
    }
   ],
   "source": [
    "for char in s1:\n",
    "    if char.isdigit():\n",
    "        print(char,end='\\t')"
   ]
  },
  {
   "cell_type": "code",
   "execution_count": 119,
   "metadata": {},
   "outputs": [
    {
     "name": "stdout",
     "output_type": "stream",
     "text": [
      "Alpha 243 Digits 2 Special Charac 57\n"
     ]
    }
   ],
   "source": [
    "ac=0\n",
    "nc=0\n",
    "sc=0\n",
    "\n",
    "for char in s1:\n",
    "    if char.isalpha():\n",
    "        ac += 1\n",
    "    elif char.isdigit():\n",
    "        nc += 1\n",
    "    else:\n",
    "        sc += 1\n",
    "print('Alpha',ac,'Digits',nc,\"Special Charac\",sc)"
   ]
  },
  {
   "cell_type": "markdown",
   "metadata": {},
   "source": [
    "- sum of the digits in the string\n",
    "- sum of the even digits and odd digits in the string"
   ]
  },
  {
   "cell_type": "markdown",
   "metadata": {},
   "source": [
    "### Lists\n",
    "\n",
    "It is used to store the non-homogenous group of valid datatypes in python\n",
    "\n",
    "#### Properties\n",
    "\n",
    "- it is declared as[]\n",
    "- List mutable dataType\n",
    "- List is an ordered data\n",
    "- It is iterable\n"
   ]
  },
  {
   "cell_type": "code",
   "execution_count": null,
   "metadata": {},
   "outputs": [],
   "source": []
  },
  {
   "cell_type": "code",
   "execution_count": null,
   "metadata": {},
   "outputs": [],
   "source": []
  }
 ],
 "metadata": {
  "kernelspec": {
   "display_name": "Python 3",
   "language": "python",
   "name": "python3"
  },
  "language_info": {
   "codemirror_mode": {
    "name": "ipython",
    "version": 3
   },
   "file_extension": ".py",
   "mimetype": "text/x-python",
   "name": "python",
   "nbconvert_exporter": "python",
   "pygments_lexer": "ipython3",
   "version": "3.8.5"
  }
 },
 "nbformat": 4,
 "nbformat_minor": 4
}
