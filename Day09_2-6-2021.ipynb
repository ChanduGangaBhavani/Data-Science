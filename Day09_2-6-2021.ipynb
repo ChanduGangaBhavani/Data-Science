{
 "cells": [
  {
   "cell_type": "markdown",
   "metadata": {},
   "source": [
    "\n",
    "### Todays Objectives\n",
    "\n",
    "- Accessing Elements of List\n",
    "    - Indexing\n",
    "    - Slicing\n",
    "- List Methods\n",
    "- Tuple\n",
    "    - Accessing Elements of Tuple\n",
    "        - Indexing\n",
    "        - Slicing\n",
    "    - Tuple Methods"
   ]
  },
  {
   "cell_type": "code",
   "execution_count": 1,
   "metadata": {},
   "outputs": [
    {
     "name": "stdout",
     "output_type": "stream",
     "text": [
      "6 85 1 105\n"
     ]
    }
   ],
   "source": [
    "li = [1, 2, 5, 4, 8, 85]\n",
    "\n",
    "print(len(li), max(li), min(li), sum(li))"
   ]
  },
  {
   "cell_type": "code",
   "execution_count": 2,
   "metadata": {},
   "outputs": [
    {
     "name": "stdout",
     "output_type": "stream",
     "text": [
      "7\n"
     ]
    }
   ],
   "source": [
    "li2 = [1, 2, 5, 4, 8, 85, 'Python']\n",
    "\n",
    "\n",
    "print(len(li2))"
   ]
  },
  {
   "cell_type": "markdown",
   "metadata": {},
   "source": [
    "### Accessing Elements from the list\n",
    "\n",
    "\n",
    "- Indexing\n",
    "    - +ve\n",
    "    - -ve\n",
    "- Slicing \n",
    "    - +ve\n",
    "    - -ve"
   ]
  },
  {
   "cell_type": "code",
   "execution_count": 3,
   "metadata": {},
   "outputs": [
    {
     "name": "stdout",
     "output_type": "stream",
     "text": [
      "1\n",
      "85\n",
      "8\n",
      "1\n",
      "4\n"
     ]
    }
   ],
   "source": [
    "print(li[0])\n",
    "print(li[5])\n",
    "print(li[-2])\n",
    "print(li[-6])\n",
    "print(li[3])"
   ]
  },
  {
   "cell_type": "code",
   "execution_count": 4,
   "metadata": {},
   "outputs": [
    {
     "name": "stdout",
     "output_type": "stream",
     "text": [
      "[1] [1, 2] [1, 2] [1, 2, 5, 4, 8, 85]\n"
     ]
    }
   ],
   "source": [
    "print(li[0:1], li[0: 2], li[: 2], li[0:])\n"
   ]
  },
  {
   "cell_type": "code",
   "execution_count": 8,
   "metadata": {},
   "outputs": [
    {
     "name": "stdout",
     "output_type": "stream",
     "text": [
      "[1, 2, 5, 4, 8, 85]\n",
      "[85, 8, 4, 5, 2, 1]\n"
     ]
    }
   ],
   "source": [
    "print(li)\n",
    "print(li[: :-1])"
   ]
  },
  {
   "cell_type": "code",
   "execution_count": 9,
   "metadata": {},
   "outputs": [
    {
     "name": "stdout",
     "output_type": "stream",
     "text": [
      "Python 8\n"
     ]
    }
   ],
   "source": [
    "print(li2[-1], li[-2])"
   ]
  },
  {
   "cell_type": "code",
   "execution_count": 10,
   "metadata": {},
   "outputs": [
    {
     "data": {
      "text/plain": [
       "'PYTHON'"
      ]
     },
     "execution_count": 10,
     "metadata": {},
     "output_type": "execute_result"
    }
   ],
   "source": [
    "li2[-1].upper()"
   ]
  },
  {
   "cell_type": "code",
   "execution_count": 11,
   "metadata": {},
   "outputs": [
    {
     "data": {
      "text/plain": [
       "'Python'"
      ]
     },
     "execution_count": 11,
     "metadata": {},
     "output_type": "execute_result"
    }
   ],
   "source": [
    "li2[-1].strip()"
   ]
  },
  {
   "cell_type": "code",
   "execution_count": 12,
   "metadata": {},
   "outputs": [
    {
     "name": "stdout",
     "output_type": "stream",
     "text": [
      "[[1, 2, 3], [4, 5, 6], [6, 7, 8]]\n"
     ]
    }
   ],
   "source": [
    "matrix = [[1,2,3],[4,5,6], [6,7,8]]\n",
    "\n",
    "print(matrix)"
   ]
  },
  {
   "cell_type": "code",
   "execution_count": 13,
   "metadata": {},
   "outputs": [
    {
     "name": "stdout",
     "output_type": "stream",
     "text": [
      "[1, 2, 3]\n"
     ]
    }
   ],
   "source": [
    "print(matrix[0])"
   ]
  },
  {
   "cell_type": "code",
   "execution_count": 14,
   "metadata": {},
   "outputs": [
    {
     "name": "stdout",
     "output_type": "stream",
     "text": [
      "1\n"
     ]
    }
   ],
   "source": [
    "print(matrix[0][0])"
   ]
  },
  {
   "cell_type": "code",
   "execution_count": 15,
   "metadata": {},
   "outputs": [
    {
     "name": "stdout",
     "output_type": "stream",
     "text": [
      "[2, 3] [2]\n"
     ]
    }
   ],
   "source": [
    "print(matrix[0][1:], matrix[0][1:2])"
   ]
  },
  {
   "cell_type": "code",
   "execution_count": 16,
   "metadata": {},
   "outputs": [
    {
     "name": "stdout",
     "output_type": "stream",
     "text": [
      "[6, 5, 4]\n"
     ]
    }
   ],
   "source": [
    "print(matrix[1][::-1])"
   ]
  },
  {
   "cell_type": "code",
   "execution_count": 17,
   "metadata": {},
   "outputs": [
    {
     "name": "stdout",
     "output_type": "stream",
     "text": [
      "3 8\n"
     ]
    }
   ],
   "source": [
    "print(len(matrix[2]), max(matrix[2]))"
   ]
  },
  {
   "cell_type": "code",
   "execution_count": 19,
   "metadata": {},
   "outputs": [
    {
     "name": "stdout",
     "output_type": "stream",
     "text": [
      "[1, 2, 3]\n",
      "[4, 5, 6]\n",
      "[6, 7, 8]\n"
     ]
    }
   ],
   "source": [
    "for ele in matrix:\n",
    "    print(ele)"
   ]
  },
  {
   "cell_type": "code",
   "execution_count": 20,
   "metadata": {},
   "outputs": [
    {
     "name": "stdout",
     "output_type": "stream",
     "text": [
      "1\n",
      "2\n",
      "5\n",
      "4\n",
      "8\n",
      "85\n"
     ]
    }
   ],
   "source": [
    "for ele in li:\n",
    "    print(ele)"
   ]
  },
  {
   "cell_type": "code",
   "execution_count": 21,
   "metadata": {},
   "outputs": [
    {
     "name": "stdout",
     "output_type": "stream",
     "text": [
      "2\n",
      "5\n",
      "7\n"
     ]
    }
   ],
   "source": [
    "for i in range(3):\n",
    "    for j in range(3):\n",
    "        if j==1:\n",
    "            print(matrix[i][j])"
   ]
  },
  {
   "cell_type": "code",
   "execution_count": 22,
   "metadata": {},
   "outputs": [
    {
     "name": "stdout",
     "output_type": "stream",
     "text": [
      "2\n",
      "5\n",
      "7\n"
     ]
    }
   ],
   "source": [
    "for ele in matrix:\n",
    "    print(ele[1])"
   ]
  },
  {
   "cell_type": "code",
   "execution_count": 23,
   "metadata": {},
   "outputs": [
    {
     "name": "stdout",
     "output_type": "stream",
     "text": [
      "[2, 3]\n",
      "[5, 6]\n",
      "[7, 8]\n",
      "2 3\n",
      "5 6\n",
      "7 8\n"
     ]
    }
   ],
   "source": [
    "for ele in matrix:\n",
    "    print(ele[1:])\n",
    "    \n",
    "for ele in matrix:\n",
    "    print(ele[1], ele[2])"
   ]
  },
  {
   "cell_type": "code",
   "execution_count": 24,
   "metadata": {},
   "outputs": [],
   "source": [
    "empty = []"
   ]
  },
  {
   "cell_type": "code",
   "execution_count": 25,
   "metadata": {},
   "outputs": [
    {
     "name": "stdout",
     "output_type": "stream",
     "text": [
      "[5, 55, [1, 2, 3]]\n"
     ]
    }
   ],
   "source": [
    "empty.append(5)\n",
    "empty.append(55)\n",
    "empty.append([1,2,3])\n",
    "\n",
    "print(empty)"
   ]
  },
  {
   "cell_type": "code",
   "execution_count": 26,
   "metadata": {},
   "outputs": [
    {
     "name": "stdout",
     "output_type": "stream",
     "text": [
      "Enter elements to add to list4\n",
      "Enter elements to add to list6\n",
      "Enter elements to add to list7\n",
      "Enter elements to add to listbhavani\n",
      "Enter elements to add to list7\n"
     ]
    }
   ],
   "source": [
    "for i in range(5):\n",
    "    empty.append(input(\"Enter elements to add to list\"))"
   ]
  },
  {
   "cell_type": "code",
   "execution_count": 27,
   "metadata": {},
   "outputs": [
    {
     "name": "stdout",
     "output_type": "stream",
     "text": [
      "[5, 55, [1, 2, 3], '4', '6', '7', 'bhavani', '7']\n"
     ]
    }
   ],
   "source": [
    "print(empty)"
   ]
  },
  {
   "cell_type": "code",
   "execution_count": 29,
   "metadata": {},
   "outputs": [],
   "source": [
    "li = [1,2,3,4]\n",
    "\n",
    "empty = [5, 55, [1, 2, 3], '53', 'gdf', 'dgd', '343', '5']"
   ]
  },
  {
   "cell_type": "code",
   "execution_count": 30,
   "metadata": {},
   "outputs": [
    {
     "name": "stdout",
     "output_type": "stream",
     "text": [
      "[5, 55, [1, 2, 3], '53', 'gdf', 'dgd', '343', '5', 1, 2, 3, 4]\n"
     ]
    }
   ],
   "source": [
    "empty.extend(li)\n",
    "\n",
    "print(empty)"
   ]
  },
  {
   "cell_type": "code",
   "execution_count": 31,
   "metadata": {},
   "outputs": [
    {
     "name": "stdout",
     "output_type": "stream",
     "text": [
      "[5, 55, [1, 2, 3], '53', 'gdf', 'dgd', '343', '5', 1, 2, 3, 4, 1, 2, 3, 4]\n"
     ]
    }
   ],
   "source": [
    "print(empty + li)"
   ]
  },
  {
   "cell_type": "code",
   "execution_count": 32,
   "metadata": {},
   "outputs": [
    {
     "name": "stdout",
     "output_type": "stream",
     "text": [
      "[5, 55, [1, 2, 3], '53', 'gdf', 'dgd', '343', '5', 1, 2, 3, 4, 1, 2, 3, 4]\n"
     ]
    }
   ],
   "source": [
    "emp2 = empty + li\n",
    "\n",
    "print(emp2)"
   ]
  },
  {
   "cell_type": "code",
   "execution_count": 33,
   "metadata": {},
   "outputs": [
    {
     "name": "stdout",
     "output_type": "stream",
     "text": [
      "[5, 55, [1, 2, 3, 4], '53', 'gdf', 'dgd', '343', '5', 1, 2, 3, 4, 1, 2, 3, 4]\n"
     ]
    }
   ],
   "source": [
    "emp2[2] = li\n",
    "\n",
    "print(emp2)"
   ]
  },
  {
   "cell_type": "code",
   "execution_count": 34,
   "metadata": {},
   "outputs": [
    {
     "name": "stdout",
     "output_type": "stream",
     "text": [
      "[5, 10, 55, [1, 2, 3, 4], '53', 'gdf', 'dgd', '343', '5', 1, 2, 3, 4, 1, 2, 3, 4]\n"
     ]
    }
   ],
   "source": [
    "emp2.insert(1, 10)\n",
    "\n",
    "print(emp2)"
   ]
  },
  {
   "cell_type": "code",
   "execution_count": 35,
   "metadata": {},
   "outputs": [
    {
     "name": "stdout",
     "output_type": "stream",
     "text": [
      "[5, 10, 55, [1, 2, 3, 4], '53', 'gdf', 'dgd', '343', '5', 1, 2, 3, 4, 1, 2, 3]\n"
     ]
    }
   ],
   "source": [
    "emp2.pop()\n",
    "\n",
    "print(emp2) # LIFO -> Last In First Out"
   ]
  },
  {
   "cell_type": "code",
   "execution_count": 36,
   "metadata": {},
   "outputs": [
    {
     "name": "stdout",
     "output_type": "stream",
     "text": [
      "[5, 10, [1, 2, 3, 4], '53', 'gdf', 'dgd', '343', '5', 1, 2, 3, 4, 1, 2, 3]\n"
     ]
    }
   ],
   "source": [
    "emp2.pop(2)\n",
    "\n",
    "print(emp2)"
   ]
  },
  {
   "cell_type": "code",
   "execution_count": 37,
   "metadata": {},
   "outputs": [
    {
     "name": "stdout",
     "output_type": "stream",
     "text": [
      "[5, 10, [1, 2, 3, 4], '53', 'dgd', '343', '5', 1, 2, 3, 4, 1, 2, 3]\n"
     ]
    }
   ],
   "source": [
    "emp2.remove('gdf')\n",
    "print(emp2)"
   ]
  },
  {
   "cell_type": "code",
   "execution_count": 38,
   "metadata": {},
   "outputs": [
    {
     "name": "stdout",
     "output_type": "stream",
     "text": [
      "2886109094016 2886109271488\n",
      "[5, 10, [1, 2, 3, 4], '53', 'dgd', '343', '5', 1, 2, 3, 4, 1, 2, 3] [5, 10, [1, 2, 3, 4], '53', 'dgd', '343', '5', 1, 2, 3, 4, 1, 2, 3]\n"
     ]
    }
   ],
   "source": [
    "emp3 = emp2.copy()\n",
    "\n",
    "\n",
    "print(id(emp2), id(emp3))\n",
    "print(emp2, emp3)"
   ]
  },
  {
   "cell_type": "code",
   "execution_count": 39,
   "metadata": {},
   "outputs": [
    {
     "name": "stdout",
     "output_type": "stream",
     "text": [
      "4\n"
     ]
    }
   ],
   "source": [
    "print(emp2.index('dgd'))"
   ]
  },
  {
   "cell_type": "code",
   "execution_count": 40,
   "metadata": {},
   "outputs": [
    {
     "name": "stdout",
     "output_type": "stream",
     "text": [
      "[3, 2, 1, 4, 3, 2, 1, '5', '343', 'dgd', '53', [1, 2, 3, 4], 10, 5]\n"
     ]
    }
   ],
   "source": [
    "emp2.reverse()\n",
    "\n",
    "print(emp2)"
   ]
  },
  {
   "cell_type": "code",
   "execution_count": 41,
   "metadata": {},
   "outputs": [
    {
     "name": "stdout",
     "output_type": "stream",
     "text": [
      "[3, 4, 5, 6, 9, 22, 66, 77, 345]\n"
     ]
    }
   ],
   "source": [
    "li = [5,3,6,22,77,4,66,9,345]\n",
    "li.sort()\n",
    "\n",
    "print(li)"
   ]
  },
  {
   "cell_type": "code",
   "execution_count": 42,
   "metadata": {},
   "outputs": [
    {
     "name": "stdout",
     "output_type": "stream",
     "text": [
      "[345, 77, 66, 22, 9, 6, 5, 4, 3]\n"
     ]
    }
   ],
   "source": [
    "li = [5,3,6,22,77,4,66,9,345]\n",
    "li.sort(reverse=True)\n",
    "\n",
    "print(li)"
   ]
  },
  {
   "cell_type": "code",
   "execution_count": 43,
   "metadata": {},
   "outputs": [
    {
     "name": "stdout",
     "output_type": "stream",
     "text": [
      "[[6, 75, 8], [35, 5, 6], [40, 20, 3]]\n"
     ]
    }
   ],
   "source": [
    "matrix = [[40,20,3],[35,5,6],[6,75,8]]\n",
    "\n",
    "\n",
    "matrix.sort()\n",
    "\n",
    "\n",
    "print(matrix)"
   ]
  },
  {
   "cell_type": "code",
   "execution_count": 44,
   "metadata": {},
   "outputs": [
    {
     "name": "stdout",
     "output_type": "stream",
     "text": [
      "[[35, 5, 6], [40, 20, 3], [6, 75, 8]]\n"
     ]
    }
   ],
   "source": [
    "matrix = [[40,20,3],[35,5,6], [6,75,8]]\n",
    "\n",
    "\n",
    "matrix.sort(key = lambda x :x[1])\n",
    "\n",
    "\n",
    "print(matrix)"
   ]
  },
  {
   "cell_type": "code",
   "execution_count": 45,
   "metadata": {},
   "outputs": [
    {
     "name": "stdout",
     "output_type": "stream",
     "text": [
      "[[6, 75, 8], [35, 5, 6], [40, 20, 3]]\n",
      "[[35, 5, 6], [40, 20, 3], [6, 75, 8]]\n"
     ]
    }
   ],
   "source": [
    "print(sorted(matrix))\n",
    "\n",
    "\n",
    "print(matrix)"
   ]
  },
  {
   "cell_type": "code",
   "execution_count": 46,
   "metadata": {},
   "outputs": [
    {
     "name": "stdout",
     "output_type": "stream",
     "text": [
      "[[6, 75, 8], [40, 20, 3], [35, 5, 6]]\n"
     ]
    }
   ],
   "source": [
    "print(list(reversed(matrix)))"
   ]
  },
  {
   "cell_type": "code",
   "execution_count": 47,
   "metadata": {},
   "outputs": [
    {
     "name": "stdout",
     "output_type": "stream",
     "text": [
      "[]\n"
     ]
    }
   ],
   "source": [
    "emp3.clear()\n",
    "\n",
    "\n",
    "print(emp3)"
   ]
  },
  {
   "cell_type": "markdown",
   "metadata": {},
   "source": [
    "### Tuples\n",
    "\n",
    "\n",
    "Storing the Group of non-homogenous group of data\n",
    "\n",
    "- Is is created using `()`\n",
    "- It is immutable \n",
    "- it is iterable\n",
    "- it is ordered"
   ]
  },
  {
   "cell_type": "code",
   "execution_count": 48,
   "metadata": {},
   "outputs": [],
   "source": [
    "t1 = ()\n",
    "t2 = tuple()"
   ]
  },
  {
   "cell_type": "code",
   "execution_count": 49,
   "metadata": {},
   "outputs": [],
   "source": [
    "t1 = (1,2,3,4, 'Python', (1,2,3), [1,2,3])"
   ]
  },
  {
   "cell_type": "code",
   "execution_count": 50,
   "metadata": {},
   "outputs": [
    {
     "name": "stdout",
     "output_type": "stream",
     "text": [
      "1 [1, 2, 3] 3 (1, 2, 3)\n"
     ]
    }
   ],
   "source": [
    "print(t1[0], t1[-1], t1[2], t1[-2])"
   ]
  },
  {
   "cell_type": "code",
   "execution_count": 51,
   "metadata": {},
   "outputs": [
    {
     "name": "stdout",
     "output_type": "stream",
     "text": [
      "(1, 2)\n"
     ]
    }
   ],
   "source": [
    "print(t1[0:2])"
   ]
  },
  {
   "cell_type": "code",
   "execution_count": 52,
   "metadata": {},
   "outputs": [
    {
     "name": "stdout",
     "output_type": "stream",
     "text": [
      "1\n",
      "2\n",
      "3\n",
      "4\n",
      "Python\n",
      "(1, 2, 3)\n",
      "[1, 2, 3]\n"
     ]
    }
   ],
   "source": [
    "for ele in t1:\n",
    "    print(ele)"
   ]
  },
  {
   "cell_type": "code",
   "execution_count": 53,
   "metadata": {},
   "outputs": [
    {
     "name": "stdout",
     "output_type": "stream",
     "text": [
      "7\n"
     ]
    }
   ],
   "source": [
    "print(len(t1))"
   ]
  },
  {
   "cell_type": "markdown",
   "metadata": {},
   "source": [
    "### Tuple Methods"
   ]
  },
  {
   "cell_type": "code",
   "execution_count": 54,
   "metadata": {},
   "outputs": [
    {
     "name": "stdout",
     "output_type": "stream",
     "text": [
      "1\n"
     ]
    }
   ],
   "source": [
    "print(t1.count(1))"
   ]
  },
  {
   "cell_type": "code",
   "execution_count": 56,
   "metadata": {},
   "outputs": [
    {
     "name": "stdout",
     "output_type": "stream",
     "text": [
      "4\n"
     ]
    }
   ],
   "source": [
    "print(t1.index('Python'))"
   ]
  },
  {
   "cell_type": "code",
   "execution_count": 57,
   "metadata": {},
   "outputs": [
    {
     "name": "stdout",
     "output_type": "stream",
     "text": [
      "yo\n",
      "yyyyy\n"
     ]
    }
   ],
   "source": [
    "print('y' + 'o')\n",
    "\n",
    "print('y' * 5)"
   ]
  },
  {
   "cell_type": "markdown",
   "metadata": {},
   "source": [
    "### Tasks\n",
    "\n",
    "s = 'Python is an interpreted high-level general-purpose programming language. Python's design philosophy emphasizes code readability with its notable use of significant indentation. Wikipedia\n",
    "Developer: Python Software Foundation\n",
    "Stable release: 3.9.5 / 3 May 2021; 19 days ago\n",
    "Preview release: 3.10.0b1 / 3 May 2021; 19 days ago\n",
    "Typing discipline: Duck, dynamic, strong typing; gradual (since 3.5, but ignored in CPython)\n",
    "First appeared: February 1991; 30 years ago\n",
    "Paradigm: Multi-paradigm: object-oriented, procedural (imperative), functional, structured, reflective'"
   ]
  },
  {
   "cell_type": "code",
   "execution_count": 59,
   "metadata": {},
   "outputs": [],
   "source": [
    "s = '''Python is an interpreted high-level general-purpose programming language. Python's design philosophy emphasizes code readability with its notable use of significant indentation. Wikipedia\n",
    "Developer: Python Software Foundation\n",
    "Stable release: 3.9.5 / 3 May 2021; 19 days ago\n",
    "Preview release: 3.10.0b1 / 3 May 2021; 19 days ago\n",
    "Typing discipline: Duck, dynamic, strong typing; gradual (since 3.5, but ignored in CPython)\n",
    "First appeared: February 1991; 30 years ago\n",
    "Paradigm: Multi-paradigm: object-oriented, procedural (imperative), functional, structured, reflective'''"
   ]
  },
  {
   "cell_type": "code",
   "execution_count": 60,
   "metadata": {},
   "outputs": [
    {
     "name": "stdout",
     "output_type": "stream",
     "text": [
      "['Python', 'is', 'an', 'interpreted', 'high-level', 'general-purpose', 'programming', 'language.', \"Python's\", 'design', 'philosophy', 'emphasizes', 'code', 'readability', 'with', 'its', 'notable', 'use', 'of', 'significant', 'indentation.', 'Wikipedia', 'Developer:', 'Python', 'Software', 'Foundation', 'Stable', 'release:', '3.9.5', '/', '3', 'May', '2021;', '19', 'days', 'ago', 'Preview', 'release:', '3.10.0b1', '/', '3', 'May', '2021;', '19', 'days', 'ago', 'Typing', 'discipline:', 'Duck,', 'dynamic,', 'strong', 'typing;', 'gradual', '(since', '3.5,', 'but', 'ignored', 'in', 'CPython)', 'First', 'appeared:', 'February', '1991;', '30', 'years', 'ago', 'Paradigm:', 'Multi-paradigm:', 'object-oriented,', 'procedural', '(imperative),', 'functional,', 'structured,', 'reflective']\n"
     ]
    }
   ],
   "source": [
    "print(s.split())"
   ]
  },
  {
   "cell_type": "markdown",
   "metadata": {},
   "source": [
    "### Tasks\n",
    "\n",
    "1. Reverse every element in list and update them in another list\n",
    "- extract lower-case alpha from each element and update in another list\n",
    "- remove special characters from the element and update in another list\n",
    "- get the middle character of every element and update in another list"
   ]
  },
  {
   "cell_type": "code",
   "execution_count": null,
   "metadata": {},
   "outputs": [],
   "source": []
  }
 ],
 "metadata": {
  "kernelspec": {
   "display_name": "Python 3",
   "language": "python",
   "name": "python3"
  },
  "language_info": {
   "codemirror_mode": {
    "name": "ipython",
    "version": 3
   },
   "file_extension": ".py",
   "mimetype": "text/x-python",
   "name": "python",
   "nbconvert_exporter": "python",
   "pygments_lexer": "ipython3",
   "version": "3.8.5"
  }
 },
 "nbformat": 4,
 "nbformat_minor": 4
}
