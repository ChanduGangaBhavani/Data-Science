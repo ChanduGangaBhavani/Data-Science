{
 "cells": [
  {
   "cell_type": "markdown",
   "metadata": {},
   "source": [
    "### Today Objectives\n",
    "\n",
    "\n",
    "- Iterators\n",
    "- Generators\n",
    "- Object Oriented Programming "
   ]
  },
  {
   "cell_type": "markdown",
   "metadata": {},
   "source": [
    "### Iterators\n",
    "\n",
    "\n",
    "list,string,tuple,set,dictionary"
   ]
  },
  {
   "cell_type": "markdown",
   "metadata": {},
   "source": [
    "100 lines of code\n",
    "\n",
    "string with 50 charac\n",
    "\n",
    "50 lines I need 25 characters\n",
    "\n",
    "100 I need 25 char"
   ]
  },
  {
   "cell_type": "code",
   "execution_count": 1,
   "metadata": {},
   "outputs": [],
   "source": [
    "s1=\"\"\"Python is an interpreted high-level general-purpose programming language. Python's design philosophy emphasizes code readability with its notable use of significant indentation. Its language constructs as well as its object-oriented approach aim to help programmers write clear, logical code for small and large-scale projects.[30]\n",
    "\n",
    "Python is dynamically-typed and garbage-collected. It supports multiple programming paradigms, including structured (particularly, procedural), object-oriented and functional programming. Python is often described as a \"batteries included\" language due to its comprehensive standard library.[31]\n",
    "\n",
    "Guido van Rossum began working on Python in the late 1980s, as a \"\"\""
   ]
  },
  {
   "cell_type": "code",
   "execution_count": 2,
   "metadata": {},
   "outputs": [
    {
     "name": "stdout",
     "output_type": "stream",
     "text": [
      "<str_iterator object at 0x000001F7A66A10A0>\n"
     ]
    }
   ],
   "source": [
    "it = iter(s1)\n",
    "\n",
    "print(it)"
   ]
  },
  {
   "cell_type": "code",
   "execution_count": 4,
   "metadata": {},
   "outputs": [
    {
     "data": {
      "text/plain": [
       "'P'"
      ]
     },
     "execution_count": 4,
     "metadata": {},
     "output_type": "execute_result"
    }
   ],
   "source": [
    "next(it)"
   ]
  },
  {
   "cell_type": "code",
   "execution_count": 5,
   "metadata": {},
   "outputs": [
    {
     "name": "stdout",
     "output_type": "stream",
     "text": [
      "y\n"
     ]
    }
   ],
   "source": [
    "print(next(it))"
   ]
  },
  {
   "cell_type": "code",
   "execution_count": 7,
   "metadata": {},
   "outputs": [
    {
     "name": "stdout",
     "output_type": "stream",
     "text": [
      "t\n",
      "h\n",
      "o\n",
      "n\n",
      " \n",
      "i\n",
      "s\n",
      " \n",
      "a\n",
      "n\n"
     ]
    }
   ],
   "source": [
    "for i in range(10):\n",
    "    print(next(it))"
   ]
  },
  {
   "cell_type": "code",
   "execution_count": 8,
   "metadata": {},
   "outputs": [
    {
     "data": {
      "text/plain": [
       "' '"
      ]
     },
     "execution_count": 8,
     "metadata": {},
     "output_type": "execute_result"
    }
   ],
   "source": [
    "next(it)"
   ]
  },
  {
   "cell_type": "code",
   "execution_count": 9,
   "metadata": {},
   "outputs": [
    {
     "data": {
      "text/plain": [
       "'i'"
      ]
     },
     "execution_count": 9,
     "metadata": {},
     "output_type": "execute_result"
    }
   ],
   "source": [
    "next(it)"
   ]
  },
  {
   "cell_type": "code",
   "execution_count": 10,
   "metadata": {},
   "outputs": [],
   "source": [
    "it1=iter('Python')\n",
    "it2='python'"
   ]
  },
  {
   "cell_type": "code",
   "execution_count": 11,
   "metadata": {},
   "outputs": [
    {
     "name": "stdout",
     "output_type": "stream",
     "text": [
      "P\n",
      "y\n",
      "t\n",
      "h\n",
      "o\n",
      "n\n"
     ]
    }
   ],
   "source": [
    "for i in it1:\n",
    "    print(i)"
   ]
  },
  {
   "cell_type": "code",
   "execution_count": 12,
   "metadata": {},
   "outputs": [
    {
     "name": "stdout",
     "output_type": "stream",
     "text": [
      "p\n",
      "y\n",
      "t\n",
      "h\n",
      "o\n",
      "n\n"
     ]
    }
   ],
   "source": [
    "for j in it2:\n",
    "    print(j)"
   ]
  },
  {
   "cell_type": "code",
   "execution_count": 14,
   "metadata": {},
   "outputs": [],
   "source": [
    "li=[1,2,3,4,5,6]\n",
    "li2=iter([1,2,3,4,5,6])"
   ]
  },
  {
   "cell_type": "code",
   "execution_count": 15,
   "metadata": {},
   "outputs": [
    {
     "name": "stdout",
     "output_type": "stream",
     "text": [
      "[1, 2, 3, 4, 5, 6] <list_iterator object at 0x000001F7A677C250>\n"
     ]
    }
   ],
   "source": [
    "print(li,li2)"
   ]
  },
  {
   "cell_type": "code",
   "execution_count": 16,
   "metadata": {},
   "outputs": [
    {
     "data": {
      "text/plain": [
       "1"
      ]
     },
     "execution_count": 16,
     "metadata": {},
     "output_type": "execute_result"
    }
   ],
   "source": [
    "next(li2)"
   ]
  },
  {
   "cell_type": "code",
   "execution_count": 17,
   "metadata": {},
   "outputs": [
    {
     "data": {
      "text/plain": [
       "21"
      ]
     },
     "execution_count": 17,
     "metadata": {},
     "output_type": "execute_result"
    }
   ],
   "source": [
    "sum(li)"
   ]
  },
  {
   "cell_type": "code",
   "execution_count": 18,
   "metadata": {},
   "outputs": [
    {
     "name": "stdout",
     "output_type": "stream",
     "text": [
      "2\n"
     ]
    }
   ],
   "source": [
    "print(next(li2))"
   ]
  },
  {
   "cell_type": "code",
   "execution_count": 19,
   "metadata": {},
   "outputs": [
    {
     "name": "stdout",
     "output_type": "stream",
     "text": [
      "3\n",
      "4\n",
      "5\n",
      "6\n"
     ]
    }
   ],
   "source": [
    "for i in range(4):\n",
    "    print(next(li2))"
   ]
  },
  {
   "cell_type": "markdown",
   "metadata": {},
   "source": [
    "### Generator"
   ]
  },
  {
   "cell_type": "code",
   "execution_count": 20,
   "metadata": {},
   "outputs": [],
   "source": [
    "def gen():\n",
    "    a=10\n",
    "    yield a\n",
    "    \n",
    "    a**=5\n",
    "    yield a\n",
    "    \n",
    "    a**=10\n",
    "    yield a"
   ]
  },
  {
   "cell_type": "code",
   "execution_count": 22,
   "metadata": {},
   "outputs": [],
   "source": [
    "g=gen()"
   ]
  },
  {
   "cell_type": "code",
   "execution_count": 23,
   "metadata": {},
   "outputs": [
    {
     "data": {
      "text/plain": [
       "10"
      ]
     },
     "execution_count": 23,
     "metadata": {},
     "output_type": "execute_result"
    }
   ],
   "source": [
    "next(g)"
   ]
  },
  {
   "cell_type": "code",
   "execution_count": 24,
   "metadata": {},
   "outputs": [
    {
     "data": {
      "text/plain": [
       "100000"
      ]
     },
     "execution_count": 24,
     "metadata": {},
     "output_type": "execute_result"
    }
   ],
   "source": [
    "next(g)"
   ]
  },
  {
   "cell_type": "code",
   "execution_count": 25,
   "metadata": {},
   "outputs": [
    {
     "data": {
      "text/plain": [
       "100000000000000000000000000000000000000000000000000"
      ]
     },
     "execution_count": 25,
     "metadata": {},
     "output_type": "execute_result"
    }
   ],
   "source": [
    "next(g)"
   ]
  },
  {
   "cell_type": "code",
   "execution_count": 26,
   "metadata": {},
   "outputs": [],
   "source": [
    "li = range(0,100)"
   ]
  },
  {
   "cell_type": "code",
   "execution_count": 27,
   "metadata": {},
   "outputs": [
    {
     "name": "stdout",
     "output_type": "stream",
     "text": [
      "0\n",
      "1\n",
      "2\n",
      "3\n",
      "4\n",
      "5\n",
      "6\n",
      "7\n",
      "8\n",
      "9\n",
      "10\n"
     ]
    }
   ],
   "source": [
    "for i in li:\n",
    "    print(i)\n",
    "    if i==10:\n",
    "        break"
   ]
  },
  {
   "cell_type": "markdown",
   "metadata": {},
   "source": [
    "### Object Oriented Programming in Python"
   ]
  },
  {
   "cell_type": "markdown",
   "metadata": {},
   "source": [
    "- Attributes -> Variables created inside class\n",
    "- Method -> Function created inside the class\n",
    "- Class -> Blueprint for the object -> Design of a thing\n",
    "- Object -> Instance of the class -> It occupies memory\n",
    "\n",
    "\n",
    "### Structure \n",
    "\n",
    "```python\n",
    "\n",
    "class ClassName:\n",
    "    \n",
    "    \"\"\"Doc String\"\"\"\n",
    "    Attributes\n",
    "    Methods\n",
    "```"
   ]
  },
  {
   "cell_type": "code",
   "execution_count": 28,
   "metadata": {},
   "outputs": [],
   "source": [
    "class Student:\n",
    "    \"\"\"This is the Blueprint created for student ID card\"\"\"\n",
    "    pass\n"
   ]
  },
  {
   "cell_type": "code",
   "execution_count": 29,
   "metadata": {},
   "outputs": [],
   "source": [
    "apssdc = Student()"
   ]
  },
  {
   "cell_type": "code",
   "execution_count": 30,
   "metadata": {},
   "outputs": [],
   "source": [
    "class Student2:\n",
    "    pass\n",
    "    "
   ]
  },
  {
   "cell_type": "code",
   "execution_count": 31,
   "metadata": {},
   "outputs": [
    {
     "name": "stdout",
     "output_type": "stream",
     "text": [
      "<__main__.Student object at 0x000001F7A677C2E0>\n"
     ]
    }
   ],
   "source": [
    "print(apssdc)"
   ]
  },
  {
   "cell_type": "code",
   "execution_count": 32,
   "metadata": {},
   "outputs": [
    {
     "data": {
      "text/plain": [
       "'This is the Blueprint created for student ID card'"
      ]
     },
     "execution_count": 32,
     "metadata": {},
     "output_type": "execute_result"
    }
   ],
   "source": [
    "apssdc.__doc__"
   ]
  },
  {
   "cell_type": "code",
   "execution_count": 33,
   "metadata": {},
   "outputs": [
    {
     "data": {
      "text/plain": [
       "'This is the Blueprint created for student ID card'"
      ]
     },
     "execution_count": 33,
     "metadata": {},
     "output_type": "execute_result"
    }
   ],
   "source": [
    "Student.__doc__"
   ]
  },
  {
   "cell_type": "code",
   "execution_count": 34,
   "metadata": {},
   "outputs": [],
   "source": [
    "class Student:\n",
    "    \"\"\"This is the Blueprint created for student ID card\"\"\"\n",
    "    clg='APSSDC'\n",
    "    branch='Data Science'\n",
    "    clgAdd='Tadepalli,Guntur'"
   ]
  },
  {
   "cell_type": "code",
   "execution_count": 37,
   "metadata": {},
   "outputs": [],
   "source": [
    "std  = Student()\n",
    "std2 = Student()"
   ]
  },
  {
   "cell_type": "code",
   "execution_count": 38,
   "metadata": {},
   "outputs": [
    {
     "data": {
      "text/plain": [
       "'APSSDC'"
      ]
     },
     "execution_count": 38,
     "metadata": {},
     "output_type": "execute_result"
    }
   ],
   "source": [
    "apssdc.clg"
   ]
  },
  {
   "cell_type": "code",
   "execution_count": 39,
   "metadata": {},
   "outputs": [
    {
     "data": {
      "text/plain": [
       "'APSSDC'"
      ]
     },
     "execution_count": 39,
     "metadata": {},
     "output_type": "execute_result"
    }
   ],
   "source": [
    "std2.clg"
   ]
  },
  {
   "cell_type": "code",
   "execution_count": 40,
   "metadata": {},
   "outputs": [
    {
     "data": {
      "text/plain": [
       "'Tadepalli,Guntur'"
      ]
     },
     "execution_count": 40,
     "metadata": {},
     "output_type": "execute_result"
    }
   ],
   "source": [
    "std.clgAdd"
   ]
  },
  {
   "cell_type": "code",
   "execution_count": 42,
   "metadata": {},
   "outputs": [],
   "source": [
    "class Student:\n",
    "    \"\"\"This is the Blueprint created for student ID card\"\"\"\n",
    "    clg='APSSDC'\n",
    "    branch='Data Science'\n",
    "    clgAdd='Tadepalli,Guntur'\n",
    "    def __init__(self):\n",
    "        print(\"Student object is created\")"
   ]
  },
  {
   "cell_type": "code",
   "execution_count": 43,
   "metadata": {},
   "outputs": [
    {
     "name": "stdout",
     "output_type": "stream",
     "text": [
      "Student object is created\n",
      "Student object is created\n"
     ]
    }
   ],
   "source": [
    "std  = Student()\n",
    "std2 = Student()"
   ]
  },
  {
   "cell_type": "code",
   "execution_count": 49,
   "metadata": {},
   "outputs": [],
   "source": [
    "class Student:\n",
    "    \"\"\"This is the Blueprint created for student ID card\"\"\"\n",
    "    clg='APSSDC'\n",
    "    branch='Data Science'\n",
    "    clgAdd='Tadepalli,Guntur'\n",
    "    def __init__(self,name,rollNo,mobileNo):\n",
    "        self.name=name\n",
    "        self.rollNo=rollNo\n",
    "        self.mobileNo=mobileNo\n",
    "        print(\"{} object is created\".format(self.name))"
   ]
  },
  {
   "cell_type": "code",
   "execution_count": 50,
   "metadata": {},
   "outputs": [
    {
     "name": "stdout",
     "output_type": "stream",
     "text": [
      "Python object is created\n",
      "data object is created\n"
     ]
    }
   ],
   "source": [
    "std  = Student('Python','123456','9876543210')\n",
    "std2 = Student('data','987654302','82624862587')"
   ]
  },
  {
   "cell_type": "code",
   "execution_count": 51,
   "metadata": {},
   "outputs": [
    {
     "data": {
      "text/plain": [
       "'Python'"
      ]
     },
     "execution_count": 51,
     "metadata": {},
     "output_type": "execute_result"
    }
   ],
   "source": [
    "std.name"
   ]
  },
  {
   "cell_type": "code",
   "execution_count": 52,
   "metadata": {},
   "outputs": [
    {
     "data": {
      "text/plain": [
       "'data'"
      ]
     },
     "execution_count": 52,
     "metadata": {},
     "output_type": "execute_result"
    }
   ],
   "source": [
    "std2.name"
   ]
  },
  {
   "cell_type": "code",
   "execution_count": 54,
   "metadata": {},
   "outputs": [
    {
     "data": {
      "text/plain": [
       "('APSSDC', 'APSSDC')"
      ]
     },
     "execution_count": 54,
     "metadata": {},
     "output_type": "execute_result"
    }
   ],
   "source": [
    "std.clg,std2.clg"
   ]
  },
  {
   "cell_type": "code",
   "execution_count": 61,
   "metadata": {},
   "outputs": [],
   "source": [
    "class Student:\n",
    "    \"\"\"This is the Blueprint created for student ID card\"\"\"\n",
    "    clg='APSSDC'\n",
    "    branch='Data Science'\n",
    "    clgAdd='Tadepalli,Guntur'\n",
    "    def __init__(self,name,rollNo,mobileNo,python,java):\n",
    "        self.name=name\n",
    "        self.rollNo=rollNo\n",
    "        self.mobileNo=mobileNo\n",
    "        self.python=python\n",
    "        self.java=java\n",
    "        print(\"{} object is created\".format(self.name))\n",
    "    def average(self):\n",
    "        average=(self.python+self.java)/2\n",
    "        return average\n",
    "    def py_status(self):\n",
    "        if self.python >= 40:\n",
    "            print(\"you have passed the subject\")\n",
    "        else:\n",
    "            print(\" you have failed python subject\")\n",
    "    def java_status(self):\n",
    "        if self.python >= 40:\n",
    "            print(\"you have passed the subject\")\n",
    "        else:\n",
    "            print(\" you have failed java subject\")"
   ]
  },
  {
   "cell_type": "code",
   "execution_count": 62,
   "metadata": {},
   "outputs": [
    {
     "name": "stdout",
     "output_type": "stream",
     "text": [
      "Python object is created\n",
      "data object is created\n"
     ]
    }
   ],
   "source": [
    "std  = Student('Python','123456','9876543210',85,65)\n",
    "std2 = Student('data','987654302','82624862587',65,85)"
   ]
  },
  {
   "cell_type": "code",
   "execution_count": 63,
   "metadata": {},
   "outputs": [
    {
     "data": {
      "text/plain": [
       "75.0"
      ]
     },
     "execution_count": 63,
     "metadata": {},
     "output_type": "execute_result"
    }
   ],
   "source": [
    "std.average()"
   ]
  },
  {
   "cell_type": "code",
   "execution_count": 64,
   "metadata": {},
   "outputs": [
    {
     "data": {
      "text/plain": [
       "75.0"
      ]
     },
     "execution_count": 64,
     "metadata": {},
     "output_type": "execute_result"
    }
   ],
   "source": [
    "std2.average()"
   ]
  },
  {
   "cell_type": "code",
   "execution_count": 65,
   "metadata": {},
   "outputs": [
    {
     "name": "stdout",
     "output_type": "stream",
     "text": [
      "85 65\n"
     ]
    }
   ],
   "source": [
    "print(std.python,std2.python)"
   ]
  },
  {
   "cell_type": "code",
   "execution_count": 66,
   "metadata": {},
   "outputs": [
    {
     "name": "stdout",
     "output_type": "stream",
     "text": [
      "you have passed the subject\n"
     ]
    }
   ],
   "source": [
    "std.java_status()"
   ]
  },
  {
   "cell_type": "code",
   "execution_count": 76,
   "metadata": {},
   "outputs": [],
   "source": [
    "class Student:\n",
    "    \"\"\"This is the Blueprint created for student ID card\"\"\"\n",
    "    clg='APSSDC'\n",
    "    branch='Data Science'\n",
    "    clgAdd='Tadepalli,Guntur'\n",
    "    def __init__(self,name,rollNo,mobileNo,python,java): #constructor\n",
    "        self.name=name\n",
    "        self.rollNo=rollNo\n",
    "        self.mobileNo=mobileNo\n",
    "        self.python=python\n",
    "        self.java=java\n",
    "        print(\"{} object is created\".format(self.name))\n",
    "    def average(self):\n",
    "        average=(self.python+self.java)/2\n",
    "        return average\n",
    "    def py_status(self):\n",
    "        if self.python >= 40:\n",
    "            print(\"you have passed the subject\")\n",
    "        else:\n",
    "            print(\" you have failed python subject\")\n",
    "    def java_status(self):\n",
    "        if self.python >= 40:\n",
    "            print(\"you have passed the subject\")\n",
    "        else:\n",
    "            print(\" you have failed java subject\")\n",
    "    def __str__(self):\n",
    "        return \"This class belongs to {}\".format(self.name)\n",
    "    def __del__(self):# destructor\n",
    "        print(\"{} data has deleted\".format(self.name))\n",
    "        "
   ]
  },
  {
   "cell_type": "code",
   "execution_count": 77,
   "metadata": {},
   "outputs": [
    {
     "name": "stdout",
     "output_type": "stream",
     "text": [
      "Python object is created\n",
      "data object is created\n"
     ]
    }
   ],
   "source": [
    "std  = Student('Python','123456','9876543210',85,65)\n",
    "std2 = Student('data','987654302','82624862587',65,85)"
   ]
  },
  {
   "cell_type": "code",
   "execution_count": 79,
   "metadata": {},
   "outputs": [
    {
     "name": "stdout",
     "output_type": "stream",
     "text": [
      "Python data has deleted\n"
     ]
    }
   ],
   "source": [
    "std=5"
   ]
  },
  {
   "cell_type": "markdown",
   "metadata": {},
   "source": [
    "### Types of methods\n",
    "\n",
    "- Instance Method\n",
    "- Class method\n",
    "- Static Method"
   ]
  },
  {
   "cell_type": "code",
   "execution_count": 85,
   "metadata": {},
   "outputs": [],
   "source": [
    "class Student:\n",
    "    \"\"\"This is the Blueprint created for student ID card\"\"\"\n",
    "    clg='APSSDC'\n",
    "    branch='Data Science'\n",
    "    clgAdd='Tadepalli,Guntur'\n",
    "    def __init__(self,name,rollNo,mobileNo,python,java): #constructor\n",
    "        self.name=name\n",
    "        self.rollNo=rollNo\n",
    "        self.mobileNo=mobileNo\n",
    "        self.python=python\n",
    "        self.java=java\n",
    "        print(\"{} object is created\".format(self.name))\n",
    "    def average(self):\n",
    "        average=(self.python+self.java)/2\n",
    "        return average\n",
    "    def py_status(self):\n",
    "        if self.python >= 40:\n",
    "            print(\"you have passed the subject\")\n",
    "        else:\n",
    "            print(\" you have failed python subject\")\n",
    "    def java_status(self):\n",
    "        if self.python >= 40:\n",
    "            print(\"you have passed the subject\")\n",
    "        else:\n",
    "            print(\" you have failed java subject\")\n",
    "    def __str__(self):\n",
    "        return \"This class belongs to {}\".format(self.name)\n",
    "    def __del__(self):# destructor\n",
    "        print(\"{} data has deleted\".format(self.name))\n",
    "\n",
    "        \n",
    "        \n",
    "    @staticmethod  # Decorator\n",
    "    \n",
    "    def clgNo():\n",
    "        return 1234567890\n",
    "    \n",
    "    @classmethod\n",
    "    \n",
    "    def ClgName(cls):\n",
    "        return cls.clg"
   ]
  },
  {
   "cell_type": "code",
   "execution_count": 86,
   "metadata": {},
   "outputs": [
    {
     "data": {
      "text/plain": [
       "1234567890"
      ]
     },
     "execution_count": 86,
     "metadata": {},
     "output_type": "execute_result"
    }
   ],
   "source": [
    "Student.clgNo()"
   ]
  },
  {
   "cell_type": "code",
   "execution_count": 87,
   "metadata": {},
   "outputs": [
    {
     "data": {
      "text/plain": [
       "'APSSDC'"
      ]
     },
     "execution_count": 87,
     "metadata": {},
     "output_type": "execute_result"
    }
   ],
   "source": [
    "Student.ClgName()"
   ]
  },
  {
   "cell_type": "markdown",
   "metadata": {},
   "source": [
    "- Encapsulation\n",
    "- Polymorphism\n",
    "- Inheritance\n",
    "  - Types\n",
    "    - Multi Level\n",
    "    - Hybrid\n",
    "    - Multiple\n",
    "    - Hierarchy\n",
    "  - Operator Overloading\n",
    "  - Method Overloading\n",
    "- Abstraction"
   ]
  },
  {
   "cell_type": "code",
   "execution_count": null,
   "metadata": {},
   "outputs": [],
   "source": []
  }
 ],
 "metadata": {
  "kernelspec": {
   "display_name": "Python 3",
   "language": "python",
   "name": "python3"
  },
  "language_info": {
   "codemirror_mode": {
    "name": "ipython",
    "version": 3
   },
   "file_extension": ".py",
   "mimetype": "text/x-python",
   "name": "python",
   "nbconvert_exporter": "python",
   "pygments_lexer": "ipython3",
   "version": "3.8.5"
  }
 },
 "nbformat": 4,
 "nbformat_minor": 4
}
