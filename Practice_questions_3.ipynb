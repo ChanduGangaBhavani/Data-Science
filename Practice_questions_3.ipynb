{
 "cells": [
  {
   "cell_type": "markdown",
   "metadata": {},
   "source": [
    "### Contact Application\n",
    "\n",
    "\n",
    "\n",
    "{'Name': ['Mobile1','mobile2','email','DOB','website']}\n",
    "\n",
    "Take the input from the user\n",
    "\n",
    " 1. Create a contact\n",
    " 2. add the contact to existing contact ->key -> value\n",
    " 3. edit the contact -->Key ->value\n",
    " 4. delete the cotact --> key -->Name\n",
    " 5. view contact ->key"
   ]
  },
  {
   "cell_type": "code",
   "execution_count": 2,
   "metadata": {},
   "outputs": [
    {
     "name": "stdout",
     "output_type": "stream",
     "text": [
      "enter the option:\n"
     ]
    }
   ],
   "source": [
    "contact ={}\n",
    "option=input(\"enter the option:\")\n",
    "if option =='1':\n",
    "    key = input(\"enter the contact name:\")\n",
    "    value=input(\"enter details\").split()\n",
    "    contact[key]=value"
   ]
  },
  {
   "cell_type": "code",
   "execution_count": 3,
   "metadata": {},
   "outputs": [
    {
     "name": "stdout",
     "output_type": "stream",
     "text": [
      "enter the option:\n"
     ]
    }
   ],
   "source": [
    "option=input(\"enter the option:\")\n",
    "if option =='2':\n",
    "        name=input(\"enter the name to add the existing\")\n",
    "        if name in contact:\n",
    "            data=input(\"enter the data to update\").split()\n",
    "            contact[name].extend(data)\n",
    "        else:\n",
    "            print(name,\"contact is not available\")\n"
   ]
  },
  {
   "cell_type": "code",
   "execution_count": 22,
   "metadata": {},
   "outputs": [
    {
     "name": "stdout",
     "output_type": "stream",
     "text": [
      "{'pavani': ['876', '765']}\n"
     ]
    }
   ],
   "source": [
    "print(contact)"
   ]
  },
  {
   "cell_type": "code",
   "execution_count": 1,
   "metadata": {},
   "outputs": [
    {
     "name": "stdout",
     "output_type": "stream",
     "text": [
      "enter the option:1\n",
      "enter the contact name:b\n",
      "enter details:876\n",
      "enter exit if finished:no\n",
      "enter the option:2\n",
      "enter the name to add the existing:b\n",
      "enter the data to update:678\n",
      "enter exit if finished:no\n",
      "enter the option:3\n",
      "what do u want to change? name/number?name\n",
      "enter the contact name to be edited:b\n",
      "enter the new name:bh\n",
      "enter exit if finished:no\n",
      "enter the option:4\n",
      "enter the contact name to be deleted:bhavani\n",
      "enter exit if finished:no\n",
      "enter the option:5\n",
      "enter the contact name:pavani\n",
      "[9866442862]\n",
      "enter exit if finished:exit\n",
      "{'pavani': [9866442862], 'bh': ['876', '678']}\n"
     ]
    }
   ],
   "source": [
    "contact ={'pavani':[9866442862],'bhavani':[123456]}\n",
    "for i in range(0,5):\n",
    "    option=input(\"enter the option:\")\n",
    "    if option =='1':\n",
    "        key = input(\"enter the contact name:\")\n",
    "        value=input(\"enter details:\").split()\n",
    "        contact[key]=value\n",
    "    elif option =='2':\n",
    "        name=input(\"enter the name to add the existing:\")\n",
    "        if name in contact:\n",
    "            data=input(\"enter the data to update:\").split()\n",
    "            contact[name].extend(data)\n",
    "        else:\n",
    "            print(name,\"contact is not available\")\n",
    "    elif option=='3':\n",
    "            a=input(\"what do u want to change? name/number?\")\n",
    "            if a=='name':\n",
    "                name=input(\"enter the contact name to be edited:\")\n",
    "                if name in contact:\n",
    "                    key=input(\"enter the new name:\")\n",
    "                    contact[key]=contact[name]\n",
    "                    del contact[name]\n",
    "            else:\n",
    "                name=input(\"enter the name:\")\n",
    "                val=input(\"enter the new number:\")\n",
    "                contact[name]=val\n",
    "    elif option=='4':\n",
    "        key=input(\"enter the contact name to be deleted:\")\n",
    "        contact.pop(key)\n",
    "    elif option=='5':\n",
    "        name=input(\"enter the contact name:\")\n",
    "        print(contact[name])\n",
    "    else:\n",
    "        print(\"enter valid option\")\n",
    "    \n",
    "    x=input(\"enter exit if finished:\")\n",
    "    if x=='exit':\n",
    "        print(contact)\n",
    "        break\n"
   ]
  },
  {
   "cell_type": "code",
   "execution_count": null,
   "metadata": {},
   "outputs": [],
   "source": []
  },
  {
   "cell_type": "code",
   "execution_count": null,
   "metadata": {},
   "outputs": [],
   "source": []
  }
 ],
 "metadata": {
  "kernelspec": {
   "display_name": "Python 3",
   "language": "python",
   "name": "python3"
  },
  "language_info": {
   "codemirror_mode": {
    "name": "ipython",
    "version": 3
   },
   "file_extension": ".py",
   "mimetype": "text/x-python",
   "name": "python",
   "nbconvert_exporter": "python",
   "pygments_lexer": "ipython3",
   "version": "3.8.5"
  }
 },
 "nbformat": 4,
 "nbformat_minor": 4
}
