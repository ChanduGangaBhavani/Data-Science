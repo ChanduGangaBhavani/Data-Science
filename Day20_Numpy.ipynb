{
 "cells": [
  {
   "cell_type": "markdown",
   "metadata": {},
   "source": [
    "### Day Agenda\n",
    "- Data Science Life Cycle\n",
    "- Data Science Libraries"
   ]
  },
  {
   "cell_type": "markdown",
   "metadata": {},
   "source": [
    "### Data Science Life Cycle"
   ]
  },
  {
   "cell_type": "markdown",
   "metadata": {},
   "source": [
    "It involves 6-7 steps\n",
    "1. Business Understanding\n",
    "2. Data Preparation\n",
    "3. Data Munging/Data Wrangling\n",
    "    - feature selection\n",
    "    - EDA(Exploratory data analysis)Tools\n",
    "4. Model training\n",
    "5. Model evaluation\n",
    "6. Model Deployment\n",
    "    - aws\n",
    "    - IBM waston studio\n",
    "7. Model tracking"
   ]
  },
  {
   "cell_type": "markdown",
   "metadata": {},
   "source": [
    "### Data Analysis Libraries\n",
    "- numpy\n",
    "- pandas\n",
    "- matplotlib\n",
    "- seaborn\n",
    "- scipy"
   ]
  },
  {
   "cell_type": "markdown",
   "metadata": {},
   "source": [
    "## Numpy"
   ]
  },
  {
   "cell_type": "markdown",
   "metadata": {},
   "source": [
    "- Numerical Python\n",
    "- Developed in 2005 by Travis oliphant\n",
    "- Create arrays \n",
    "    - Zero dimensional array\n",
    "    - Single dimensional array\n",
    "    - Two dimensional array\n",
    "    - Multi dimensional array\n",
    "- Linear algebra,Fourier Transforms,materics"
   ]
  },
  {
   "cell_type": "code",
   "execution_count": 3,
   "metadata": {},
   "outputs": [],
   "source": [
    "import numpy"
   ]
  },
  {
   "cell_type": "code",
   "execution_count": 5,
   "metadata": {},
   "outputs": [],
   "source": [
    "import numpy as np"
   ]
  },
  {
   "cell_type": "code",
   "execution_count": 7,
   "metadata": {},
   "outputs": [
    {
     "data": {
      "text/plain": [
       "'1.19.2'"
      ]
     },
     "execution_count": 7,
     "metadata": {},
     "output_type": "execute_result"
    }
   ],
   "source": [
    "np.__version__"
   ]
  },
  {
   "cell_type": "markdown",
   "metadata": {},
   "source": [
    "## Creating arrays"
   ]
  },
  {
   "cell_type": "code",
   "execution_count": 9,
   "metadata": {},
   "outputs": [
    {
     "name": "stdout",
     "output_type": "stream",
     "text": [
      "23\n"
     ]
    }
   ],
   "source": [
    "import numpy as np\n",
    "x=np.array(23)\n",
    "print(x)"
   ]
  },
  {
   "cell_type": "code",
   "execution_count": 10,
   "metadata": {},
   "outputs": [
    {
     "data": {
      "text/plain": [
       "0"
      ]
     },
     "execution_count": 10,
     "metadata": {},
     "output_type": "execute_result"
    }
   ],
   "source": [
    "##check the dimension\n",
    "np.ndim(x)"
   ]
  },
  {
   "cell_type": "code",
   "execution_count": 13,
   "metadata": {},
   "outputs": [
    {
     "name": "stdout",
     "output_type": "stream",
     "text": [
      "[12 23  4  5  6]\n",
      "1\n"
     ]
    }
   ],
   "source": [
    "##1-D array\n",
    "x1=np.array([12,23,4,5,6])\n",
    "print(x1)\n",
    "print(np.ndim(x1))"
   ]
  },
  {
   "cell_type": "code",
   "execution_count": 16,
   "metadata": {},
   "outputs": [
    {
     "name": "stdout",
     "output_type": "stream",
     "text": [
      "[[1 2 3]\n",
      " [5 6 7]]\n",
      "2\n"
     ]
    }
   ],
   "source": [
    "##2-D Array\n",
    "x2=np.array([[1,2,3],[5,6,7]])\n",
    "print(x2)\n",
    "print(np.ndim(x2))"
   ]
  },
  {
   "cell_type": "code",
   "execution_count": 17,
   "metadata": {},
   "outputs": [
    {
     "data": {
      "text/plain": [
       "6"
      ]
     },
     "execution_count": 17,
     "metadata": {},
     "output_type": "execute_result"
    }
   ],
   "source": [
    "## to get the no.of elements\n",
    "np.size(x2)"
   ]
  },
  {
   "cell_type": "code",
   "execution_count": 18,
   "metadata": {},
   "outputs": [
    {
     "data": {
      "text/plain": [
       "(2, 3)"
      ]
     },
     "execution_count": 18,
     "metadata": {},
     "output_type": "execute_result"
    }
   ],
   "source": [
    "## To get no.of rows and columns\n",
    "np.shape(x2)"
   ]
  },
  {
   "cell_type": "code",
   "execution_count": 19,
   "metadata": {},
   "outputs": [
    {
     "name": "stdout",
     "output_type": "stream",
     "text": [
      "[[[1 2 3]\n",
      "  [4 5 6]\n",
      "  [7 8 9]]]\n",
      "3\n"
     ]
    }
   ],
   "source": [
    "## 3-D Array\n",
    "x3=np.array([[[1,2,3],[4,5,6],[7,8,9]]])\n",
    "print(x3)\n",
    "print(np.ndim(x3))"
   ]
  },
  {
   "cell_type": "markdown",
   "metadata": {},
   "source": [
    "## Methods to create arrays\n",
    "- Zeros\n",
    "- Ones\n",
    "- linspace\n",
    "- logspace\n",
    "- arange"
   ]
  },
  {
   "cell_type": "code",
   "execution_count": 22,
   "metadata": {},
   "outputs": [
    {
     "name": "stdout",
     "output_type": "stream",
     "text": [
      "[0. 0.]\n"
     ]
    }
   ],
   "source": [
    "a0=np.zeros(2)\n",
    "print(a0)"
   ]
  },
  {
   "cell_type": "code",
   "execution_count": 24,
   "metadata": {},
   "outputs": [
    {
     "name": "stdout",
     "output_type": "stream",
     "text": [
      "[1 1 1 1 1]\n"
     ]
    }
   ],
   "source": [
    "a1=np.ones(5,dtype=int)\n",
    "print(a1)"
   ]
  },
  {
   "cell_type": "code",
   "execution_count": 28,
   "metadata": {},
   "outputs": [],
   "source": [
    "a=np.arange(1,12,2)"
   ]
  },
  {
   "cell_type": "code",
   "execution_count": 29,
   "metadata": {},
   "outputs": [
    {
     "name": "stdout",
     "output_type": "stream",
     "text": [
      "[ 1  3  5  7  9 11]\n"
     ]
    },
    {
     "data": {
      "text/plain": [
       "6"
      ]
     },
     "execution_count": 29,
     "metadata": {},
     "output_type": "execute_result"
    }
   ],
   "source": [
    "print(a)\n",
    "np.size(a)"
   ]
  },
  {
   "cell_type": "code",
   "execution_count": 30,
   "metadata": {},
   "outputs": [],
   "source": [
    "a1=a.reshape(2,3)"
   ]
  },
  {
   "cell_type": "code",
   "execution_count": 31,
   "metadata": {},
   "outputs": [
    {
     "data": {
      "text/plain": [
       "array([[ 1,  3,  5],\n",
       "       [ 7,  9, 11]])"
      ]
     },
     "execution_count": 31,
     "metadata": {},
     "output_type": "execute_result"
    }
   ],
   "source": [
    "a1"
   ]
  },
  {
   "cell_type": "code",
   "execution_count": 32,
   "metadata": {},
   "outputs": [
    {
     "name": "stdout",
     "output_type": "stream",
     "text": [
      "[1.00000000e+01 1.20679264e+01 1.45634848e+01 1.75751062e+01\n",
      " 2.12095089e+01 2.55954792e+01 3.08884360e+01 3.72759372e+01\n",
      " 4.49843267e+01 5.42867544e+01 6.55128557e+01 7.90604321e+01\n",
      " 9.54095476e+01 1.15139540e+02 1.38949549e+02 1.67683294e+02\n",
      " 2.02358965e+02 2.44205309e+02 2.94705170e+02 3.55648031e+02\n",
      " 4.29193426e+02 5.17947468e+02 6.25055193e+02 7.54312006e+02\n",
      " 9.10298178e+02 1.09854114e+03 1.32571137e+03 1.59985872e+03\n",
      " 1.93069773e+03 2.32995181e+03 2.81176870e+03 3.39322177e+03\n",
      " 4.09491506e+03 4.94171336e+03 5.96362332e+03 7.19685673e+03\n",
      " 8.68511374e+03 1.04811313e+04 1.26485522e+04 1.52641797e+04\n",
      " 1.84206997e+04 2.22299648e+04 2.68269580e+04 3.23745754e+04\n",
      " 3.90693994e+04 4.71486636e+04 5.68986603e+04 6.86648845e+04\n",
      " 8.28642773e+04 1.00000000e+05]\n"
     ]
    }
   ],
   "source": [
    "li=np.logspace(1,5)\n",
    "print(li)"
   ]
  },
  {
   "cell_type": "code",
   "execution_count": 34,
   "metadata": {},
   "outputs": [],
   "source": [
    "r=np.random.rand(3,2)"
   ]
  },
  {
   "cell_type": "code",
   "execution_count": 35,
   "metadata": {},
   "outputs": [
    {
     "name": "stdout",
     "output_type": "stream",
     "text": [
      "[[0.29268204 0.57610991]\n",
      " [0.82070846 0.64917356]\n",
      " [0.88914383 0.18182365]]\n"
     ]
    }
   ],
   "source": [
    "print(r)"
   ]
  },
  {
   "cell_type": "markdown",
   "metadata": {},
   "source": [
    "## Accessing elements in Arrays\n",
    "1. Indexing\n",
    "    - +ve\n",
    "    - -ve\n",
    "2. Slicing\n",
    "    - [start:stop:step]\n",
    "3.Loop\n",
    "    - for\n",
    "    - while"
   ]
  },
  {
   "cell_type": "code",
   "execution_count": null,
   "metadata": {},
   "outputs": [],
   "source": []
  }
 ],
 "metadata": {
  "kernelspec": {
   "display_name": "Python 3",
   "language": "python",
   "name": "python3"
  },
  "language_info": {
   "codemirror_mode": {
    "name": "ipython",
    "version": 3
   },
   "file_extension": ".py",
   "mimetype": "text/x-python",
   "name": "python",
   "nbconvert_exporter": "python",
   "pygments_lexer": "ipython3",
   "version": "3.8.5"
  }
 },
 "nbformat": 4,
 "nbformat_minor": 4
}
