{
 "cells": [
  {
   "cell_type": "markdown",
   "metadata": {},
   "source": [
    "##                 Data Visualization using Matplotlib"
   ]
  },
  {
   "cell_type": "markdown",
   "metadata": {},
   "source": [
    "## Objectives\n",
    "\n",
    "- Data viz. using Python\n",
    "- Tools for Data Viz\n",
    "- History of Matplotlib\n",
    "- Different plots\n",
    "    - Line plot\n",
    "    - Scatter plot\n",
    "    - Histogram\n",
    "    - Bar Graph\n",
    "    - Box plot\n",
    "    - Pie Chart\n",
    "    \n",
    "    \n",
    "### Data viz\n",
    "Finding the insights from the data\n",
    "\n",
    "### Tools for Data Viz.\n",
    "\n",
    "- MS PowerBI\n",
    "- Tableau\n",
    "- MS Excel/GSheets\n",
    "- Data Lab -> GCP\n",
    "- SAS\n",
    "\n",
    "### Programming\n",
    "\n",
    "- Python -> Matplotlib, Seaborn, plotly,Bokeh,geoplotlib\n",
    "- R-Programming -> ggplot\n",
    "- JS\n"
   ]
  },
  {
   "cell_type": "code",
   "execution_count": null,
   "metadata": {},
   "outputs": [],
   "source": []
  }
 ],
 "metadata": {
  "kernelspec": {
   "display_name": "Python 3",
   "language": "python",
   "name": "python3"
  },
  "language_info": {
   "codemirror_mode": {
    "name": "ipython",
    "version": 3
   },
   "file_extension": ".py",
   "mimetype": "text/x-python",
   "name": "python",
   "nbconvert_exporter": "python",
   "pygments_lexer": "ipython3",
   "version": "3.8.5"
  }
 },
 "nbformat": 4,
 "nbformat_minor": 4
}
